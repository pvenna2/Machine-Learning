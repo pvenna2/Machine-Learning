{
 "cells": [
  {
   "cell_type": "code",
   "execution_count": 1,
   "id": "2892d9aa",
   "metadata": {
    "id": "2892d9aa"
   },
   "outputs": [],
   "source": [
    "#Imports\n",
    "\n",
    "import numpy as np\n",
    "import pandas as pd\n",
    "import matplotlib.pyplot as plt\n",
    "from matplotlib import legend\n",
    "from mpl_toolkits.mplot3d import axes3d\n",
    "from sklearn.datasets import make_regression\n",
    "import random "
   ]
  },
  {
   "cell_type": "markdown",
   "id": "ce8f4184",
   "metadata": {
    "id": "ce8f4184"
   },
   "source": [
    "# **1. Gradient Descent (6pt)**"
   ]
  },
  {
   "cell_type": "markdown",
   "id": "b327ae03",
   "metadata": {
    "id": "b327ae03"
   },
   "source": [
    "#### 1. Batch Gradient Descent (BGD) procedure."
   ]
  },
  {
   "cell_type": "code",
   "execution_count": 2,
   "id": "b4762684",
   "metadata": {
    "id": "b4762684"
   },
   "outputs": [],
   "source": [
    "def mean_sq_loss(df, theta):\n",
    "  \n",
    "  #Split the data  to features and label\n",
    "  X = df.iloc[:, :-1].values\n",
    "  Y = df.iloc[:, -1].values\n",
    "\n",
    "  #calculate hypothesis/prediction: h(x) = sum(theta_i.xi)\n",
    "  h = X.dot(theta)\n",
    "\n",
    "  #mean square loss\n",
    "  return np.square(h-Y).mean()\n",
    "\n",
    "def batch_gradient_descent(df, epoch, theta, alpha, gradient_function):\n",
    "\n",
    "  overall_loss = np.zeros(epoch)\n",
    "  iterates = np.zeros((epoch, theta.shape[0]))\n",
    "  gradients = np.zeros((epoch, theta.shape[0]))\n",
    "\n",
    "  for iteration in range(epoch):\n",
    "    #save current value of theta\n",
    "    iterates[iteration] = theta\n",
    "\n",
    "    #calculate gradient & save it for current iteration\n",
    "    gradients[iteration] = gradient_function(df, theta)\n",
    "\n",
    "    #update theta \n",
    "    theta = theta - alpha * gradients[iteration]\n",
    "\n",
    "    #save current value of loss\n",
    "    overall_loss[iteration] = mean_sq_loss(df, theta) \n",
    "\n",
    "  relative_change = theta - iterates[-1]\n",
    "\n",
    "  return theta, iterates, gradients, overall_loss, relative_change"
   ]
  },
  {
   "cell_type": "markdown",
   "id": "ae88e86c",
   "metadata": {
    "id": "ae88e86c"
   },
   "source": [
    "#### 1b. It should return:\n",
    "#### all iterates (as a list/numpy array),\n",
    "\n",
    "\n",
    "*   all iterates (as a list/numpy array),\n",
    "*   the final iterate (as a numpy array), and\n",
    "*  the absolute and relative changes corresponding to the final iterate (make suitable assumptions if needed)"
   ]
  },
  {
   "cell_type": "code",
   "execution_count": 3,
   "id": "07bd1b58",
   "metadata": {
    "colab": {
     "base_uri": "https://localhost:8080/"
    },
    "id": "07bd1b58",
    "outputId": "5c66b7c1-96f4-47e8-c3b0-ea88d22090d5"
   },
   "outputs": [
    {
     "name": "stdout",
     "output_type": "stream",
     "text": [
      "Iteration 1 \n",
      "X value is 2.84\n",
      "Iteration 2 \n",
      "X value is 2.6832\n",
      "Iteration 3 \n",
      "X value is 2.529536\n",
      "Iteration 4 \n",
      "X value is 2.37894528\n",
      "Iteration 5 \n",
      "X value is 2.2313663744\n",
      "Iteration 6 \n",
      "X value is 2.0867390469119997\n",
      "Iteration 7 \n",
      "X value is 1.9450042659737599\n",
      "Iteration 8 \n",
      "X value is 1.8061041806542846\n",
      "Iteration 9 \n",
      "X value is 1.669982097041199\n",
      "Iteration 10 \n",
      "X value is 1.5365824551003748\n",
      "Iteration 11 \n",
      "X value is 1.4058508059983674\n",
      "Iteration 12 \n",
      "X value is 1.2777337898784\n",
      "Iteration 13 \n",
      "X value is 1.152179114080832\n",
      "Iteration 14 \n",
      "X value is 1.0291355317992152\n",
      "Iteration 15 \n",
      "X value is 0.9085528211632309\n",
      "Iteration 16 \n",
      "X value is 0.7903817647399662\n",
      "Iteration 17 \n",
      "X value is 0.6745741294451669\n",
      "Iteration 18 \n",
      "X value is 0.5610826468562635\n",
      "Iteration 19 \n",
      "X value is 0.44986099391913825\n",
      "Iteration 20 \n",
      "X value is 0.3408637740407555\n",
      "Iteration 21 \n",
      "X value is 0.23404649855994042\n",
      "Iteration 22 \n",
      "X value is 0.1293655685887416\n",
      "Iteration 23 \n",
      "X value is 0.026778257216966764\n",
      "Iteration 24 \n",
      "X value is -0.07375730792737258\n",
      "Iteration 25 \n",
      "X value is -0.1722821617688251\n",
      "Iteration 26 \n",
      "X value is -0.2688365185334486\n",
      "Iteration 27 \n",
      "X value is -0.36345978816277963\n",
      "Iteration 28 \n",
      "X value is -0.45619059239952403\n",
      "Iteration 29 \n",
      "X value is -0.5470667805515336\n",
      "Iteration 30 \n",
      "X value is -0.6361254449405029\n",
      "Iteration 31 \n",
      "X value is -0.7234029360416929\n",
      "Iteration 32 \n",
      "X value is -0.8089348773208591\n",
      "Iteration 33 \n",
      "X value is -0.8927561797744419\n",
      "Iteration 34 \n",
      "X value is -0.9749010561789531\n",
      "Iteration 35 \n",
      "X value is -1.055403035055374\n",
      "Iteration 36 \n",
      "X value is -1.1342949743542665\n",
      "Iteration 37 \n",
      "X value is -1.2116090748671813\n",
      "Iteration 38 \n",
      "X value is -1.2873768933698377\n",
      "Iteration 39 \n",
      "X value is -1.361629355502441\n",
      "Iteration 40 \n",
      "X value is -1.4343967683923922\n",
      "Iteration 41 \n",
      "X value is -1.5057088330245443\n",
      "Iteration 42 \n",
      "X value is -1.5755946563640535\n",
      "Iteration 43 \n",
      "X value is -1.6440827632367725\n",
      "Iteration 44 \n",
      "X value is -1.711201107972037\n",
      "Iteration 45 \n",
      "X value is -1.7769770858125964\n",
      "Iteration 46 \n",
      "X value is -1.8414375440963444\n",
      "Iteration 47 \n",
      "X value is -1.9046087932144176\n",
      "Iteration 48 \n",
      "X value is -1.9665166173501292\n",
      "Iteration 49 \n",
      "X value is -2.0271862850031264\n",
      "Iteration 50 \n",
      "X value is -2.0866425593030637\n",
      "Iteration 51 \n",
      "X value is -2.1449097081170025\n",
      "Iteration 52 \n",
      "X value is -2.2020115139546625\n",
      "Iteration 53 \n",
      "X value is -2.257971283675569\n",
      "Iteration 54 \n",
      "X value is -2.312811858002058\n",
      "Iteration 55 \n",
      "X value is -2.3665556208420164\n",
      "Iteration 56 \n",
      "X value is -2.419224508425176\n",
      "Iteration 57 \n",
      "X value is -2.4708400182566725\n",
      "Iteration 58 \n",
      "X value is -2.521423217891539\n",
      "Iteration 59 \n",
      "X value is -2.570994753533708\n",
      "Iteration 60 \n",
      "X value is -2.619574858463034\n",
      "Iteration 61 \n",
      "X value is -2.667183361293773\n",
      "Iteration 62 \n",
      "X value is -2.713839694067898\n",
      "Iteration 63 \n",
      "X value is -2.75956290018654\n",
      "Iteration 64 \n",
      "X value is -2.804371642182809\n",
      "Iteration 65 \n",
      "X value is -2.8482842093391527\n",
      "Iteration 66 \n",
      "X value is -2.8913185251523696\n",
      "Iteration 67 \n",
      "X value is -2.9334921546493224\n",
      "Iteration 68 \n",
      "X value is -2.974822311556336\n",
      "Iteration 69 \n",
      "X value is -3.015325865325209\n",
      "Iteration 70 \n",
      "X value is -3.055019348018705\n",
      "Iteration 71 \n",
      "X value is -3.093918961058331\n",
      "Iteration 72 \n",
      "X value is -3.1320405818371646\n",
      "Iteration 73 \n",
      "X value is -3.1693997702004215\n",
      "Iteration 74 \n",
      "X value is -3.206011774796413\n",
      "Iteration 75 \n",
      "X value is -3.2418915393004846\n",
      "Iteration 76 \n",
      "X value is -3.277053708514475\n",
      "Iteration 77 \n",
      "X value is -3.3115126343441856\n",
      "Iteration 78 \n",
      "X value is -3.345282381657302\n",
      "Iteration 79 \n",
      "X value is -3.378376734024156\n",
      "Iteration 80 \n",
      "X value is -3.4108091993436727\n",
      "Iteration 81 \n",
      "X value is -3.4425930153567994\n",
      "Iteration 82 \n",
      "X value is -3.4737411550496633\n",
      "Iteration 83 \n",
      "X value is -3.50426633194867\n",
      "Iteration 84 \n",
      "X value is -3.534181005309697\n",
      "Iteration 85 \n",
      "X value is -3.563497385203503\n",
      "Iteration 86 \n",
      "X value is -3.5922274374994325\n",
      "Iteration 87 \n",
      "X value is -3.620382888749444\n",
      "Iteration 88 \n",
      "X value is -3.6479752309744553\n",
      "Iteration 89 \n",
      "X value is -3.675015726354966\n",
      "Iteration 90 \n",
      "X value is -3.7015154118278666\n",
      "Iteration 91 \n",
      "X value is -3.7274851035913095\n",
      "Iteration 92 \n",
      "X value is -3.7529354015194833\n",
      "Iteration 93 \n",
      "X value is -3.7778766934890937\n",
      "Iteration 94 \n",
      "X value is -3.8023191596193118\n",
      "Iteration 95 \n",
      "X value is -3.8262727764269258\n",
      "Iteration 96 \n",
      "X value is -3.8497473208983872\n",
      "Iteration 97 \n",
      "X value is -3.8727523744804193\n",
      "Iteration 98 \n",
      "X value is -3.895297326990811\n",
      "Iteration 99 \n",
      "X value is -3.917391380450995\n",
      "Iteration 100 \n",
      "X value is -3.939043552841975\n",
      "Iteration 101 \n",
      "X value is -3.9602626817851356\n",
      "Iteration 102 \n",
      "X value is -3.981057428149433\n",
      "Iteration 103 \n",
      "X value is -4.001436279586445\n",
      "Iteration 104 \n",
      "X value is -4.021407553994716\n",
      "Iteration 105 \n",
      "X value is -4.040979402914822\n",
      "Iteration 106 \n",
      "X value is -4.060159814856525\n",
      "Iteration 107 \n",
      "X value is -4.078956618559395\n",
      "Iteration 108 \n",
      "X value is -4.097377486188207\n",
      "Iteration 109 \n",
      "X value is -4.115429936464443\n",
      "Iteration 110 \n",
      "X value is -4.133121337735154\n",
      "Iteration 111 \n",
      "X value is -4.150458910980451\n",
      "Iteration 112 \n",
      "X value is -4.167449732760842\n",
      "Iteration 113 \n",
      "X value is -4.1841007381056246\n",
      "Iteration 114 \n",
      "X value is -4.200418723343512\n",
      "Iteration 115 \n",
      "X value is -4.216410348876642\n",
      "Iteration 116 \n",
      "X value is -4.2320821418991095\n",
      "Iteration 117 \n",
      "X value is -4.247440499061128\n",
      "Iteration 118 \n",
      "X value is -4.262491689079905\n",
      "Iteration 119 \n",
      "X value is -4.277241855298307\n",
      "Iteration 120 \n",
      "X value is -4.291697018192341\n",
      "Iteration 121 \n",
      "X value is -4.305863077828494\n",
      "Iteration 122 \n",
      "X value is -4.319745816271924\n",
      "Iteration 123 \n",
      "X value is -4.333350899946486\n",
      "Iteration 124 \n",
      "X value is -4.3466838819475555\n",
      "Iteration 125 \n",
      "X value is -4.359750204308605\n",
      "Iteration 126 \n",
      "X value is -4.372555200222433\n",
      "Iteration 127 \n",
      "X value is -4.385104096217984\n",
      "Iteration 128 \n",
      "X value is -4.3974020142936245\n",
      "Iteration 129 \n",
      "X value is -4.409453974007752\n",
      "Iteration 130 \n",
      "X value is -4.421264894527597\n",
      "Iteration 131 \n",
      "X value is -4.432839596637045\n",
      "Iteration 132 \n",
      "X value is -4.444182804704305\n",
      "Iteration 133 \n",
      "X value is -4.4552991486102185\n",
      "Iteration 134 \n",
      "X value is -4.466193165638014\n",
      "Iteration 135 \n",
      "X value is -4.4768693023252535\n",
      "Iteration 136 \n",
      "X value is -4.487331916278748\n",
      "Iteration 137 \n",
      "X value is -4.497585277953173\n",
      "Iteration 138 \n",
      "X value is -4.50763357239411\n",
      "Iteration 139 \n",
      "X value is -4.517480900946228\n",
      "Iteration 140 \n",
      "X value is -4.527131282927304\n",
      "Iteration 141 \n",
      "X value is -4.536588657268758\n",
      "Iteration 142 \n",
      "X value is -4.545856884123382\n",
      "Iteration 143 \n",
      "X value is -4.5549397464409145\n",
      "Iteration 144 \n",
      "X value is -4.563840951512097\n",
      "Iteration 145 \n",
      "X value is -4.572564132481855\n",
      "Iteration 146 \n",
      "X value is -4.581112849832218\n",
      "Iteration 147 \n",
      "X value is -4.589490592835574\n",
      "Iteration 148 \n",
      "X value is -4.597700780978863\n",
      "Iteration 149 \n",
      "X value is -4.605746765359285\n",
      "Iteration 150 \n",
      "X value is -4.6136318300521\n",
      "Iteration 151 \n",
      "X value is -4.621359193451058\n",
      "Iteration 152 \n",
      "X value is -4.628932009582036\n",
      "Iteration 153 \n",
      "X value is -4.636353369390395\n",
      "Iteration 154 \n",
      "X value is -4.643626302002588\n",
      "Iteration 155 \n",
      "X value is -4.650753775962536\n",
      "Iteration 156 \n",
      "X value is -4.657738700443285\n",
      "Iteration 157 \n",
      "X value is -4.664583926434419\n",
      "Iteration 158 \n",
      "X value is -4.671292247905731\n",
      "Iteration 159 \n",
      "X value is -4.6778664029476165\n",
      "Iteration 160 \n",
      "X value is -4.684309074888664\n",
      "Iteration 161 \n",
      "X value is -4.6906228933908904\n",
      "Iteration 162 \n",
      "X value is -4.696810435523073\n",
      "Iteration 163 \n",
      "X value is -4.702874226812612\n",
      "Iteration 164 \n",
      "X value is -4.708816742276359\n",
      "Iteration 165 \n",
      "X value is -4.714640407430832\n",
      "Iteration 166 \n",
      "X value is -4.720347599282215\n",
      "Iteration 167 \n",
      "X value is -4.725940647296571\n",
      "Iteration 168 \n",
      "X value is -4.731421834350639\n",
      "Iteration 169 \n",
      "X value is -4.736793397663627\n",
      "Iteration 170 \n",
      "X value is -4.742057529710355\n",
      "Iteration 171 \n",
      "X value is -4.747216379116147\n",
      "Iteration 172 \n",
      "X value is -4.752272051533824\n",
      "Iteration 173 \n",
      "X value is -4.757226610503148\n",
      "Iteration 174 \n",
      "X value is -4.762082078293084\n",
      "Iteration 175 \n",
      "X value is -4.766840436727223\n",
      "Iteration 176 \n",
      "X value is -4.771503627992678\n",
      "Iteration 177 \n",
      "X value is -4.776073555432824\n",
      "Iteration 178 \n",
      "X value is -4.780552084324168\n",
      "Iteration 179 \n",
      "X value is -4.784941042637685\n",
      "Iteration 180 \n",
      "X value is -4.7892422217849315\n",
      "Iteration 181 \n",
      "X value is -4.793457377349233\n",
      "Iteration 182 \n",
      "X value is -4.7975882298022485\n",
      "Iteration 183 \n",
      "X value is -4.801636465206204\n",
      "Iteration 184 \n",
      "X value is -4.805603735902079\n",
      "Iteration 185 \n",
      "X value is -4.809491661184038\n",
      "Iteration 186 \n",
      "X value is -4.813301827960357\n",
      "Iteration 187 \n",
      "X value is -4.81703579140115\n",
      "Iteration 188 \n",
      "X value is -4.820695075573127\n",
      "Iteration 189 \n",
      "X value is -4.824281174061665\n",
      "Iteration 190 \n",
      "X value is -4.827795550580431\n",
      "Iteration 191 \n",
      "X value is -4.831239639568823\n",
      "Iteration 192 \n",
      "X value is -4.834614846777447\n",
      "Iteration 193 \n",
      "X value is -4.837922549841898\n",
      "Iteration 194 \n",
      "X value is -4.84116409884506\n",
      "Iteration 195 \n",
      "X value is -4.844340816868159\n",
      "Iteration 196 \n",
      "X value is -4.847454000530796\n",
      "Iteration 197 \n",
      "X value is -4.85050492052018\n",
      "Iteration 198 \n",
      "X value is -4.853494822109776\n",
      "Iteration 199 \n",
      "X value is -4.85642492566758\n",
      "Iteration 200 \n",
      "X value is -4.859296427154229\n",
      "Iteration 201 \n",
      "X value is -4.862110498611145\n",
      "Iteration 202 \n",
      "X value is -4.864868288638922\n",
      "Iteration 203 \n",
      "X value is -4.867570922866143\n",
      "Iteration 204 \n",
      "X value is -4.87021950440882\n",
      "Iteration 205 \n",
      "X value is -4.872815114320644\n",
      "Iteration 206 \n",
      "X value is -4.875358812034231\n",
      "Iteration 207 \n",
      "X value is -4.877851635793546\n",
      "Iteration 208 \n",
      "X value is -4.880294603077676\n",
      "Iteration 209 \n",
      "X value is -4.882688711016122\n",
      "Iteration 210 \n",
      "X value is -4.8850349367958\n",
      "Iteration 211 \n",
      "X value is -4.887334238059884\n",
      "Iteration 212 \n",
      "X value is -4.8895875532986866\n",
      "Iteration 213 \n",
      "X value is -4.891795802232712\n",
      "Iteration 214 \n",
      "X value is -4.893959886188058\n",
      "Iteration 215 \n",
      "X value is -4.896080688464297\n",
      "Iteration 216 \n",
      "X value is -4.898159074695011\n",
      "Iteration 217 \n",
      "X value is -4.9001958932011105\n",
      "Iteration 218 \n",
      "X value is -4.902191975337089\n",
      "Iteration 219 \n",
      "X value is -4.904148135830347\n",
      "Iteration 220 \n",
      "X value is -4.90606517311374\n",
      "Iteration 221 \n",
      "X value is -4.907943869651465\n",
      "Iteration 222 \n",
      "X value is -4.909784992258436\n",
      "Iteration 223 \n",
      "X value is -4.911589292413267\n",
      "Iteration 224 \n",
      "X value is -4.913357506565002\n",
      "Iteration 225 \n",
      "X value is -4.915090356433702\n",
      "Iteration 226 \n",
      "X value is -4.9167885493050285\n",
      "Iteration 227 \n",
      "X value is -4.918452778318928\n",
      "Iteration 228 \n",
      "X value is -4.920083722752549\n",
      "Iteration 229 \n",
      "X value is -4.921682048297498\n",
      "Iteration 230 \n",
      "X value is -4.923248407331548\n",
      "Iteration 231 \n",
      "X value is -4.9247834391849175\n",
      "Iteration 232 \n",
      "X value is -4.926287770401219\n",
      "Iteration 233 \n",
      "X value is -4.927762014993195\n",
      "Iteration 234 \n",
      "X value is -4.929206774693331\n",
      "Iteration 235 \n",
      "X value is -4.930622639199464\n",
      "Iteration 236 \n",
      "X value is -4.932010186415474\n",
      "Iteration 237 \n",
      "X value is -4.933369982687164\n",
      "Iteration 238 \n",
      "X value is -4.934702583033421\n",
      "Iteration 239 \n",
      "X value is -4.936008531372753\n",
      "Iteration 240 \n",
      "X value is -4.937288360745298\n",
      "Iteration 241 \n",
      "X value is -4.938542593530392\n",
      "Iteration 242 \n",
      "X value is -4.939771741659784\n",
      "Iteration 243 \n",
      "X value is -4.940976306826588\n",
      "Iteration 244 \n",
      "X value is -4.942156780690056\n",
      "Iteration 245 \n",
      "X value is -4.943313645076255\n",
      "Iteration 246 \n",
      "X value is -4.94444737217473\n",
      "Iteration 247 \n",
      "X value is -4.945558424731236\n",
      "Iteration 248 \n",
      "X value is -4.946647256236611\n",
      "Iteration 249 \n",
      "X value is -4.947714311111879\n",
      "Iteration 250 \n",
      "X value is -4.9487600248896415\n",
      "Iteration 251 \n",
      "X value is -4.949784824391848\n",
      "Iteration 252 \n",
      "X value is -4.950789127904011\n",
      "Iteration 253 \n",
      "X value is -4.951773345345931\n",
      "Iteration 254 \n",
      "X value is -4.952737878439012\n",
      "Iteration 255 \n",
      "X value is -4.953683120870232\n",
      "Iteration 256 \n",
      "X value is -4.954609458452827\n",
      "Iteration 257 \n",
      "X value is -4.955517269283771\n",
      "Iteration 258 \n",
      "X value is -4.956406923898095\n",
      "Iteration 259 \n",
      "X value is -4.957278785420133\n",
      "Iteration 260 \n",
      "X value is -4.958133209711731\n",
      "Iteration 261 \n",
      "X value is -4.958970545517496\n",
      "Iteration 262 \n",
      "X value is -4.959791134607146\n",
      "Iteration 263 \n",
      "X value is -4.960595311915003\n",
      "Iteration 264 \n",
      "X value is -4.9613834056767026\n",
      "Iteration 265 \n",
      "X value is -4.962155737563169\n",
      "Iteration 266 \n",
      "X value is -4.962912622811905\n",
      "Iteration 267 \n",
      "X value is -4.963654370355667\n",
      "Iteration 268 \n",
      "X value is -4.964381282948554\n",
      "Iteration 269 \n",
      "X value is -4.965093657289583\n",
      "Iteration 270 \n",
      "X value is -4.965791784143791\n",
      "Iteration 271 \n",
      "X value is -4.966475948460915\n",
      "Iteration 272 \n",
      "X value is -4.967146429491697\n",
      "Iteration 273 \n",
      "X value is -4.967803500901863\n",
      "Iteration 274 \n",
      "X value is -4.968447430883826\n",
      "Iteration 275 \n",
      "X value is -4.969078482266149\n",
      "Iteration 276 \n",
      "X value is -4.969696912620826\n",
      "Iteration 277 \n",
      "X value is -4.970302974368409\n",
      "Iteration 278 \n",
      "X value is -4.970896914881041\n",
      "Iteration 279 \n",
      "X value is -4.97147897658342\n",
      "Iteration 280 \n",
      "X value is -4.972049397051752\n",
      "Iteration 281 \n",
      "X value is -4.972608409110717\n",
      "Iteration 282 \n",
      "X value is -4.973156240928502\n",
      "Iteration 283 \n",
      "X value is -4.973693116109932\n",
      "Iteration 284 \n",
      "X value is -4.974219253787734\n",
      "Iteration 285 \n",
      "X value is -4.974734868711979\n",
      "Iteration 286 \n",
      "X value is -4.975240171337739\n",
      "Iteration 287 \n",
      "X value is -4.975735367910985\n",
      "Iteration 288 \n",
      "X value is -4.976220660552765\n",
      "Iteration 289 \n",
      "X value is -4.976696247341709\n",
      "Iteration 290 \n",
      "X value is -4.977162322394875\n",
      "Iteration 291 \n",
      "X value is -4.977619075946977\n",
      "Iteration 292 \n",
      "X value is -4.978066694428038\n",
      "Iteration 293 \n",
      "X value is -4.978505360539477\n",
      "Iteration 294 \n",
      "X value is -4.978935253328687\n",
      "Iteration 295 \n",
      "X value is -4.979356548262113\n",
      "Iteration 296 \n",
      "X value is -4.979769417296871\n",
      "Iteration 297 \n",
      "X value is -4.980174028950934\n",
      "Iteration 298 \n",
      "X value is -4.980570548371915\n",
      "Iteration 299 \n",
      "X value is -4.980959137404477\n",
      "Iteration 300 \n",
      "X value is -4.981339954656387\n",
      "Iteration 301 \n",
      "X value is -4.981713155563259\n",
      "Iteration 302 \n",
      "X value is -4.982078892451994\n",
      "Iteration 303 \n",
      "X value is -4.9824373146029535\n",
      "Iteration 304 \n",
      "X value is -4.982788568310895\n",
      "Iteration 305 \n",
      "X value is -4.983132796944677\n",
      "Iteration 306 \n",
      "X value is -4.983470141005784\n",
      "Iteration 307 \n",
      "X value is -4.983800738185668\n",
      "Iteration 308 \n",
      "X value is -4.984124723421955\n",
      "Iteration 309 \n",
      "X value is -4.984442228953515\n",
      "Iteration 310 \n",
      "X value is -4.984753384374445\n",
      "Iteration 311 \n",
      "X value is -4.985058316686956\n",
      "Iteration 312 \n",
      "X value is -4.9853571503532175\n",
      "Iteration 313 \n",
      "X value is -4.985650007346153\n",
      "Iteration 314 \n",
      "X value is -4.9859370071992295\n",
      "Iteration 315 \n",
      "X value is -4.986218267055245\n",
      "Iteration 316 \n",
      "X value is -4.98649390171414\n",
      "Iteration 317 \n",
      "X value is -4.986764023679857\n",
      "Iteration 318 \n",
      "X value is -4.98702874320626\n",
      "Iteration 319 \n",
      "X value is -4.987288168342134\n",
      "Iteration 320 \n",
      "X value is -4.987542404975292\n",
      "Iteration 321 \n",
      "X value is -4.987791556875786\n",
      "Iteration 322 \n",
      "X value is -4.98803572573827\n",
      "Iteration 323 \n",
      "X value is -4.988275011223505\n",
      "Iteration 324 \n",
      "X value is -4.988509510999035\n",
      "Iteration 325 \n",
      "X value is -4.988739320779054\n",
      "Iteration 326 \n",
      "X value is -4.988964534363473\n",
      "Iteration 327 \n",
      "X value is -4.989185243676204\n",
      "Iteration 328 \n",
      "X value is -4.98940153880268\n",
      "Iteration 329 \n",
      "X value is -4.989613508026626\n",
      "Iteration 330 \n",
      "X value is -4.989821237866094\n",
      "Iteration 331 \n",
      "X value is -4.990024813108772\n",
      "Iteration 332 \n",
      "X value is -4.9902243168465965\n",
      "Iteration 333 \n",
      "X value is -4.990419830509665\n",
      "Iteration 334 \n",
      "X value is -4.990611433899471\n",
      "Iteration 335 \n",
      "X value is -4.990799205221482\n",
      "Iteration 336 \n",
      "X value is -4.990983221117052\n",
      "Iteration 337 \n",
      "X value is -4.991163556694711\n",
      "Iteration 338 \n",
      "X value is -4.991340285560817\n",
      "Iteration 339 \n",
      "X value is -4.9915134798496\n",
      "Iteration 340 \n",
      "X value is -4.991683210252608\n",
      "Iteration 341 \n",
      "X value is -4.991849546047556\n",
      "Iteration 342 \n",
      "X value is -4.992012555126605\n",
      "Iteration 343 \n",
      "X value is -4.992172304024073\n",
      "Iteration 344 \n",
      "X value is -4.992328857943591\n",
      "Iteration 345 \n",
      "X value is -4.99248228078472\n",
      "Iteration 346 \n",
      "X value is -4.992632635169025\n",
      "Iteration 347 \n",
      "X value is -4.9927799824656445\n",
      "Iteration 348 \n",
      "X value is -4.992924382816332\n",
      "Iteration 349 \n",
      "X value is -4.993065895160005\n",
      "Iteration 350 \n",
      "X value is -4.993204577256805\n",
      "Iteration 351 \n",
      "X value is -4.993340485711669\n",
      "Iteration 352 \n",
      "X value is -4.993473675997436\n",
      "Iteration 353 \n",
      "X value is -4.993604202477487\n",
      "Iteration 354 \n",
      "X value is -4.993732118427937\n",
      "Iteration 355 \n",
      "X value is -4.993857476059379\n",
      "Iteration 356 \n",
      "X value is -4.993980326538191\n",
      "Iteration 357 \n",
      "X value is -4.9941007200074266\n",
      "Iteration 358 \n",
      "X value is -4.994218705607278\n",
      "Iteration 359 \n",
      "X value is -4.994334331495133\n",
      "Iteration 360 \n",
      "X value is -4.994447644865231\n",
      "Iteration 361 \n",
      "X value is -4.994558691967926\n",
      "Iteration 362 \n",
      "X value is -4.994667518128567\n",
      "Iteration 363 \n",
      "X value is -4.994774167765996\n",
      "Iteration 364 \n",
      "X value is -4.9948786844106765\n",
      "Iteration 365 \n",
      "X value is -4.994981110722463\n",
      "Iteration 366 \n",
      "X value is -4.995081488508014\n",
      "Iteration 367 \n",
      "X value is -4.995179858737854\n",
      "Iteration 368 \n",
      "X value is -4.995276261563097\n",
      "Iteration 369 \n",
      "X value is -4.995370736331835\n",
      "Iteration 370 \n",
      "X value is -4.9954633216051985\n",
      "Iteration 371 \n",
      "X value is -4.995554055173095\n",
      "Iteration 372 \n",
      "X value is -4.995642974069633\n",
      "Iteration 373 \n",
      "X value is -4.99573011458824\n",
      "Iteration 374 \n",
      "X value is -4.995815512296476\n",
      "Iteration 375 \n",
      "X value is -4.995899202050547\n",
      "Iteration 376 \n",
      "X value is -4.995981218009535\n",
      "Iteration 377 \n",
      "X value is -4.996061593649345\n",
      "Iteration 378 \n",
      "X value is -4.996140361776358\n",
      "Iteration 379 \n",
      "X value is -4.996217554540831\n",
      "Iteration 380 \n",
      "X value is -4.996293203450014\n",
      "Iteration 381 \n",
      "X value is -4.996367339381013\n",
      "Iteration 382 \n",
      "X value is -4.996439992593393\n",
      "Iteration 383 \n",
      "X value is -4.996511192741525\n",
      "Iteration 384 \n",
      "X value is -4.996580968886694\n",
      "Iteration 385 \n",
      "X value is -4.99664934950896\n",
      "Iteration 386 \n",
      "X value is -4.9967163625187805\n",
      "Iteration 387 \n",
      "X value is -4.996782035268405\n",
      "Iteration 388 \n",
      "X value is -4.996846394563037\n",
      "Iteration 389 \n",
      "X value is -4.996909466671776\n",
      "Iteration 390 \n",
      "X value is -4.996971277338341\n",
      "Iteration 391 \n",
      "X value is -4.997031851791574\n",
      "Iteration 392 \n",
      "X value is -4.997091214755742\n",
      "Iteration 393 \n",
      "X value is -4.997149390460628\n",
      "Iteration 394 \n",
      "X value is -4.997206402651415\n",
      "Iteration 395 \n",
      "X value is -4.997262274598387\n",
      "Iteration 396 \n",
      "X value is -4.997317029106419\n",
      "Iteration 397 \n",
      "X value is -4.997370688524291\n",
      "Iteration 398 \n",
      "X value is -4.997423274753805\n",
      "Iteration 399 \n",
      "X value is -4.997474809258729\n",
      "Iteration 400 \n",
      "X value is -4.997525313073554\n",
      "Iteration 401 \n",
      "X value is -4.997574806812083\n",
      "Iteration 402 \n",
      "X value is -4.997623310675841\n",
      "Iteration 403 \n",
      "X value is -4.997670844462324\n",
      "Iteration 404 \n",
      "X value is -4.997717427573078\n",
      "Iteration 405 \n",
      "X value is -4.997763079021617\n",
      "Iteration 406 \n",
      "X value is -4.997807817441185\n",
      "Iteration 407 \n",
      "X value is -4.997851661092361\n",
      "Iteration 408 \n",
      "X value is -4.997894627870514\n",
      "Iteration 409 \n",
      "X value is -4.997936735313104\n",
      "Iteration 410 \n",
      "X value is -4.9979780006068415\n",
      "Iteration 411 \n",
      "X value is -4.998018440594705\n",
      "Iteration 412 \n",
      "X value is -4.998058071782811\n",
      "Iteration 413 \n",
      "X value is -4.998096910347155\n",
      "Iteration 414 \n",
      "X value is -4.998134972140212\n",
      "Iteration 415 \n",
      "X value is -4.998172272697408\n",
      "Iteration 416 \n",
      "X value is -4.9982088272434595\n",
      "Iteration 417 \n",
      "X value is -4.998244650698591\n",
      "Iteration 418 \n",
      "X value is -4.998279757684619\n",
      "Iteration 419 \n",
      "X value is -4.998314162530927\n",
      "Iteration 420 \n",
      "X value is -4.998347879280309\n",
      "Iteration 421 \n",
      "X value is -4.998380921694703\n",
      "Iteration 422 \n",
      "X value is -4.998413303260809\n",
      "Iteration 423 \n",
      "X value is -4.998445037195593\n",
      "Iteration 424 \n",
      "X value is -4.998476136451681\n",
      "Iteration 425 \n",
      "X value is -4.998506613722648\n",
      "Iteration 426 \n",
      "X value is -4.998536481448195\n",
      "Iteration 427 \n",
      "X value is -4.998565751819231\n",
      "Iteration 428 \n",
      "X value is -4.998594436782846\n",
      "Iteration 429 \n",
      "X value is -4.998622548047189\n",
      "Iteration 430 \n",
      "X value is -4.998650097086245\n",
      "Iteration 431 \n",
      "X value is -4.9986770951445205\n",
      "Iteration 432 \n",
      "X value is -4.99870355324163\n",
      "Iteration 433 \n",
      "X value is -4.998729482176797\n",
      "Iteration 434 \n",
      "X value is -4.998754892533261\n",
      "Iteration 435 \n",
      "X value is -4.998779794682596\n",
      "Iteration 436 \n",
      "X value is -4.998804198788944\n",
      "Iteration 437 \n",
      "X value is -4.998828114813166\n",
      "Iteration 438 \n",
      "X value is -4.998851552516903\n",
      "Iteration 439 \n",
      "X value is -4.998874521466565\n",
      "Iteration 440 \n",
      "X value is -4.998897031037234\n",
      "Iteration 441 \n",
      "X value is -4.998919090416489\n",
      "Iteration 442 \n",
      "X value is -4.99894070860816\n",
      "Iteration 443 \n",
      "X value is -4.998961894435997\n",
      "Iteration 444 \n",
      "X value is -4.998982656547277\n",
      "Iteration 445 \n",
      "X value is -4.999003003416331\n",
      "Iteration 446 \n",
      "X value is -4.999022943348004\n",
      "Iteration 447 \n",
      "X value is -4.999042484481044\n",
      "Iteration 448 \n",
      "X value is -4.999061634791423\n",
      "Iteration 449 \n",
      "X value is -4.999080402095594\n",
      "Iteration 450 \n",
      "X value is -4.999098794053682\n",
      "Iteration 451 \n",
      "X value is -4.999116818172609\n",
      "Iteration 452 \n",
      "X value is -4.999134481809157\n",
      "Iteration 453 \n",
      "X value is -4.999151792172974\n",
      "Iteration 454 \n",
      "X value is -4.999168756329515\n",
      "Iteration 455 \n",
      "X value is -4.999185381202924\n",
      "Iteration 456 \n",
      "X value is -4.999201673578866\n",
      "Iteration 457 \n",
      "X value is -4.999217640107289\n",
      "Iteration 458 \n",
      "X value is -4.999233287305143\n",
      "Iteration 459 \n",
      "X value is -4.9992486215590395\n",
      "Iteration 460 \n",
      "X value is -4.999263649127859\n",
      "Iteration 461 \n",
      "X value is -4.999278376145302\n",
      "Iteration 462 \n",
      "X value is -4.999292808622396\n",
      "Iteration 463 \n",
      "X value is -4.999306952449948\n",
      "Iteration 464 \n",
      "X value is -4.999320813400949\n",
      "Iteration 465 \n",
      "X value is -4.99933439713293\n",
      "Iteration 466 \n",
      "X value is -4.999347709190272\n",
      "Iteration 467 \n",
      "X value is -4.9993607550064665\n",
      "Iteration 468 \n",
      "X value is -4.999373539906337\n",
      "Iteration 469 \n",
      "X value is -4.99938606910821\n",
      "Iteration 470 \n",
      "X value is -4.9993983477260455\n",
      "Iteration 471 \n",
      "X value is -4.999410380771525\n",
      "Iteration 472 \n",
      "X value is -4.999422173156094\n",
      "Iteration 473 \n",
      "X value is -4.9994337296929725\n",
      "Iteration 474 \n",
      "X value is -4.999445055099113\n",
      "Iteration 475 \n",
      "X value is -4.999456153997131\n",
      "Iteration 476 \n",
      "X value is -4.999467030917188\n",
      "Iteration 477 \n",
      "X value is -4.9994776902988445\n",
      "Iteration 478 \n",
      "X value is -4.999488136492867\n",
      "Iteration 479 \n",
      "X value is -4.99949837376301\n",
      "Iteration 480 \n",
      "X value is -4.99950840628775\n",
      "Iteration 481 \n",
      "X value is -4.999518238161995\n",
      "Iteration 482 \n",
      "X value is -4.999527873398756\n",
      "Iteration 483 \n",
      "X value is -4.99953731593078\n",
      "Iteration 484 \n",
      "X value is -4.999546569612165\n",
      "Iteration 485 \n",
      "X value is -4.999555638219921\n",
      "Iteration 486 \n",
      "X value is -4.999564525455523\n",
      "Iteration 487 \n",
      "X value is -4.999573234946412\n",
      "Iteration 488 \n",
      "X value is -4.9995817702474845\n",
      "Iteration 489 \n",
      "X value is -4.999590134842535\n",
      "Iteration 490 \n",
      "X value is -4.999598332145684\n",
      "Iteration 491 \n",
      "X value is -4.99960636550277\n",
      "Iteration 492 \n",
      "X value is -4.999614238192715\n"
     ]
    },
    {
     "name": "stdout",
     "output_type": "stream",
     "text": [
      "Iteration 493 \n",
      "X value is -4.999621953428861\n",
      "Iteration 494 \n",
      "X value is -4.999629514360284\n",
      "Iteration 495 \n",
      "X value is -4.999636924073078\n",
      "Iteration 496 \n",
      "X value is -4.999644185591617\n",
      "Iteration 497 \n",
      "X value is -4.999651301879784\n",
      "Iteration 498 \n",
      "X value is -4.999658275842188\n",
      "Iteration 499 \n",
      "X value is -4.999665110325345\n",
      "Iteration 500 \n",
      "X value is -4.999671808118838\n",
      "Iteration 501 \n",
      "X value is -4.9996783719564615\n",
      "Iteration 502 \n",
      "X value is -4.999684804517332\n",
      "Iteration 503 \n",
      "X value is -4.999691108426985\n",
      "Iteration 504 \n",
      "X value is -4.999697286258446\n",
      "Iteration 505 \n",
      "X value is -4.9997033405332765\n",
      "Iteration 506 \n",
      "X value is -4.999709273722611\n",
      "Iteration 507 \n",
      "X value is -4.999715088248159\n",
      "Iteration 508 \n",
      "X value is -4.999720786483196\n",
      "Iteration 509 \n",
      "X value is -4.999726370753532\n",
      "Iteration 510 \n",
      "X value is -4.999731843338461\n",
      "Iteration 511 \n",
      "X value is -4.999737206471692\n",
      "Iteration 512 \n",
      "X value is -4.999742462342258\n",
      "Iteration 513 \n",
      "X value is -4.999747613095413\n",
      "Iteration 514 \n",
      "X value is -4.999752660833504\n",
      "Iteration 515 \n",
      "X value is -4.999757607616834\n",
      "Iteration 516 \n",
      "X value is -4.999762455464498\n",
      "Iteration 517 \n",
      "X value is -4.999767206355208\n",
      "Iteration 518 \n",
      "X value is -4.999771862228104\n",
      "Iteration 519 \n",
      "X value is -4.999776424983542\n",
      "Iteration 520 \n",
      "X value is -4.9997808964838715\n",
      "Iteration 521 \n",
      "X value is -4.999785278554194\n",
      "Iteration 522 \n",
      "X value is -4.9997895729831106\n",
      "Iteration 523 \n",
      "X value is -4.999793781523448\n",
      "Iteration 524 \n",
      "X value is -4.999797905892979\n",
      "Iteration 525 \n",
      "X value is -4.999801947775119\n",
      "Iteration 526 \n",
      "X value is -4.999805908819617\n",
      "Iteration 527 \n",
      "X value is -4.999809790643225\n",
      "Iteration 528 \n",
      "X value is -4.99981359483036\n",
      "Iteration 529 \n",
      "X value is -4.999817322933753\n",
      "Iteration 530 \n",
      "X value is -4.999820976475077\n",
      "Iteration 531 \n",
      "X value is -4.999824556945576\n",
      "Iteration 532 \n",
      "X value is -4.999828065806665\n",
      "Iteration 533 \n",
      "X value is -4.9998315044905315\n",
      "Iteration 534 \n",
      "X value is -4.999834874400721\n",
      "Iteration 535 \n",
      "X value is -4.999838176912706\n",
      "Iteration 536 \n",
      "X value is -4.999841413374452\n",
      "Iteration 537 \n",
      "X value is -4.999844585106963\n",
      "Iteration 538 \n",
      "X value is -4.999847693404824\n",
      "Iteration 539 \n",
      "X value is -4.999850739536727\n",
      "Iteration 540 \n",
      "X value is -4.999853724745993\n",
      "Iteration 541 \n",
      "X value is -4.999856650251073\n",
      "Iteration 542 \n",
      "X value is -4.999859517246051\n",
      "Iteration 543 \n",
      "X value is -4.99986232690113\n",
      "Iteration 544 \n",
      "X value is -4.999865080363108\n",
      "Iteration 545 \n",
      "X value is -4.999867778755846\n",
      "Iteration 546 \n",
      "X value is -4.999870423180729\n",
      "Iteration 547 \n",
      "X value is -4.999873014717115\n",
      "Iteration 548 \n",
      "X value is -4.999875554422772\n",
      "Iteration 549 \n",
      "X value is -4.999878043334316\n",
      "Iteration 550 \n",
      "X value is -4.99988048246763\n",
      "Iteration 551 \n",
      "X value is -4.999882872818278\n",
      "Iteration 552 \n",
      "X value is -4.999885215361912\n",
      "Iteration 553 \n",
      "X value is -4.999887511054674\n",
      "Iteration 554 \n",
      "X value is -4.999889760833581\n",
      "Iteration 555 \n",
      "X value is -4.999891965616909\n",
      "Iteration 556 \n",
      "X value is -4.999894126304571\n",
      "Iteration 557 \n",
      "X value is -4.999896243778479\n",
      "Iteration 558 \n",
      "X value is -4.999898318902909\n",
      "Iteration 559 \n",
      "X value is -4.999900352524851\n",
      "Iteration 560 \n",
      "X value is -4.9999023454743545\n",
      "Iteration 561 \n",
      "X value is -4.999904298564868\n",
      "Iteration 562 \n",
      "X value is -4.9999062125935705\n",
      "Iteration 563 \n",
      "X value is -4.999908088341699\n",
      "Iteration 564 \n",
      "X value is -4.9999099265748645\n",
      "Iteration 565 \n",
      "X value is -4.999911728043367\n",
      "Iteration 566 \n",
      "X value is -4.9999134934825\n",
      "Iteration 567 \n",
      "X value is -4.99991522361285\n",
      "Iteration 568 \n",
      "X value is -4.999916919140593\n",
      "Iteration 569 \n",
      "X value is -4.999918580757781\n",
      "Iteration 570 \n",
      "X value is -4.999920209142625\n",
      "Iteration 571 \n",
      "X value is -4.999921804959773\n",
      "Iteration 572 \n",
      "X value is -4.9999233688605775\n",
      "Iteration 573 \n",
      "X value is -4.999924901483366\n",
      "Iteration 574 \n",
      "X value is -4.999926403453699\n",
      "Iteration 575 \n",
      "X value is -4.999927875384625\n",
      "Iteration 576 \n",
      "X value is -4.999929317876933\n",
      "Iteration 577 \n",
      "X value is -4.999930731519394\n",
      "Iteration 578 \n",
      "X value is -4.999932116889006\n",
      "Iteration 579 \n",
      "X value is -4.999933474551226\n",
      "Iteration 580 \n",
      "X value is -4.999934805060202\n",
      "Iteration 581 \n",
      "X value is -4.999936108958998\n",
      "Iteration 582 \n",
      "X value is -4.999937386779818\n",
      "Iteration 583 \n",
      "X value is -4.999938639044221\n",
      "Iteration 584 \n",
      "X value is -4.999939866263337\n",
      "Iteration 585 \n",
      "X value is -4.99994106893807\n",
      "Iteration 586 \n",
      "X value is -4.999942247559309\n",
      "Iteration 587 \n",
      "X value is -4.999943402608123\n",
      "Iteration 588 \n",
      "X value is -4.9999445345559606\n",
      "Iteration 589 \n",
      "X value is -4.999945643864842\n",
      "Iteration 590 \n",
      "X value is -4.999946730987545\n",
      "Iteration 591 \n",
      "X value is -4.999947796367794\n",
      "Iteration 592 \n",
      "X value is -4.999948840440438\n",
      "Iteration 593 \n",
      "X value is -4.999949863631629\n",
      "Iteration 594 \n",
      "X value is -4.999950866358997\n",
      "Iteration 595 \n",
      "X value is -4.9999518490318176\n",
      "The minimum occurs at -4.9999518490318176\n"
     ]
    }
   ],
   "source": [
    "#1 the gradient function (a function that take a point as input and produces the gradient of the loss \n",
    "#with respect to the point as output), and its necessary inputs. \n",
    "#(Note: Read Q 1.2 below to understand the role of the gradient function. You should be able to pass \n",
    "#the function implemented in Q 1.2 as input here)\n",
    "\n",
    "cur_x = 3 # The algorithm starts at x=3\n",
    "rate = 0.01 # Learning rate\n",
    "precision = 0.000001 #This tells us when to stop the algorithm\n",
    "previous_step_size = 1 #\n",
    "max_iters = 10000 # maximum number of iterations\n",
    "iters = 0 #iteration counter\n",
    "df = lambda x: 2*(x+5) #Gradient of our function\n",
    "\n",
    "while previous_step_size > precision and iters < max_iters:\n",
    "    prev_x = cur_x #Store current x value in prev_x\n",
    "    cur_x = cur_x - rate * df(prev_x) #Grad descent\n",
    "    previous_step_size = abs(cur_x - prev_x) #Change in x\n",
    "    iters = iters+1 #iteration count\n",
    "    print(\"Iteration\",iters,\"\\nX value is\",cur_x) #Print iterations\n",
    "    \n",
    "print(\"The minimum occurs at\", cur_x)\n"
   ]
  },
  {
   "cell_type": "code",
   "execution_count": 4,
   "id": "60ea1d6a",
   "metadata": {
    "colab": {
     "base_uri": "https://localhost:8080/"
    },
    "id": "60ea1d6a",
    "outputId": "b927173c-8ec4-4f02-9b5a-193452b07eea"
   },
   "outputs": [
    {
     "name": "stdout",
     "output_type": "stream",
     "text": [
      "Iteration 1 \n",
      "X value is 2.68\n",
      "Iteration 2 \n",
      "X value is 2.3728000000000002\n",
      "Iteration 3 \n",
      "X value is 2.077888\n",
      "Iteration 4 \n",
      "X value is 1.7947724800000002\n",
      "Iteration 5 \n",
      "X value is 1.5229815808000002\n",
      "Iteration 6 \n",
      "X value is 1.2620623175680001\n",
      "Iteration 7 \n",
      "X value is 1.01157982486528\n",
      "Iteration 8 \n",
      "X value is 0.7711166318706688\n",
      "Iteration 9 \n",
      "X value is 0.5402719665958421\n",
      "Iteration 10 \n",
      "X value is 0.3186610879320084\n",
      "Iteration 11 \n",
      "X value is 0.10591464441472806\n",
      "Iteration 12 \n",
      "X value is -0.09832194136186106\n",
      "Iteration 13 \n",
      "X value is -0.2943890637073866\n",
      "Iteration 14 \n",
      "X value is -0.48261350115909113\n",
      "Iteration 15 \n",
      "X value is -0.6633089611127275\n",
      "Iteration 16 \n",
      "X value is -0.8367766026682184\n",
      "Iteration 17 \n",
      "X value is -1.0033055385614897\n",
      "Iteration 18 \n",
      "X value is -1.1631733170190302\n",
      "Iteration 19 \n",
      "X value is -1.316646384338269\n",
      "Iteration 20 \n",
      "X value is -1.4639805289647383\n",
      "Iteration 21 \n",
      "X value is -1.6054213078061488\n",
      "Iteration 22 \n",
      "X value is -1.7412044554939028\n",
      "Iteration 23 \n",
      "X value is -1.8715562772741468\n",
      "Iteration 24 \n",
      "X value is -1.996694026183181\n",
      "Iteration 25 \n",
      "X value is -2.116826265135854\n",
      "Iteration 26 \n",
      "X value is -2.2321532145304195\n",
      "Iteration 27 \n",
      "X value is -2.342867085949203\n",
      "Iteration 28 \n",
      "X value is -2.449152402511235\n",
      "Iteration 29 \n",
      "X value is -2.5511863064107856\n",
      "Iteration 30 \n",
      "X value is -2.649138854154354\n",
      "Iteration 31 \n",
      "X value is -2.74317329998818\n",
      "Iteration 32 \n",
      "X value is -2.833446367988653\n",
      "Iteration 33 \n",
      "X value is -2.9201085132691067\n",
      "Iteration 34 \n",
      "X value is -3.0033041727383423\n",
      "Iteration 35 \n",
      "X value is -3.083172005828809\n",
      "Iteration 36 \n",
      "X value is -3.1598451255956563\n",
      "Iteration 37 \n",
      "X value is -3.23345132057183\n",
      "Iteration 38 \n",
      "X value is -3.304113267748957\n",
      "Iteration 39 \n",
      "X value is -3.3719487370389984\n",
      "Iteration 40 \n",
      "X value is -3.4370707875574387\n",
      "Iteration 41 \n",
      "X value is -3.4995879560551413\n",
      "Iteration 42 \n",
      "X value is -3.5596044378129355\n",
      "Iteration 43 \n",
      "X value is -3.617220260300418\n",
      "Iteration 44 \n",
      "X value is -3.6725314498884014\n",
      "Iteration 45 \n",
      "X value is -3.7256301918928654\n",
      "Iteration 46 \n",
      "X value is -3.7766049842171507\n",
      "Iteration 47 \n",
      "X value is -3.8255407848484646\n",
      "Iteration 48 \n",
      "X value is -3.872519153454526\n",
      "Iteration 49 \n",
      "X value is -3.917618387316345\n",
      "Iteration 50 \n",
      "X value is -3.960913651823691\n",
      "Iteration 51 \n",
      "X value is -4.002477105750743\n",
      "Iteration 52 \n",
      "X value is -4.0423780215207135\n",
      "Iteration 53 \n",
      "X value is -4.080682900659885\n",
      "Iteration 54 \n",
      "X value is -4.11745558463349\n",
      "Iteration 55 \n",
      "X value is -4.15275736124815\n",
      "Iteration 56 \n",
      "X value is -4.186647066798224\n",
      "Iteration 57 \n",
      "X value is -4.2191811841262945\n",
      "Iteration 58 \n",
      "X value is -4.250413936761243\n",
      "Iteration 59 \n",
      "X value is -4.280397379290793\n",
      "Iteration 60 \n",
      "X value is -4.309181484119161\n",
      "Iteration 61 \n",
      "X value is -4.336814224754395\n",
      "Iteration 62 \n",
      "X value is -4.363341655764219\n",
      "Iteration 63 \n",
      "X value is -4.3888079895336505\n",
      "Iteration 64 \n",
      "X value is -4.413255669952305\n",
      "Iteration 65 \n",
      "X value is -4.436725443154213\n",
      "Iteration 66 \n",
      "X value is -4.459256425428045\n",
      "Iteration 67 \n",
      "X value is -4.4808861684109225\n",
      "Iteration 68 \n",
      "X value is -4.501650721674485\n",
      "Iteration 69 \n",
      "X value is -4.521584692807505\n",
      "Iteration 70 \n",
      "X value is -4.5407213050952056\n",
      "Iteration 71 \n",
      "X value is -4.559092452891397\n",
      "Iteration 72 \n",
      "X value is -4.576728754775741\n",
      "Iteration 73 \n",
      "X value is -4.593659604584711\n",
      "Iteration 74 \n",
      "X value is -4.609913220401323\n",
      "Iteration 75 \n",
      "X value is -4.62551669158527\n",
      "Iteration 76 \n",
      "X value is -4.640496023921859\n",
      "Iteration 77 \n",
      "X value is -4.654876182964984\n",
      "Iteration 78 \n",
      "X value is -4.668681135646385\n",
      "Iteration 79 \n",
      "X value is -4.68193389022053\n",
      "Iteration 80 \n",
      "X value is -4.694656534611709\n",
      "Iteration 81 \n",
      "X value is -4.70687027322724\n",
      "Iteration 82 \n",
      "X value is -4.7185954622981505\n",
      "Iteration 83 \n",
      "X value is -4.729851643806224\n",
      "Iteration 84 \n",
      "X value is -4.740657578053975\n",
      "Iteration 85 \n",
      "X value is -4.751031274931816\n",
      "Iteration 86 \n",
      "X value is -4.760990023934544\n",
      "Iteration 87 \n",
      "X value is -4.770550422977162\n",
      "Iteration 88 \n",
      "X value is -4.779728406058076\n",
      "Iteration 89 \n",
      "X value is -4.788539269815753\n",
      "Iteration 90 \n",
      "X value is -4.796997699023123\n",
      "Iteration 91 \n",
      "X value is -4.805117791062198\n",
      "Iteration 92 \n",
      "X value is -4.81291307941971\n",
      "Iteration 93 \n",
      "X value is -4.820396556242922\n",
      "Iteration 94 \n",
      "X value is -4.827580693993204\n",
      "Iteration 95 \n",
      "X value is -4.834477466233476\n",
      "Iteration 96 \n",
      "X value is -4.841098367584137\n",
      "Iteration 97 \n",
      "X value is -4.847454432880771\n",
      "Iteration 98 \n",
      "X value is -4.8535562555655405\n",
      "Iteration 99 \n",
      "X value is -4.859414005342919\n",
      "Iteration 100 \n",
      "X value is -4.865037445129202\n",
      "Iteration 101 \n",
      "X value is -4.870435947324034\n",
      "Iteration 102 \n",
      "X value is -4.875618509431073\n",
      "Iteration 103 \n",
      "X value is -4.88059376905383\n",
      "Iteration 104 \n",
      "X value is -4.885370018291677\n",
      "Iteration 105 \n",
      "X value is -4.88995521756001\n",
      "Iteration 106 \n",
      "X value is -4.894357008857609\n",
      "Iteration 107 \n",
      "X value is -4.898582728503305\n",
      "Iteration 108 \n",
      "X value is -4.902639419363172\n",
      "Iteration 109 \n",
      "X value is -4.9065338425886456\n",
      "Iteration 110 \n",
      "X value is -4.9102724888850995\n",
      "Iteration 111 \n",
      "X value is -4.913861589329695\n",
      "Iteration 112 \n",
      "X value is -4.9173071257565075\n",
      "Iteration 113 \n",
      "X value is -4.920614840726247\n",
      "Iteration 114 \n",
      "X value is -4.923790247097197\n",
      "Iteration 115 \n",
      "X value is -4.92683863721331\n",
      "Iteration 116 \n",
      "X value is -4.929765091724778\n",
      "Iteration 117 \n",
      "X value is -4.932574488055787\n",
      "Iteration 118 \n",
      "X value is -4.935271508533555\n",
      "Iteration 119 \n",
      "X value is -4.9378606481922125\n",
      "Iteration 120 \n",
      "X value is -4.940346222264524\n",
      "Iteration 121 \n",
      "X value is -4.942732373373943\n",
      "Iteration 122 \n",
      "X value is -4.945023078438985\n",
      "Iteration 123 \n",
      "X value is -4.947222155301426\n",
      "Iteration 124 \n",
      "X value is -4.949333269089369\n",
      "Iteration 125 \n",
      "X value is -4.951359938325794\n",
      "Iteration 126 \n",
      "X value is -4.953305540792762\n",
      "Iteration 127 \n",
      "X value is -4.955173319161052\n",
      "Iteration 128 \n",
      "X value is -4.956966386394609\n",
      "Iteration 129 \n",
      "X value is -4.958687730938824\n",
      "Iteration 130 \n",
      "X value is -4.960340221701271\n",
      "Iteration 131 \n",
      "X value is -4.961926612833221\n",
      "Iteration 132 \n",
      "X value is -4.9634495483198915\n",
      "Iteration 133 \n",
      "X value is -4.964911566387096\n",
      "Iteration 134 \n",
      "X value is -4.9663151037316124\n",
      "Iteration 135 \n",
      "X value is -4.967662499582348\n",
      "Iteration 136 \n",
      "X value is -4.9689559995990535\n",
      "Iteration 137 \n",
      "X value is -4.9701977596150915\n",
      "Iteration 138 \n",
      "X value is -4.971389849230488\n",
      "Iteration 139 \n",
      "X value is -4.972534255261269\n",
      "Iteration 140 \n",
      "X value is -4.973632885050818\n",
      "Iteration 141 \n",
      "X value is -4.974687569648785\n",
      "Iteration 142 \n",
      "X value is -4.975700066862834\n",
      "Iteration 143 \n",
      "X value is -4.976672064188321\n",
      "Iteration 144 \n",
      "X value is -4.977605181620788\n",
      "Iteration 145 \n",
      "X value is -4.978500974355956\n",
      "Iteration 146 \n",
      "X value is -4.979360935381718\n",
      "Iteration 147 \n",
      "X value is -4.980186497966449\n",
      "Iteration 148 \n",
      "X value is -4.980979038047791\n",
      "Iteration 149 \n",
      "X value is -4.98173987652588\n",
      "Iteration 150 \n",
      "X value is -4.9824702814648445\n",
      "Iteration 151 \n",
      "X value is -4.98317147020625\n",
      "Iteration 152 \n",
      "X value is -4.983844611398\n",
      "Iteration 153 \n",
      "X value is -4.98449082694208\n",
      "Iteration 154 \n",
      "X value is -4.985111193864397\n",
      "Iteration 155 \n",
      "X value is -4.9857067461098215\n",
      "Iteration 156 \n",
      "X value is -4.986278476265428\n",
      "Iteration 157 \n",
      "X value is -4.9868273372148115\n",
      "Iteration 158 \n",
      "X value is -4.9873542437262195\n",
      "Iteration 159 \n",
      "X value is -4.987860073977171\n",
      "Iteration 160 \n",
      "X value is -4.988345671018084\n",
      "Iteration 161 \n",
      "X value is -4.98881184417736\n",
      "Iteration 162 \n",
      "X value is -4.989259370410266\n",
      "Iteration 163 \n",
      "X value is -4.9896889955938555\n",
      "Iteration 164 \n",
      "X value is -4.990101435770101\n",
      "Iteration 165 \n",
      "X value is -4.990497378339297\n",
      "Iteration 166 \n",
      "X value is -4.990877483205725\n",
      "Iteration 167 \n",
      "X value is -4.991242383877497\n",
      "Iteration 168 \n",
      "X value is -4.991592688522397\n",
      "Iteration 169 \n",
      "X value is -4.991928980981501\n",
      "Iteration 170 \n",
      "X value is -4.992251821742241\n",
      "Iteration 171 \n",
      "X value is -4.992561748872551\n",
      "Iteration 172 \n",
      "X value is -4.992859278917649\n",
      "Iteration 173 \n",
      "X value is -4.993144907760943\n",
      "Iteration 174 \n",
      "X value is -4.993419111450505\n",
      "Iteration 175 \n",
      "X value is -4.993682346992485\n",
      "Iteration 176 \n",
      "X value is -4.993935053112786\n",
      "Iteration 177 \n",
      "X value is -4.9941776509882745\n",
      "Iteration 178 \n",
      "X value is -4.994410544948743\n",
      "Iteration 179 \n",
      "X value is -4.994634123150793\n",
      "Iteration 180 \n",
      "X value is -4.994848758224761\n",
      "Iteration 181 \n",
      "X value is -4.995054807895771\n",
      "Iteration 182 \n",
      "X value is -4.995252615579941\n",
      "Iteration 183 \n",
      "X value is -4.995442510956743\n",
      "Iteration 184 \n",
      "X value is -4.995624810518474\n",
      "Iteration 185 \n",
      "X value is -4.995799818097735\n",
      "Iteration 186 \n",
      "X value is -4.9959678253738256\n",
      "Iteration 187 \n",
      "X value is -4.996129112358872\n",
      "Iteration 188 \n",
      "X value is -4.996283947864518\n",
      "Iteration 189 \n",
      "X value is -4.996432589949936\n",
      "Iteration 190 \n",
      "X value is -4.996575286351939\n",
      "Iteration 191 \n",
      "X value is -4.996712274897861\n",
      "Iteration 192 \n",
      "X value is -4.996843783901947\n",
      "Iteration 193 \n",
      "X value is -4.996970032545869\n",
      "Iteration 194 \n",
      "X value is -4.997091231244035\n",
      "Iteration 195 \n",
      "X value is -4.997207581994274\n",
      "Iteration 196 \n",
      "X value is -4.997319278714503\n",
      "Iteration 197 \n",
      "X value is -4.9974265075659225\n",
      "Iteration 198 \n",
      "X value is -4.997529447263286\n",
      "Iteration 199 \n",
      "X value is -4.997628269372755\n",
      "Iteration 200 \n",
      "X value is -4.997723138597845\n",
      "Iteration 201 \n",
      "X value is -4.997814213053931\n",
      "Iteration 202 \n",
      "X value is -4.997901644531773\n",
      "Iteration 203 \n",
      "X value is -4.9979855787505025\n",
      "Iteration 204 \n",
      "X value is -4.998066155600482\n",
      "Iteration 205 \n",
      "X value is -4.9981435093764635\n",
      "Iteration 206 \n",
      "X value is -4.998217769001405\n",
      "Iteration 207 \n",
      "X value is -4.998289058241349\n",
      "Iteration 208 \n",
      "X value is -4.998357495911695\n",
      "Iteration 209 \n",
      "X value is -4.998423196075227\n",
      "Iteration 210 \n",
      "X value is -4.9984862682322175\n",
      "Iteration 211 \n",
      "X value is -4.998546817502929\n",
      "Iteration 212 \n",
      "X value is -4.998604944802811\n",
      "Iteration 213 \n",
      "X value is -4.998660747010699\n",
      "Iteration 214 \n",
      "X value is -4.998714317130271\n",
      "Iteration 215 \n",
      "X value is -4.99876574444506\n",
      "Iteration 216 \n",
      "X value is -4.9988151146672575\n",
      "Iteration 217 \n",
      "X value is -4.998862510080567\n",
      "Iteration 218 \n",
      "X value is -4.998908009677344\n",
      "Iteration 219 \n",
      "X value is -4.998951689290251\n",
      "Iteration 220 \n",
      "X value is -4.998993621718641\n",
      "Iteration 221 \n",
      "X value is -4.999033876849895\n",
      "Iteration 222 \n",
      "X value is -4.999072521775899\n",
      "Iteration 223 \n",
      "X value is -4.999109620904863\n",
      "Iteration 224 \n",
      "X value is -4.999145236068669\n",
      "Iteration 225 \n",
      "X value is -4.999179426625922\n",
      "Iteration 226 \n",
      "X value is -4.999212249560885\n",
      "Iteration 227 \n",
      "X value is -4.99924375957845\n",
      "Iteration 228 \n",
      "X value is -4.999274009195312\n",
      "Iteration 229 \n",
      "X value is -4.9993030488275\n",
      "Iteration 230 \n",
      "X value is -4.9993309268744\n",
      "Iteration 231 \n",
      "X value is -4.999357689799424\n",
      "Iteration 232 \n",
      "X value is -4.999383382207447\n",
      "Iteration 233 \n",
      "X value is -4.999408046919149\n",
      "Iteration 234 \n",
      "X value is -4.999431725042383\n",
      "Iteration 235 \n",
      "X value is -4.999454456040688\n",
      "Iteration 236 \n",
      "X value is -4.999476277799061\n",
      "Iteration 237 \n",
      "X value is -4.999497226687098\n",
      "Iteration 238 \n",
      "X value is -4.999517337619614\n",
      "Iteration 239 \n",
      "X value is -4.99953664411483\n",
      "Iteration 240 \n",
      "X value is -4.999555178350237\n",
      "Iteration 241 \n",
      "X value is -4.999572971216227\n",
      "Iteration 242 \n",
      "X value is -4.999590052367578\n",
      "Iteration 243 \n",
      "X value is -4.999606450272875\n",
      "Iteration 244 \n",
      "X value is -4.99962219226196\n",
      "Iteration 245 \n",
      "X value is -4.999637304571482\n",
      "Iteration 246 \n",
      "X value is -4.999651812388622\n",
      "Iteration 247 \n",
      "X value is -4.999665739893078\n",
      "Iteration 248 \n",
      "X value is -4.999679110297355\n",
      "Iteration 249 \n",
      "X value is -4.999691945885461\n",
      "Iteration 250 \n",
      "X value is -4.999704268050042\n",
      "Iteration 251 \n",
      "X value is -4.99971609732804\n",
      "Iteration 252 \n",
      "X value is -4.999727453434918\n",
      "Iteration 253 \n",
      "X value is -4.999738355297521\n",
      "Iteration 254 \n",
      "X value is -4.99974882108562\n",
      "Iteration 255 \n",
      "X value is -4.999758868242195\n",
      "Iteration 256 \n",
      "X value is -4.999768513512508\n",
      "The local minimum occurs at -4.999768513512508\n"
     ]
    }
   ],
   "source": [
    "#1 ii\n",
    "cur_x = 3 # The algorithm starts at x=3\n",
    "rate = 0.02 # Learning rate\n",
    "precision = 0.00001 #This tells us when to stop the algorithm\n",
    "previous_step_size = 1 #\n",
    "max_iters = 10000 # maximum number of iterations\n",
    "iters = 0 #iteration counter\n",
    "df = lambda x: 2*(x+5) #Gradient of our function\n",
    "\n",
    "while previous_step_size > precision and iters < max_iters:\n",
    "    prev_x = cur_x #Store current x value in prev_x\n",
    "    cur_x = cur_x - rate * df(prev_x) #Grad descent\n",
    "    previous_step_size = abs(cur_x - prev_x) #Change in x\n",
    "    iters = iters+1 #iteration count\n",
    "    print(\"Iteration\",iters,\"\\nX value is\",cur_x) #Print iterations\n",
    "    \n",
    "print(\"The local minimum occurs at\", cur_x)\n"
   ]
  },
  {
   "cell_type": "code",
   "execution_count": 5,
   "id": "19206ae9",
   "metadata": {
    "colab": {
     "base_uri": "https://localhost:8080/"
    },
    "id": "19206ae9",
    "outputId": "aecb47ba-6998-4398-84ed-1343d3614ccc"
   },
   "outputs": [
    {
     "name": "stdout",
     "output_type": "stream",
     "text": [
      "Iteration 1 \n",
      "X value is 2.2\n",
      "Iteration 2 \n",
      "X value is 1.48\n",
      "Iteration 3 \n",
      "X value is 0.8319999999999999\n",
      "Iteration 4 \n",
      "X value is 0.2487999999999998\n",
      "Iteration 5 \n",
      "X value is -0.2760800000000002\n",
      "Iteration 6 \n",
      "X value is -0.7484720000000002\n",
      "Iteration 7 \n",
      "X value is -1.1736248000000002\n",
      "Iteration 8 \n",
      "X value is -1.5562623200000003\n",
      "Iteration 9 \n",
      "X value is -1.9006360880000004\n",
      "Iteration 10 \n",
      "X value is -2.2105724792000006\n",
      "Iteration 11 \n",
      "X value is -2.4895152312800004\n",
      "Iteration 12 \n",
      "X value is -2.7405637081520005\n",
      "Iteration 13 \n",
      "X value is -2.9665073373368003\n",
      "Iteration 14 \n",
      "X value is -3.16985660360312\n",
      "Iteration 15 \n",
      "X value is -3.352870943242808\n",
      "Iteration 16 \n",
      "X value is -3.517583848918527\n",
      "Iteration 17 \n",
      "X value is -3.6658254640266743\n",
      "Iteration 18 \n",
      "X value is -3.799242917624007\n",
      "Iteration 19 \n",
      "X value is -3.919318625861606\n",
      "Iteration 20 \n",
      "X value is -4.027386763275445\n",
      "Iteration 21 \n",
      "X value is -4.124648086947901\n",
      "Iteration 22 \n",
      "X value is -4.212183278253111\n",
      "Iteration 23 \n",
      "X value is -4.290964950427799\n",
      "Iteration 24 \n",
      "X value is -4.36186845538502\n",
      "Iteration 25 \n",
      "X value is -4.425681609846518\n",
      "Iteration 26 \n",
      "X value is -4.483113448861866\n",
      "Iteration 27 \n",
      "X value is -4.53480210397568\n",
      "Iteration 28 \n",
      "X value is -4.581321893578112\n",
      "Iteration 29 \n",
      "X value is -4.623189704220301\n",
      "Iteration 30 \n",
      "X value is -4.660870733798271\n",
      "Iteration 31 \n",
      "X value is -4.694783660418444\n",
      "Iteration 32 \n",
      "X value is -4.725305294376599\n",
      "Iteration 33 \n",
      "X value is -4.752774764938939\n",
      "Iteration 34 \n",
      "X value is -4.777497288445045\n",
      "Iteration 35 \n",
      "X value is -4.79974755960054\n",
      "Iteration 36 \n",
      "X value is -4.819772803640486\n",
      "Iteration 37 \n",
      "X value is -4.837795523276437\n",
      "Iteration 38 \n",
      "X value is -4.854015970948794\n",
      "Iteration 39 \n",
      "X value is -4.868614373853914\n",
      "Iteration 40 \n",
      "X value is -4.881752936468523\n",
      "Iteration 41 \n",
      "X value is -4.89357764282167\n",
      "Iteration 42 \n",
      "X value is -4.904219878539503\n",
      "Iteration 43 \n",
      "X value is -4.913797890685553\n",
      "Iteration 44 \n",
      "X value is -4.922418101616997\n",
      "Iteration 45 \n",
      "X value is -4.930176291455298\n",
      "Iteration 46 \n",
      "X value is -4.937158662309768\n",
      "Iteration 47 \n",
      "X value is -4.9434427960787914\n",
      "Iteration 48 \n",
      "X value is -4.9490985164709125\n",
      "Iteration 49 \n",
      "X value is -4.954188664823821\n",
      "Iteration 50 \n",
      "X value is -4.958769798341439\n",
      "Iteration 51 \n",
      "X value is -4.962892818507296\n",
      "Iteration 52 \n",
      "X value is -4.966603536656566\n",
      "Iteration 53 \n",
      "X value is -4.96994318299091\n",
      "Iteration 54 \n",
      "X value is -4.972948864691819\n",
      "Iteration 55 \n",
      "X value is -4.975653978222637\n",
      "Iteration 56 \n",
      "X value is -4.978088580400374\n",
      "Iteration 57 \n",
      "X value is -4.980279722360336\n",
      "Iteration 58 \n",
      "X value is -4.982251750124303\n",
      "Iteration 59 \n",
      "X value is -4.984026575111873\n",
      "Iteration 60 \n",
      "X value is -4.985623917600686\n",
      "Iteration 61 \n",
      "X value is -4.987061525840617\n",
      "Iteration 62 \n",
      "X value is -4.988355373256555\n",
      "Iteration 63 \n",
      "X value is -4.989519835930899\n",
      "Iteration 64 \n",
      "X value is -4.99056785233781\n",
      "Iteration 65 \n",
      "X value is -4.991511067104029\n",
      "Iteration 66 \n",
      "X value is -4.992359960393626\n",
      "Iteration 67 \n",
      "X value is -4.993123964354264\n",
      "Iteration 68 \n",
      "X value is -4.993811567918837\n",
      "Iteration 69 \n",
      "X value is -4.994430411126953\n",
      "Iteration 70 \n",
      "X value is -4.9949873700142575\n",
      "Iteration 71 \n",
      "X value is -4.995488633012831\n",
      "Iteration 72 \n",
      "X value is -4.995939769711549\n",
      "Iteration 73 \n",
      "X value is -4.996345792740394\n",
      "Iteration 74 \n",
      "X value is -4.996711213466354\n",
      "Iteration 75 \n",
      "X value is -4.997040092119719\n",
      "Iteration 76 \n",
      "X value is -4.997336082907747\n",
      "Iteration 77 \n",
      "X value is -4.997602474616972\n",
      "Iteration 78 \n",
      "X value is -4.9978422271552745\n",
      "Iteration 79 \n",
      "X value is -4.998058004439747\n",
      "Iteration 80 \n",
      "X value is -4.998252203995772\n",
      "Iteration 81 \n",
      "X value is -4.998426983596195\n",
      "Iteration 82 \n",
      "X value is -4.998584285236576\n",
      "Iteration 83 \n",
      "X value is -4.998725856712918\n",
      "Iteration 84 \n",
      "X value is -4.998853271041626\n",
      "Iteration 85 \n",
      "X value is -4.998967943937464\n",
      "Iteration 86 \n",
      "X value is -4.999071149543718\n",
      "Iteration 87 \n",
      "X value is -4.999164034589346\n",
      "Iteration 88 \n",
      "X value is -4.9992476311304115\n",
      "Iteration 89 \n",
      "X value is -4.99932286801737\n",
      "Iteration 90 \n",
      "X value is -4.999390581215633\n",
      "Iteration 91 \n",
      "X value is -4.99945152309407\n",
      "Iteration 92 \n",
      "X value is -4.999506370784663\n",
      "Iteration 93 \n",
      "X value is -4.999555733706196\n",
      "Iteration 94 \n",
      "X value is -4.999600160335577\n",
      "Iteration 95 \n",
      "X value is -4.9996401443020195\n",
      "Iteration 96 \n",
      "X value is -4.999676129871817\n",
      "Iteration 97 \n",
      "X value is -4.999708516884636\n",
      "Iteration 98 \n",
      "X value is -4.999737665196172\n",
      "Iteration 99 \n",
      "X value is -4.999763898676554\n",
      "Iteration 100 \n",
      "X value is -4.9997875088088986\n",
      "Iteration 101 \n",
      "X value is -4.999808757928009\n",
      "Iteration 102 \n",
      "X value is -4.999827882135208\n",
      "Iteration 103 \n",
      "X value is -4.999845093921687\n",
      "Iteration 104 \n",
      "X value is -4.999860584529518\n",
      "Iteration 105 \n",
      "X value is -4.9998745260765665\n",
      "Iteration 106 \n",
      "X value is -4.99988707346891\n",
      "Iteration 107 \n",
      "X value is -4.999898366122019\n",
      "Iteration 108 \n",
      "X value is -4.999908529509817\n",
      "Iteration 109 \n",
      "X value is -4.999917676558836\n",
      "The local minimum occurs at -4.999917676558836\n"
     ]
    }
   ],
   "source": [
    "#1 ii\n",
    "cur_x = 3 # The algorithm starts at x=3\n",
    "rate = 0.05 # Learning rate\n",
    "precision = 0.00001 #This tells us when to stop the algorithm\n",
    "previous_step_size = 1 #\n",
    "max_iters = 10000 # maximum number of iterations\n",
    "iters = 0 #iteration counter\n",
    "df = lambda x: 2*(x+5) #Gradient of our function\n",
    "\n",
    "while previous_step_size > precision and iters < max_iters:\n",
    "    prev_x = cur_x #Store current x value in prev_x\n",
    "    cur_x = cur_x - rate * df(prev_x) #Grad descent\n",
    "    previous_step_size = abs(cur_x - prev_x) #Change in x\n",
    "    iters = iters+1 #iteration count\n",
    "    print(\"Iteration\",iters,\"\\nX value is\",cur_x) #Print iterations\n",
    "    \n",
    "print(\"The local minimum occurs at\", cur_x)\n"
   ]
  },
  {
   "cell_type": "markdown",
   "id": "5b10291a",
   "metadata": {
    "id": "5b10291a"
   },
   "source": [
    "#### 2. Gradient function (G) corresponding to linear model and the squared loss"
   ]
  },
  {
   "cell_type": "code",
   "execution_count": 6,
   "id": "a80aaba5",
   "metadata": {
    "id": "a80aaba5"
   },
   "outputs": [],
   "source": [
    "def gradient(df, theta):\n",
    "\n",
    "  #decompose data set to features and label\n",
    "  X = df.iloc[:, :-1].values\n",
    "  Y = df.iloc[:, -1].values\n",
    "  m = len(df)\n",
    "\n",
    "  #calculate hypothesis/prediction: h(x) = sum(theta_i.xi)\n",
    "  h = X.dot(theta) \n",
    "\n",
    "  #calculate error: (h(x) - y)\n",
    "  error = np.subtract(h, Y)\n",
    "\n",
    "  #calculate gradient: sum((h(x) - y).xj)\n",
    "  return (2/m) * X.transpose().dot(error)"
   ]
  },
  {
   "cell_type": "code",
   "execution_count": 7,
   "id": "c5ad7473",
   "metadata": {
    "colab": {
     "base_uri": "https://localhost:8080/",
     "height": 422
    },
    "id": "c5ad7473",
    "outputId": "c6cb7b2b-3400-4ece-95d4-148e2a6bc76b"
   },
   "outputs": [
    {
     "name": "stdout",
     "output_type": "stream",
     "text": [
      "Final weights for BGD are: \n",
      "theta_0 = 0.2873381752645906, theta_1 = 10.650659469662916\n"
     ]
    },
    {
     "data": {
      "image/png": "[encoded data removed]",
      "text/plain": [
       "<Figure size 720x432 with 1 Axes>"
      ]
     },
     "metadata": {
      "needs_background": "light"
     },
     "output_type": "display_data"
    }
   ],
   "source": [
    "#Calculate BGD \n",
    "\n",
    "#Generate sample data\n",
    "X, y = make_regression(n_samples = 10000, \n",
    "                       n_features=1, \n",
    "                       n_informative=1, \n",
    "                       noise=20,\n",
    "                       random_state=2019)\n",
    "\n",
    "fig, ax = plt.subplots(figsize=(10, 6))\n",
    "ax.plot(X, y, 'o', alpha=0.6, color = 'red')\n",
    "ax.set_xlabel('X', fontweight='bold')\n",
    "ax.set_ylabel('y', fontweight='bold')\n",
    "\n",
    "#Add column 'X0' with all ones for bias term\n",
    "X_0 = np.column_stack((np.ones(len(X)), X))\n",
    "dataset = pd.concat([pd.DataFrame(X_0, columns=['X0', 'X1']), pd.DataFrame(y, columns=['y'])], axis = 1)\n",
    "\n",
    "#Set params\n",
    "init_theta = np.zeros(2)\n",
    "epoch = 1000;\n",
    "alpha = 0.6;\n",
    "\n",
    "#Run BGD\n",
    "final_theta, theta_iterates, gradients, loss, relative_change = batch_gradient_descent(dataset, epoch, init_theta, alpha, gradient)\n",
    "print(f'Final weights for BGD are: \\ntheta_0 = {final_theta[0]}, theta_1 = {final_theta[1]}')"
   ]
  },
  {
   "cell_type": "markdown",
   "id": "388c34c0",
   "metadata": {
    "id": "388c34c0"
   },
   "source": [
    " #### 3. Consider a simple regression setting. Generate a regression dataset of appropriate size using make_regression function from scikit-learn. It should have one feature and one target variable. Evaluate BGD when the number of epochs is 1000, the starting point is numpy.random.randn(2), the learning rate is 0.01, and the gradient function is G (which uses the dataset generated in the previous step) Plot the magnitude of the gradients as a function of epoch (e.g., using matplotlib). Is there a pattern to the magnitudes? Plot the iterates on the 2D plane. Do they visually indicate convergence? Plot the loss function with respect to the slope and intercept parameters. Is the function convex? Vary the epochs and learning rates and redo steps C-E above. Compare and contrast your results to the settings specified in step B."
   ]
  },
  {
   "cell_type": "code",
   "execution_count": 8,
   "id": "efbb0fe4",
   "metadata": {
    "id": "efbb0fe4"
   },
   "outputs": [],
   "source": [
    "#A\n",
    "\n",
    "X, y = make_regression(n_samples=1000, n_features=1, n_informative=1, noise = 1)"
   ]
  },
  {
   "cell_type": "code",
   "execution_count": 9,
   "id": "7c21b3cf",
   "metadata": {
    "colab": {
     "base_uri": "https://localhost:8080/"
    },
    "id": "7c21b3cf",
    "outputId": "86e94888-ad40-4517-e810-a2f1913139cc"
   },
   "outputs": [
    {
     "name": "stdout",
     "output_type": "stream",
     "text": [
      "Final weights after BGD are: \n",
      "theta_0 = -0.058236497796818186, theta_1 = 31.2455808627938\n"
     ]
    }
   ],
   "source": [
    "#B.\n",
    "\n",
    "#Add column 'X0' with all ones for bias term\n",
    "X_0 = np.column_stack((np.ones(len(X)), X))\n",
    "df = pd.concat([pd.DataFrame(X_0, columns=['X0', 'X1']), pd.DataFrame(y, columns=['y'])], axis = 1)\n",
    "\n",
    "#Set params\n",
    "theta = np.random.randn(2)\n",
    "epoch = 1000;\n",
    "alpha = 0.01;\n",
    "\n",
    "#Perform BGD\n",
    "final_theta, theta_iterations, gradients, loss, relative_change = batch_gradient_descent(df, epoch, theta, alpha, gradient)\n",
    "print(f'Final weights after BGD are: \\ntheta_0 = {final_theta[0]}, theta_1 = {final_theta[1]}')"
   ]
  },
  {
   "cell_type": "code",
   "execution_count": 10,
   "id": "ee1e410a",
   "metadata": {
    "colab": {
     "base_uri": "https://localhost:8080/",
     "height": 388
    },
    "id": "ee1e410a",
    "outputId": "ebccad1a-02b4-48be-9fa9-54f9e51d7bac"
   },
   "outputs": [
    {
     "data": {
      "image/png": "[encoded data removed]",
      "text/plain": [
       "<Figure size 720x432 with 1 Axes>"
      ]
     },
     "metadata": {
      "needs_background": "light"
     },
     "output_type": "display_data"
    }
   ],
   "source": [
    "#C.\n",
    "\n",
    "#Visualization of cost change with respect to change in iterations \n",
    "#path to global minimum has followed a zig zag path (not smooth enough)\n",
    "#cost gets updated after each iteration\n",
    "\n",
    "def plots(gradients, epoch, title = ''):\n",
    "  magnitude = []\n",
    "  for grad in gradients:\n",
    "    magnitude.append(np.linalg.norm(grad)) \n",
    "\n",
    "  fig, ax = plt.subplots(figsize=(10, 6))\n",
    "  ax.set_ylabel(\"{J(Theta)}\", rotation=0)\n",
    "  ax.set_xlabel(\"{Iterations}\")\n",
    "  theta = np.random.randn(2, 1)\n",
    "  _ = ax.plot(range(epoch), magnitude, \"b.\")\n",
    "\n",
    "plots(gradients, epoch, 'Gradient Descent Value vs Epoch')"
   ]
  },
  {
   "cell_type": "markdown",
   "id": "7pm2JNC96f8p",
   "metadata": {
    "id": "7pm2JNC96f8p"
   },
   "source": [
    "The magnitudes decreases with each iteration"
   ]
  },
  {
   "cell_type": "code",
   "execution_count": 11,
   "id": "5259adca",
   "metadata": {
    "colab": {
     "base_uri": "https://localhost:8080/",
     "height": 404
    },
    "id": "5259adca",
    "outputId": "b652544b-1fda-4a47-a5a3-328c7383f2f9"
   },
   "outputs": [
    {
     "data": {
      "image/png": "[encoded data removed]",
      "text/plain": [
       "<Figure size 576x432 with 1 Axes>"
      ]
     },
     "metadata": {
      "needs_background": "light"
     },
     "output_type": "display_data"
    }
   ],
   "source": [
    "#D.\n",
    "\n",
    "def plots_epoch(theta_iterations, title = ''):\n",
    "  fig, ax = plt.subplots(figsize=(8, 6))\n",
    "  ax.scatter(theta_iterations[:,0], theta_iterations[:,1], alpha=0.5, s=5, color = 'blue')\n",
    "  ax.set_xlabel('Theta 0', fontweight='bold')\n",
    "  ax.set_ylabel('Theta 1', fontweight='bold')\n",
    "  ax.set_title(title, fontweight='bold')\n",
    "\n",
    "plots_epoch(theta_iterations, 'Iterates (Intercept vs Slope)')"
   ]
  },
  {
   "cell_type": "code",
   "execution_count": 12,
   "id": "61a93c6b",
   "metadata": {
    "colab": {
     "base_uri": "https://localhost:8080/",
     "height": 357
    },
    "id": "61a93c6b",
    "outputId": "265da0ad-8385-48e7-bb57-49b62f90daff"
   },
   "outputs": [
    {
     "data": {
      "image/png": "[encoded data removed]",
      "text/plain": [
       "<Figure size 576x432 with 1 Axes>"
      ]
     },
     "metadata": {
      "needs_background": "light"
     },
     "output_type": "display_data"
    }
   ],
   "source": [
    "#E.\n",
    "\n",
    "def plot_loss(final_theta, df, title = ''):\n",
    "  D_1 = np.linspace(final_theta[0] - 10 , final_theta[0] + 10, 10)\n",
    "  D_2 = np.linspace(final_theta[1] - 20 , final_theta[1] + 20, 20)\n",
    "\n",
    "  A_0, A_1 = np.meshgrid(D_1, D_2)\n",
    "\n",
    "  j = np.array([mean_sq_loss(df, final_theta) \n",
    "                for final_theta in zip(np.ravel(A_0), np.ravel(A_1))])\n",
    "  J = j.reshape(A_0.shape)\n",
    "\n",
    "  fig = plt.figure(figsize=(8, 6))\n",
    "  ax = fig.add_subplot(111, projection='3d')\n",
    "\n",
    "  ax.plot_surface(A_0, A_1, J, cmap='inferno', alpha=0.8)\n",
    "  ax.view_init(elev=20, azim=30)\n",
    "  ax.set_xlabel('Theta 0')\n",
    "  ax.set_ylabel('Theta 1')\n",
    "  ax.zaxis.set_rotate_label(False)\n",
    "  ax.set_zlabel('MSE', rotation=8)\n",
    "  ax.set_title(title)\n",
    "\n",
    "plot_loss(final_theta, df, 'MSE w.r.t slope and intercept')\n",
    "\n"
   ]
  },
  {
   "cell_type": "markdown",
   "id": "41jEwWDi6Qnv",
   "metadata": {
    "id": "41jEwWDi6Qnv"
   },
   "source": [
    "Yes. The function is Convex"
   ]
  },
  {
   "cell_type": "code",
   "execution_count": 13,
   "id": "44561afa",
   "metadata": {
    "colab": {
     "base_uri": "https://localhost:8080/"
    },
    "id": "44561afa",
    "outputId": "5b82c45c-50be-40fc-da47-e9ba32cb3b50"
   },
   "outputs": [
    {
     "name": "stdout",
     "output_type": "stream",
     "text": [
      "Final weights after BGD for Case 1 are: \n",
      "theta_0 = 0.28733817178082927, theta_1 = 10.65065945309144\n",
      "Final weights after BGD for Case 2 are: \n",
      "theta_0 = 0.2873381746093664, theta_1 = 10.650659454705911\n",
      "Final weights after BGD for Case 3 are: \n",
      "theta_0 = 0.28733817526459055, theta_1 = 10.650659469662916\n",
      "Final weights after BGD for Case 4 are: \n",
      "theta_0 = 0.28733817526459055, theta_1 = 10.650659469662916\n"
     ]
    }
   ],
   "source": [
    "#F.\n",
    "\n",
    "#Case 1: Decrease Alpha, Same Epoch\n",
    "init_theta1 = np.random.randn(2)\n",
    "epoch1 = 1000;\n",
    "alpha1 = 0.01;\n",
    "\n",
    "#Case 2: Increase Alpha, Decrease Epoch\n",
    "init_theta2 = np.random.randn(2)\n",
    "epoch2 = 500;\n",
    "alpha2 = 0.02;\n",
    "\n",
    "#Case 3: Increase Alpha, Increase Epoch\n",
    "init_theta3 = np.random.randn(2)\n",
    "epoch3 = 1000;\n",
    "alpha3 = 0.2;\n",
    "\n",
    "#Case 4: Increase Alpha, Same Epoch\n",
    "init_theta4 = np.random.randn(2)\n",
    "epoch4 = 1000;\n",
    "alpha4 = 0.21;\n",
    "\n",
    "#Step B:\n",
    "final_theta1, theta_iterates1, gradients1, loss1, relative_change1 = batch_gradient_descent(dataset, epoch1, init_theta1, alpha1, gradient)\n",
    "print(f'Final weights after BGD for Case 1 are: \\ntheta_0 = {final_theta1[0]}, theta_1 = {final_theta1[1]}')\n",
    "\n",
    "final_theta2, theta_iterates2, gradients2, loss2, relative_change2 = batch_gradient_descent(dataset, epoch2, init_theta2, alpha2, gradient)\n",
    "print(f'Final weights after BGD for Case 2 are: \\ntheta_0 = {final_theta2[0]}, theta_1 = {final_theta2[1]}')\n",
    "\n",
    "final_theta3, theta_iterates3, gradients3, loss3, relative_change3 = batch_gradient_descent(dataset, epoch3, init_theta3, alpha3, gradient)\n",
    "print(f'Final weights after BGD for Case 3 are: \\ntheta_0 = {final_theta3[0]}, theta_1 = {final_theta3[1]}')\n",
    "\n",
    "final_theta4, theta_iterates4, gradients4, loss4, relative_change4 = batch_gradient_descent(dataset, epoch4, init_theta4, alpha4, gradient)\n",
    "print(f'Final weights after BGD for Case 4 are: \\ntheta_0 = {final_theta4[0]}, theta_1 = {final_theta4[1]}')"
   ]
  },
  {
   "cell_type": "markdown",
   "id": "MOIGTkVN7Ocd",
   "metadata": {
    "id": "MOIGTkVN7Ocd"
   },
   "source": []
  },
  {
   "cell_type": "markdown",
   "id": "625e6063",
   "metadata": {
    "id": "625e6063"
   },
   "source": [
    "#### 4. Implement the Stochastic Gradient Descent (SGD) procedure.\n",
    "SVD takes a lot more time than BGD because in BGD,the algorithm runs through ALL the samples in the training set to do a single update for a parameter in a particular iteration, in SGD, on the other hand, ONLY ONE or SUBSET of training sample is used from the training set to do the update for a parameter in a particular iteration.\n",
    "\n",
    "SGD often converges much faster compared to BGD but the error function is not as well minimized as in the case of BGD."
   ]
  },
  {
   "cell_type": "code",
   "execution_count": 16,
   "id": "92e95e65",
   "metadata": {
    "id": "92e95e65"
   },
   "outputs": [],
   "source": [
    "4#Implementing SGD \n",
    "def stocashtic_gradient_descent(X, y, theta, learning_rate=0.01, iterations=10):\n",
    "    m = len(y)\n",
    "    cost_history = np.zeros(iterations)\n",
    "    for it in range(iterations):\n",
    "        cost = 0.0\n",
    "        for i in range(m):\n",
    "            rand_ind = np.random.randint(0, m)\n",
    "            X_i = X[rand_ind, :].reshape(1, X.shape[1])\n",
    "            y_i = y[rand_ind].reshape(1, 1)\n",
    "            prediction = np.dot(X_i, theta)\n",
    "            theta = theta - (1 / m) * learning_rate * (X_i.T.dot((prediction - y_i)))\n",
    "            cost += cal_cost(theta, X_i, y_i)\n",
    "        cost_history[it] = cost\n",
    "    return theta, cost_history\n",
    "\n",
    "def cal_cost(theta,X,y):\n",
    "    m = len(y)\n",
    "    predictions = X.dot(theta)\n",
    "    cost = (1/2*m) * np.sum(np.square(predictions-y))\n",
    "    return cost"
   ]
  },
  {
   "cell_type": "code",
   "execution_count": 17,
   "id": "60a40d3e",
   "metadata": {
    "colab": {
     "base_uri": "https://localhost:8080/",
     "height": 927
    },
    "id": "60a40d3e",
    "outputId": "16550f9e-28f7-4f33-fbf6-2fef21551507"
   },
   "outputs": [
    {
     "name": "stdout",
     "output_type": "stream",
     "text": [
      "Theta0: -0.068,\n",
      "Theta1:31.247\n",
      "Final cost/MSE:  451.287\n"
     ]
    },
    {
     "data": {
      "image/png": "[encoded data removed]",
      "text/plain": [
       "<Figure size 720x432 with 1 Axes>"
      ]
     },
     "metadata": {
      "needs_background": "light"
     },
     "output_type": "display_data"
    },
    {
     "data": {
      "image/png": "[encoded data removed]",
      "text/plain": [
       "<Figure size 720x576 with 1 Axes>"
      ]
     },
     "metadata": {
      "needs_background": "light"
     },
     "output_type": "display_data"
    }
   ],
   "source": [
    "#Overall the cost has reduced \n",
    "lr = 0.05\n",
    "n_iter = 1000\n",
    "theta = np.random.randn(2, 1)\n",
    "X_b = np.c_[np.ones((len(X),1)),X]\n",
    "theta,cost_history = stocashtic_gradient_descent(X_b,y,theta,lr,n_iter)\n",
    "print(\"Theta0: {:0.3f},\\nTheta1:{:0.3f}\".format(theta[0][0], theta[1][0]))\n",
    "print(\"Final cost/MSE:  {:0.3f}\".format(cost_history[-1]))\n",
    "\n",
    "#Visualization of cost change with respect to change in iterations \n",
    "#path to global minimum has followed a zig zag path (not smooth enough)\n",
    "#cost gets updated after each iteration \n",
    "fig, ax = plt.subplots(figsize=(10, 6))\n",
    "ax.set_ylabel(\"{J(Theta)}\", rotation=0)\n",
    "ax.set_xlabel(\"{Iterations}\")\n",
    "theta = np.random.randn(2, 1)\n",
    "_ = ax.plot(range(n_iter), cost_history, \"b.\")\n",
    "\n",
    "\n",
    "#Shrinking the range to a smaller value 60, as the plot becomes flat after that \n",
    "fig,ax = plt.subplots(figsize=(10,8))\n",
    "_=ax.plot(range(200),cost_history[:200],'b.')"
   ]
  },
  {
   "cell_type": "markdown",
   "id": "b720cab2",
   "metadata": {
    "id": "b720cab2"
   },
   "source": [
    "#### 5. Implement the Mini-batch Gradient Descent (MBGD) procedure where the batch size is an input. Redo steps B-F in part 3 for two different batch sizes, and comment on how this procedure may yield different results compared to SGD and BGD.\n",
    "\n",
    "\n",
    "In Gradient Descent or Batch Gradient Descent, we use the whole training data per epoch whereas, in Stochastic Gradient Descent, we use only single training example per epoch and Mini-batch Gradient Descent lies in between of these two extremes, in which we can use a mini-batch(small portion) of training data per epoch, thumb rule for selecting the size of mini-batch is in power of 2 like 32, 64, 128 etc.\n",
    "\n",
    "For smoother curves, Batch Gradient Descent might be employed. When the dataset is large, SGD can be employed. Batch Gradient Descent converges to minima quickly. For larger datasets, SGD converges faster. However, because we only utilize one example at a time in SGD, we can't use the vectorized implementation on it. This may cause the computations to take longer. A combination of Batch Gradient Descent and SGD is employed to solve this problem."
   ]
  },
  {
   "cell_type": "code",
   "execution_count": 18,
   "id": "47fe9156",
   "metadata": {
    "id": "47fe9156"
   },
   "outputs": [],
   "source": [
    "#5 \n",
    "def cal_cost(theta,X,y):\n",
    "    m = len(y)\n",
    "    predictions = X.dot(theta)\n",
    "    cost = (1/2*m) * np.sum(np.square(predictions-y))\n",
    "    return cost\n",
    "\n",
    "def minibatch_gradient_descent(X,y,theta,learning_rate=0.01, iterations=10, batch_size = 20):\n",
    "    m = len(y)\n",
    "    cost_history = np.zeros(iterations)\n",
    "    n_batches = int(m/batch_size)\n",
    "    for it in range(iterations):\n",
    "        cost =0.0\n",
    "        indices = np.random.permutation(m)\n",
    "        X = X[indices]\n",
    "        y = y[indices]\n",
    "        for i in range(0,m,batch_size):\n",
    "            X_i = X[i:i+batch_size]\n",
    "            y_i = y[i:i+batch_size]\n",
    "            X_i = np.c_[np.ones(len(X_i)),X_i]\n",
    "            prediction = np.dot(X_i,theta)\n",
    "            theta = theta -(1/m)*learning_rate*( X_i.T.dot((prediction - y_i)))\n",
    "            cost += cal_cost(theta,X_i,y_i)\n",
    "        cost_history[it]  = cost\n",
    "    return theta, cost_history\n",
    "\n"
   ]
  },
  {
   "cell_type": "code",
   "execution_count": 19,
   "id": "27ccd50e",
   "metadata": {
    "colab": {
     "base_uri": "https://localhost:8080/",
     "height": 927
    },
    "id": "27ccd50e",
    "outputId": "e6058c0b-a568-4c09-b6cb-a1d35979229b"
   },
   "outputs": [
    {
     "name": "stdout",
     "output_type": "stream",
     "text": [
      "Theta0:          0.335,\n",
      "Theta1:          1.595\n",
      "Final cost/MSE:  215173531.218\n"
     ]
    },
    {
     "data": {
      "image/png": "[encoded data removed]",
      "text/plain": [
       "<Figure size 720x432 with 1 Axes>"
      ]
     },
     "metadata": {
      "needs_background": "light"
     },
     "output_type": "display_data"
    },
    {
     "data": {
      "image/png": "[encoded data removed]",
      "text/plain": [
       "<Figure size 720x576 with 1 Axes>"
      ]
     },
     "metadata": {
      "needs_background": "light"
     },
     "output_type": "display_data"
    }
   ],
   "source": [
    "#time(batch)<Time(mini-batch)<time(Stocastic)\n",
    "theta = np.random.randn(2, 1)\n",
    "theta,cost_history = minibatch_gradient_descent(X,y,theta,0.5,1000,20)\n",
    "print('Theta0:          {:0.3f},\\nTheta1:          {:0.3f}'.format(theta[0][0],theta[1][0]))\n",
    "print('Final cost/MSE:  {:0.3f}'.format(cost_history[-1]))\n",
    "\n",
    "fig, ax = plt.subplots(figsize=(10, 6))\n",
    "ax.set_ylabel(\"{J(Theta)}\", rotation=0)\n",
    "ax.set_xlabel(\"{Iterations}\")\n",
    "theta = np.random.randn(2, 1)\n",
    "_ = ax.plot(range(n_iter), cost_history, \"b.\")\n",
    "\n",
    "#Shrinking the range to a smaller value 60, as the plot becomes flat after that \n",
    "fig,ax = plt.subplots(figsize=(10,8))\n",
    "_=ax.plot(range(200),cost_history[:200],'b.')"
   ]
  },
  {
   "cell_type": "code",
   "execution_count": 20,
   "id": "42c3e7e2",
   "metadata": {
    "colab": {
     "base_uri": "https://localhost:8080/"
    },
    "id": "42c3e7e2",
    "outputId": "cff687a8-d631-4194-f4ab-74da443b1a5a"
   },
   "outputs": [
    {
     "name": "stdout",
     "output_type": "stream",
     "text": [
      "Theta0:          1.066,\n",
      "Theta1:          1.518\n",
      "Final cost/MSE:  218514507.373\n"
     ]
    }
   ],
   "source": [
    "theta = np.random.randn(2, 1)\n",
    "theta,cost_history = minibatch_gradient_descent(X,y,theta,0.05,1000,20)\n",
    "print('Theta0:          {:0.3f},\\nTheta1:          {:0.3f}'.format(theta[0][0],theta[1][0]))\n",
    "print('Final cost/MSE:  {:0.3f}'.format(cost_history[-1]))"
   ]
  },
  {
   "cell_type": "code",
   "execution_count": 21,
   "id": "674977f7",
   "metadata": {
    "colab": {
     "base_uri": "https://localhost:8080/"
    },
    "id": "674977f7",
    "outputId": "26ee741e-899f-48eb-9eda-08b8ec10a496"
   },
   "outputs": [
    {
     "name": "stdout",
     "output_type": "stream",
     "text": [
      "The MGBD for case 3 is : \n",
      "Theta0:          0.359,\n",
      "Theta1:          1.566\n"
     ]
    }
   ],
   "source": [
    "theta,cost_history = minibatch_gradient_descent(X,y,theta,0.01,1000,20)\n",
    "print('The MGBD for case 3 is : \\nTheta0:          {:0.3f},\\nTheta1:          {:0.3f}'.format(theta[0][0],theta[1][0]))"
   ]
  },
  {
   "cell_type": "code",
   "execution_count": 22,
   "id": "ff2c7333",
   "metadata": {
    "colab": {
     "base_uri": "https://localhost:8080/"
    },
    "id": "ff2c7333",
    "outputId": "9949f5bf-3596-4806-cd46-dfb8e2710608"
   },
   "outputs": [
    {
     "name": "stdout",
     "output_type": "stream",
     "text": [
      "Theta0:          -0.223,\n",
      "Theta1:          0.713\n",
      "Final cost/MSE:  1365833605.370\n"
     ]
    }
   ],
   "source": [
    "#time(batch)<Time(mini-batch)<time(Stocastic)\n",
    "theta = np.random.randn(2, 1)\n",
    "theta,cost_history = minibatch_gradient_descent(X,y,theta,0.01,1000,50)\n",
    "print('Theta0:          {:0.3f},\\nTheta1:          {:0.3f}'.format(theta[0][0],theta[1][0]))\n",
    "print('Final cost/MSE:  {:0.3f}'.format(cost_history[-1]))"
   ]
  },
  {
   "cell_type": "code",
   "execution_count": 23,
   "id": "10377d1f",
   "metadata": {
    "colab": {
     "base_uri": "https://localhost:8080/",
     "height": 399
    },
    "id": "10377d1f",
    "outputId": "8c6169af-451d-452a-b0a0-6b1289ddea41"
   },
   "outputs": [
    {
     "data": {
      "image/png": "[encoded data removed]",
      "text/plain": [
       "<Figure size 720x432 with 1 Axes>"
      ]
     },
     "metadata": {
      "needs_background": "light"
     },
     "output_type": "display_data"
    }
   ],
   "source": [
    "fig, ax = plt.subplots(figsize=(10, 6))\n",
    "ax.set_ylabel(\"{J(Theta)}\", rotation=0)\n",
    "ax.set_xlabel(\"{Iterations}\")\n",
    "theta = np.random.randn(2, 1)\n",
    "_ = ax.plot(range(n_iter), cost_history, \"b.\")"
   ]
  },
  {
   "cell_type": "code",
   "execution_count": 24,
   "id": "97797062",
   "metadata": {
    "colab": {
     "base_uri": "https://localhost:8080/",
     "height": 494
    },
    "id": "97797062",
    "outputId": "be548caf-56a8-4f1d-feda-228f215520df"
   },
   "outputs": [
    {
     "data": {
      "image/png": "[encoded data removed]",
      "text/plain": [
       "<Figure size 720x576 with 1 Axes>"
      ]
     },
     "metadata": {
      "needs_background": "light"
     },
     "output_type": "display_data"
    }
   ],
   "source": [
    "#Zooming into the trajectory, it is evident that the convergence of MGD is even better than BGD \n",
    "#It even minimizes the number of samples used \n",
    "fig,ax = plt.subplots(figsize=(10,8))\n",
    "_=ax.plot(range(100),cost_history[:100],'b.')"
   ]
  },
  {
   "cell_type": "markdown",
   "id": "17469010",
   "metadata": {
    "id": "17469010"
   },
   "source": [
    "#### 6. Modify the loss function to be and repeat steps B-F in part 3.\n",
    "\n",
    "The reason we choose squared error instead of higher powers is that greater powers give outliers more weight, which implies that one strange point can have a big impact on your fit. Without being overly sensitive to outliers, the squared error is differentiable and straightforward to work with."
   ]
  },
  {
   "cell_type": "code",
   "execution_count": 25,
   "id": "65530c13",
   "metadata": {
    "id": "65530c13"
   },
   "outputs": [],
   "source": [
    "#6 Cost function (calculates the square of sum of differences of actual and predicted value )\n",
    "def cal_cost(theta,X,y):\n",
    "    m = len(y)\n",
    "    predictions = X.dot(theta)\n",
    "    cost = (1/2*m) * np.sum(np.square(np.square(predictions-y)))\n",
    "    return cost\n",
    "\n",
    "def gradient_descent(X, y, theta, learning_rate=0.01, iterations=1000):\n",
    "    m = len(y)\n",
    "    cost_history = np.zeros(iterations)\n",
    "    theta_history = np.zeros((iterations, 2))\n",
    "    for it in range(iterations):\n",
    "        prediction = np.dot(X, theta)\n",
    "        theta = theta - (1 / m) * learning_rate * (X.T.dot((prediction - y)))\n",
    "        theta_history[it, :] = theta.T\n",
    "        cost_history[it] = cal_cost(theta, X, y)\n",
    "    return theta, cost_history, theta_history\n",
    "\n"
   ]
  },
  {
   "cell_type": "code",
   "execution_count": 26,
   "id": "LKcIy2EbnT3z",
   "metadata": {
    "colab": {
     "base_uri": "https://localhost:8080/"
    },
    "id": "LKcIy2EbnT3z",
    "outputId": "e308a145-18f9-4c94-b8e6-669990d1d934"
   },
   "outputs": [
    {
     "name": "stdout",
     "output_type": "stream",
     "text": [
      "Theta0: 0.469,\n",
      "Theta1:20.541\n",
      "Final cost/MSE:  25572581984.211\n"
     ]
    }
   ],
   "source": [
    "### Crearting a Cost function that calculates the square of sum of differences of actual and predicted value. \n",
    "def cal_cost_new(theta,X,y):\n",
    "    c = len(y)\n",
    "    predictions = X.dot(theta)\n",
    "    cost = np.sum(np.square(np.square(predictions-y)))\n",
    "    return cost\n",
    "\n",
    "y = y.reshape(-1,1)\n",
    "theta = np.random.randn(2, 1)\n",
    "X_b = np.c_[np.ones((len(X), 1)), X]\n",
    "theta, cost_history, theta_history = gradient_descent(X_b, y, theta, 0.001, 1000)\n",
    "print(\"Theta0: {:0.3f},\\nTheta1:{:0.3f}\".format(theta[0][0], theta[1][0]))\n",
    "### printing final cost/MSE\n",
    "print(\"Final cost/MSE:  {:0.3f}\".format(cost_history[-1]))"
   ]
  },
  {
   "cell_type": "code",
   "execution_count": 27,
   "id": "qsamlBbH0t1s",
   "metadata": {
    "colab": {
     "base_uri": "https://localhost:8080/",
     "height": 399
    },
    "id": "qsamlBbH0t1s",
    "outputId": "b9f7b302-9cb3-4df5-f4c6-fb5a76923a50"
   },
   "outputs": [
    {
     "data": {
      "image/png": "[encoded data removed]",
      "text/plain": [
       "<Figure size 720x432 with 1 Axes>"
      ]
     },
     "metadata": {
      "needs_background": "light"
     },
     "output_type": "display_data"
    }
   ],
   "source": [
    "#C \n",
    "fig, ax = plt.subplots(figsize=(10, 6))\n",
    "ax.set_ylabel(\"{J(Theta)}\", rotation=0)\n",
    "ax.set_xlabel(\"{Iterations}\")\n",
    "theta = np.random.randn(2, 1)\n",
    "_ = ax.plot(range(1000), cost_history, \"b.\")\n"
   ]
  },
  {
   "cell_type": "code",
   "execution_count": 28,
   "id": "gS7uuDwe12-G",
   "metadata": {
    "colab": {
     "base_uri": "https://localhost:8080/",
     "height": 404
    },
    "id": "gS7uuDwe12-G",
    "outputId": "21c7ec6c-77fd-47d4-ba4f-7be2238fb087"
   },
   "outputs": [
    {
     "data": {
      "image/png": "[encoded data removed]",
      "text/plain": [
       "<Figure size 576x432 with 1 Axes>"
      ]
     },
     "metadata": {
      "needs_background": "light"
     },
     "output_type": "display_data"
    }
   ],
   "source": [
    "#D \n",
    "\n",
    "def plots_epoch(theta_iterations, title = ''):\n",
    "  fig, ax = plt.subplots(figsize=(8, 6))\n",
    "  ax.scatter(theta_iterations[:,0], theta_iterations[:,1], alpha=0.5, s=5, color = 'blue')\n",
    "  ax.set_xlabel('Theta 0', fontweight='bold')\n",
    "  ax.set_ylabel('Theta 1', fontweight='bold')\n",
    "  ax.set_title(title, fontweight='bold')\n",
    "\n",
    "plots_epoch(theta_iterations, 'Iterates (Intercept vs Slope)')"
   ]
  },
  {
   "cell_type": "code",
   "execution_count": 29,
   "id": "sk-_M0GC29Al",
   "metadata": {
    "colab": {
     "base_uri": "https://localhost:8080/",
     "height": 357
    },
    "id": "sk-_M0GC29Al",
    "outputId": "18b89eb8-9cc2-4766-951a-4560bd6677ac"
   },
   "outputs": [
    {
     "data": {
      "image/png": "[encoded data removed]",
      "text/plain": [
       "<Figure size 576x432 with 1 Axes>"
      ]
     },
     "metadata": {
      "needs_background": "light"
     },
     "output_type": "display_data"
    }
   ],
   "source": [
    "#E.\n",
    "\n",
    "def plot_loss(final_theta, df, title = ''):\n",
    "  D_1 = np.linspace(final_theta[0] - 10 , final_theta[0] + 10, 10)\n",
    "  D_2 = np.linspace(final_theta[1] - 20 , final_theta[1] + 20, 20)\n",
    "\n",
    "  A_0, A_1 = np.meshgrid(D_1, D_2)\n",
    "\n",
    "  j = np.array([mean_sq_loss(df, final_theta) \n",
    "                for final_theta in zip(np.ravel(A_0), np.ravel(A_1))])\n",
    "  J = j.reshape(A_0.shape)\n",
    "\n",
    "  fig = plt.figure(figsize=(8, 6))\n",
    "  ax = fig.add_subplot(111, projection='3d')\n",
    "\n",
    "  ax.plot_surface(A_0, A_1, J, cmap='inferno', alpha=0.8)\n",
    "  ax.view_init(elev=20, azim=30)\n",
    "  ax.set_xlabel('Theta 0')\n",
    "  ax.set_ylabel('Theta 1')\n",
    "  ax.zaxis.set_rotate_label(False)\n",
    "  ax.set_zlabel('MSE', rotation=8)\n",
    "  ax.set_title(title)\n",
    "\n",
    "plot_loss(final_theta, df, 'MSE w.r.t slope and intercept')\n",
    "\n"
   ]
  },
  {
   "cell_type": "code",
   "execution_count": 30,
   "id": "jY6qAX7i1Yc0",
   "metadata": {
    "colab": {
     "base_uri": "https://localhost:8080/"
    },
    "id": "jY6qAX7i1Yc0",
    "outputId": "7244bcdf-9923-46b0-fc05-a42037e643fa"
   },
   "outputs": [
    {
     "name": "stdout",
     "output_type": "stream",
     "text": [
      "Theta0: 0.745,\n",
      "Theta1:20.816\n",
      "Final cost/MSE:  23205965608.430\n",
      "Theta0: -0.048,\n",
      "Theta1:31.212\n",
      "Final cost/MSE:  1316551.758\n",
      "Theta0: -0.058,\n",
      "Theta1:31.245\n",
      "Final cost/MSE:  1314811.047\n",
      "Theta0: -0.058,\n",
      "Theta1:31.245\n",
      "Final cost/MSE:  1314835.981\n",
      "Theta0: -0.058,\n",
      "Theta1:31.246\n",
      "Final cost/MSE:  1314853.983\n"
     ]
    }
   ],
   "source": [
    "#F \n",
    "theta, cost_history, theta_history = gradient_descent(X_b, y, theta, 0.01, 100)\n",
    "print(\"Theta0: {:0.3f},\\nTheta1:{:0.3f}\".format(theta[0][0], theta[1][0]))\n",
    "### printing final cost/MSE\n",
    "print(\"Final cost/MSE:  {:0.3f}\".format(cost_history[-1]))\n",
    "\n",
    "theta, cost_history, theta_history = gradient_descent(X_b, y, theta, 0.05, 100)\n",
    "print(\"Theta0: {:0.3f},\\nTheta1:{:0.3f}\".format(theta[0][0], theta[1][0]))\n",
    "### printing final cost/MSE\n",
    "print(\"Final cost/MSE:  {:0.3f}\".format(cost_history[-1]))\n",
    "\n",
    "theta, cost_history, theta_history = gradient_descent(X_b, y, theta, 0.04, 100)\n",
    "print(\"Theta0: {:0.3f},\\nTheta1:{:0.3f}\".format(theta[0][0], theta[1][0]))\n",
    "### printing final cost/MSE\n",
    "print(\"Final cost/MSE:  {:0.3f}\".format(cost_history[-1]))\n",
    "\n",
    "theta, cost_history, theta_history = gradient_descent(X_b, y, theta, 0.009, 100)\n",
    "print(\"Theta0: {:0.3f},\\nTheta1:{:0.3f}\".format(theta[0][0], theta[1][0]))\n",
    "### printing final cost/MSE\n",
    "print(\"Final cost/MSE:  {:0.3f}\".format(cost_history[-1]))\n",
    "\n",
    "theta, cost_history, theta_history = gradient_descent(X_b, y, theta, 0.01, 1000)\n",
    "print(\"Theta0: {:0.3f},\\nTheta1:{:0.3f}\".format(theta[0][0], theta[1][0]))\n",
    "### printing final cost/MSE\n",
    "print(\"Final cost/MSE:  {:0.3f}\".format(cost_history[-1]))"
   ]
  },
  {
   "cell_type": "markdown",
   "id": "a6cc0b0f",
   "metadata": {
    "id": "a6cc0b0f"
   },
   "source": [
    "# 2. Classification using Regression (5pt)"
   ]
  },
  {
   "cell_type": "markdown",
   "id": "d383d63e",
   "metadata": {
    "id": "d383d63e"
   },
   "source": [
    "#### Necessary Imports"
   ]
  },
  {
   "cell_type": "code",
   "execution_count": 31,
   "id": "f6705d27",
   "metadata": {
    "id": "f6705d27"
   },
   "outputs": [],
   "source": [
    "import pandas as pd\n",
    "import numpy as np\n",
    "import seaborn as sns\n",
    "import matplotlib.pyplot as plt"
   ]
  },
  {
   "cell_type": "code",
   "execution_count": 32,
   "id": "c1e017ad",
   "metadata": {
    "id": "c1e017ad"
   },
   "outputs": [],
   "source": [
    "from sklearn.model_selection import train_test_split\n",
    "from sklearn.tree import DecisionTreeClassifier\n",
    "from sklearn.metrics import accuracy_score\n",
    "from sklearn.metrics import classification_report\n",
    "from sklearn.metrics import confusion_matrix\n",
    "from math import log, e"
   ]
  },
  {
   "cell_type": "markdown",
   "id": "ffd1a8de",
   "metadata": {
    "id": "ffd1a8de"
   },
   "source": [
    "## 2.1. Download the Adult dataset and read it into a dataframe using pandas"
   ]
  },
  {
   "cell_type": "code",
   "execution_count": 33,
   "id": "8fa37c4c",
   "metadata": {
    "id": "8fa37c4c"
   },
   "outputs": [],
   "source": [
    "#df=pd.read_csv('phpMawTba.csv')"
   ]
  },
  {
   "cell_type": "code",
   "execution_count": 34,
   "id": "9a7a2ee9",
   "metadata": {
    "colab": {
     "base_uri": "https://localhost:8080/",
     "height": 307
    },
    "id": "9a7a2ee9",
    "outputId": "3c1e868d-8bb9-47bc-ba0e-e3d19f1cdf3f"
   },
   "outputs": [],
   "source": [
    "df=pd.read_csv('adultdataset.csv')"
   ]
  },
  {
   "cell_type": "markdown",
   "id": "3f13c6b7",
   "metadata": {
    "id": "3f13c6b7"
   },
   "source": [
    "**2.1.a. Display the top few rows of the dataframe using head()**"
   ]
  },
  {
   "cell_type": "code",
   "execution_count": 35,
   "id": "a0fc01e2",
   "metadata": {
    "id": "a0fc01e2"
   },
   "outputs": [
    {
     "data": {
      "text/html": [
       "<div>\n",
       "<style scoped>\n",
       "    .dataframe tbody tr th:only-of-type {\n",
       "        vertical-align: middle;\n",
       "    }\n",
       "\n",
       "    .dataframe tbody tr th {\n",
       "        vertical-align: top;\n",
       "    }\n",
       "\n",
       "    .dataframe thead th {\n",
       "        text-align: right;\n",
       "    }\n",
       "</style>\n",
       "<table border=\"1\" class=\"dataframe\">\n",
       "  <thead>\n",
       "    <tr style=\"text-align: right;\">\n",
       "      <th></th>\n",
       "      <th>age</th>\n",
       "      <th>workclass</th>\n",
       "      <th>fnlwgt</th>\n",
       "      <th>education</th>\n",
       "      <th>education-num</th>\n",
       "      <th>marital-status</th>\n",
       "      <th>occupation</th>\n",
       "      <th>relationship</th>\n",
       "      <th>race</th>\n",
       "      <th>sex</th>\n",
       "      <th>capital-gain</th>\n",
       "      <th>capital-loss</th>\n",
       "      <th>hours-per-week</th>\n",
       "      <th>native-country</th>\n",
       "      <th>class</th>\n",
       "    </tr>\n",
       "  </thead>\n",
       "  <tbody>\n",
       "    <tr>\n",
       "      <th>0</th>\n",
       "      <td>25</td>\n",
       "      <td>Private</td>\n",
       "      <td>226802</td>\n",
       "      <td>11th</td>\n",
       "      <td>7</td>\n",
       "      <td>Never-married</td>\n",
       "      <td>Machine-op-inspct</td>\n",
       "      <td>Own-child</td>\n",
       "      <td>Black</td>\n",
       "      <td>Male</td>\n",
       "      <td>0</td>\n",
       "      <td>0</td>\n",
       "      <td>40</td>\n",
       "      <td>United-States</td>\n",
       "      <td>&lt;=50K</td>\n",
       "    </tr>\n",
       "    <tr>\n",
       "      <th>1</th>\n",
       "      <td>38</td>\n",
       "      <td>Private</td>\n",
       "      <td>89814</td>\n",
       "      <td>HS-grad</td>\n",
       "      <td>9</td>\n",
       "      <td>Married-civ-spouse</td>\n",
       "      <td>Farming-fishing</td>\n",
       "      <td>Husband</td>\n",
       "      <td>White</td>\n",
       "      <td>Male</td>\n",
       "      <td>0</td>\n",
       "      <td>0</td>\n",
       "      <td>50</td>\n",
       "      <td>United-States</td>\n",
       "      <td>&lt;=50K</td>\n",
       "    </tr>\n",
       "    <tr>\n",
       "      <th>2</th>\n",
       "      <td>28</td>\n",
       "      <td>Local-gov</td>\n",
       "      <td>336951</td>\n",
       "      <td>Assoc-acdm</td>\n",
       "      <td>12</td>\n",
       "      <td>Married-civ-spouse</td>\n",
       "      <td>Protective-serv</td>\n",
       "      <td>Husband</td>\n",
       "      <td>White</td>\n",
       "      <td>Male</td>\n",
       "      <td>0</td>\n",
       "      <td>0</td>\n",
       "      <td>40</td>\n",
       "      <td>United-States</td>\n",
       "      <td>&gt;50K</td>\n",
       "    </tr>\n",
       "    <tr>\n",
       "      <th>3</th>\n",
       "      <td>44</td>\n",
       "      <td>Private</td>\n",
       "      <td>160323</td>\n",
       "      <td>Some-college</td>\n",
       "      <td>10</td>\n",
       "      <td>Married-civ-spouse</td>\n",
       "      <td>Machine-op-inspct</td>\n",
       "      <td>Husband</td>\n",
       "      <td>Black</td>\n",
       "      <td>Male</td>\n",
       "      <td>7688</td>\n",
       "      <td>0</td>\n",
       "      <td>40</td>\n",
       "      <td>United-States</td>\n",
       "      <td>&gt;50K</td>\n",
       "    </tr>\n",
       "    <tr>\n",
       "      <th>4</th>\n",
       "      <td>18</td>\n",
       "      <td>?</td>\n",
       "      <td>103497</td>\n",
       "      <td>Some-college</td>\n",
       "      <td>10</td>\n",
       "      <td>Never-married</td>\n",
       "      <td>?</td>\n",
       "      <td>Own-child</td>\n",
       "      <td>White</td>\n",
       "      <td>Female</td>\n",
       "      <td>0</td>\n",
       "      <td>0</td>\n",
       "      <td>30</td>\n",
       "      <td>United-States</td>\n",
       "      <td>&lt;=50K</td>\n",
       "    </tr>\n",
       "  </tbody>\n",
       "</table>\n",
       "</div>"
      ],
      "text/plain": [
       "   age   workclass  fnlwgt      education  education-num       marital-status  \\\n",
       "0   25     Private  226802           11th              7        Never-married   \n",
       "1   38     Private   89814        HS-grad              9   Married-civ-spouse   \n",
       "2   28   Local-gov  336951     Assoc-acdm             12   Married-civ-spouse   \n",
       "3   44     Private  160323   Some-college             10   Married-civ-spouse   \n",
       "4   18           ?  103497   Some-college             10        Never-married   \n",
       "\n",
       "           occupation relationship    race      sex  capital-gain  \\\n",
       "0   Machine-op-inspct    Own-child   Black     Male             0   \n",
       "1     Farming-fishing      Husband   White     Male             0   \n",
       "2     Protective-serv      Husband   White     Male             0   \n",
       "3   Machine-op-inspct      Husband   Black     Male          7688   \n",
       "4                   ?    Own-child   White   Female             0   \n",
       "\n",
       "   capital-loss  hours-per-week  native-country   class  \n",
       "0             0              40   United-States   <=50K  \n",
       "1             0              50   United-States   <=50K  \n",
       "2             0              40   United-States    >50K  \n",
       "3             0              40   United-States    >50K  \n",
       "4             0              30   United-States   <=50K  "
      ]
     },
     "execution_count": 35,
     "metadata": {},
     "output_type": "execute_result"
    }
   ],
   "source": [
    "df.head()"
   ]
  },
  {
   "cell_type": "markdown",
   "id": "351e555f",
   "metadata": {
    "id": "351e555f"
   },
   "source": [
    "**2.1.b. Separate the variables into those that are categorical and those that are numeric and display them.**"
   ]
  },
  {
   "cell_type": "code",
   "execution_count": 36,
   "id": "7127214a",
   "metadata": {
    "id": "7127214a"
   },
   "outputs": [],
   "source": [
    "df_num = df.select_dtypes(include=[np.number])\n",
    "df_cat = df.select_dtypes(exclude=[np.number])"
   ]
  },
  {
   "cell_type": "markdown",
   "id": "868209c8",
   "metadata": {
    "id": "868209c8"
   },
   "source": [
    "**_Displaying Numeric Variables_**"
   ]
  },
  {
   "cell_type": "code",
   "execution_count": 37,
   "id": "976a98bb",
   "metadata": {
    "id": "976a98bb"
   },
   "outputs": [
    {
     "data": {
      "text/html": [
       "<div>\n",
       "<style scoped>\n",
       "    .dataframe tbody tr th:only-of-type {\n",
       "        vertical-align: middle;\n",
       "    }\n",
       "\n",
       "    .dataframe tbody tr th {\n",
       "        vertical-align: top;\n",
       "    }\n",
       "\n",
       "    .dataframe thead th {\n",
       "        text-align: right;\n",
       "    }\n",
       "</style>\n",
       "<table border=\"1\" class=\"dataframe\">\n",
       "  <thead>\n",
       "    <tr style=\"text-align: right;\">\n",
       "      <th></th>\n",
       "      <th>age</th>\n",
       "      <th>fnlwgt</th>\n",
       "      <th>education-num</th>\n",
       "      <th>capital-gain</th>\n",
       "      <th>capital-loss</th>\n",
       "      <th>hours-per-week</th>\n",
       "    </tr>\n",
       "  </thead>\n",
       "  <tbody>\n",
       "    <tr>\n",
       "      <th>0</th>\n",
       "      <td>25</td>\n",
       "      <td>226802</td>\n",
       "      <td>7</td>\n",
       "      <td>0</td>\n",
       "      <td>0</td>\n",
       "      <td>40</td>\n",
       "    </tr>\n",
       "    <tr>\n",
       "      <th>1</th>\n",
       "      <td>38</td>\n",
       "      <td>89814</td>\n",
       "      <td>9</td>\n",
       "      <td>0</td>\n",
       "      <td>0</td>\n",
       "      <td>50</td>\n",
       "    </tr>\n",
       "    <tr>\n",
       "      <th>2</th>\n",
       "      <td>28</td>\n",
       "      <td>336951</td>\n",
       "      <td>12</td>\n",
       "      <td>0</td>\n",
       "      <td>0</td>\n",
       "      <td>40</td>\n",
       "    </tr>\n",
       "    <tr>\n",
       "      <th>3</th>\n",
       "      <td>44</td>\n",
       "      <td>160323</td>\n",
       "      <td>10</td>\n",
       "      <td>7688</td>\n",
       "      <td>0</td>\n",
       "      <td>40</td>\n",
       "    </tr>\n",
       "    <tr>\n",
       "      <th>4</th>\n",
       "      <td>18</td>\n",
       "      <td>103497</td>\n",
       "      <td>10</td>\n",
       "      <td>0</td>\n",
       "      <td>0</td>\n",
       "      <td>30</td>\n",
       "    </tr>\n",
       "  </tbody>\n",
       "</table>\n",
       "</div>"
      ],
      "text/plain": [
       "   age  fnlwgt  education-num  capital-gain  capital-loss  hours-per-week\n",
       "0   25  226802              7             0             0              40\n",
       "1   38   89814              9             0             0              50\n",
       "2   28  336951             12             0             0              40\n",
       "3   44  160323             10          7688             0              40\n",
       "4   18  103497             10             0             0              30"
      ]
     },
     "execution_count": 37,
     "metadata": {},
     "output_type": "execute_result"
    }
   ],
   "source": [
    "df_num.head()"
   ]
  },
  {
   "cell_type": "markdown",
   "id": "226a7be2",
   "metadata": {
    "id": "226a7be2"
   },
   "source": [
    "**_Displaying Categorical Variables_**"
   ]
  },
  {
   "cell_type": "code",
   "execution_count": 38,
   "id": "b9b3b572",
   "metadata": {
    "id": "b9b3b572"
   },
   "outputs": [
    {
     "data": {
      "text/html": [
       "<div>\n",
       "<style scoped>\n",
       "    .dataframe tbody tr th:only-of-type {\n",
       "        vertical-align: middle;\n",
       "    }\n",
       "\n",
       "    .dataframe tbody tr th {\n",
       "        vertical-align: top;\n",
       "    }\n",
       "\n",
       "    .dataframe thead th {\n",
       "        text-align: right;\n",
       "    }\n",
       "</style>\n",
       "<table border=\"1\" class=\"dataframe\">\n",
       "  <thead>\n",
       "    <tr style=\"text-align: right;\">\n",
       "      <th></th>\n",
       "      <th>workclass</th>\n",
       "      <th>education</th>\n",
       "      <th>marital-status</th>\n",
       "      <th>occupation</th>\n",
       "      <th>relationship</th>\n",
       "      <th>race</th>\n",
       "      <th>sex</th>\n",
       "      <th>native-country</th>\n",
       "      <th>class</th>\n",
       "    </tr>\n",
       "  </thead>\n",
       "  <tbody>\n",
       "    <tr>\n",
       "      <th>0</th>\n",
       "      <td>Private</td>\n",
       "      <td>11th</td>\n",
       "      <td>Never-married</td>\n",
       "      <td>Machine-op-inspct</td>\n",
       "      <td>Own-child</td>\n",
       "      <td>Black</td>\n",
       "      <td>Male</td>\n",
       "      <td>United-States</td>\n",
       "      <td>&lt;=50K</td>\n",
       "    </tr>\n",
       "    <tr>\n",
       "      <th>1</th>\n",
       "      <td>Private</td>\n",
       "      <td>HS-grad</td>\n",
       "      <td>Married-civ-spouse</td>\n",
       "      <td>Farming-fishing</td>\n",
       "      <td>Husband</td>\n",
       "      <td>White</td>\n",
       "      <td>Male</td>\n",
       "      <td>United-States</td>\n",
       "      <td>&lt;=50K</td>\n",
       "    </tr>\n",
       "    <tr>\n",
       "      <th>2</th>\n",
       "      <td>Local-gov</td>\n",
       "      <td>Assoc-acdm</td>\n",
       "      <td>Married-civ-spouse</td>\n",
       "      <td>Protective-serv</td>\n",
       "      <td>Husband</td>\n",
       "      <td>White</td>\n",
       "      <td>Male</td>\n",
       "      <td>United-States</td>\n",
       "      <td>&gt;50K</td>\n",
       "    </tr>\n",
       "    <tr>\n",
       "      <th>3</th>\n",
       "      <td>Private</td>\n",
       "      <td>Some-college</td>\n",
       "      <td>Married-civ-spouse</td>\n",
       "      <td>Machine-op-inspct</td>\n",
       "      <td>Husband</td>\n",
       "      <td>Black</td>\n",
       "      <td>Male</td>\n",
       "      <td>United-States</td>\n",
       "      <td>&gt;50K</td>\n",
       "    </tr>\n",
       "    <tr>\n",
       "      <th>4</th>\n",
       "      <td>?</td>\n",
       "      <td>Some-college</td>\n",
       "      <td>Never-married</td>\n",
       "      <td>?</td>\n",
       "      <td>Own-child</td>\n",
       "      <td>White</td>\n",
       "      <td>Female</td>\n",
       "      <td>United-States</td>\n",
       "      <td>&lt;=50K</td>\n",
       "    </tr>\n",
       "  </tbody>\n",
       "</table>\n",
       "</div>"
      ],
      "text/plain": [
       "    workclass      education       marital-status          occupation  \\\n",
       "0     Private           11th        Never-married   Machine-op-inspct   \n",
       "1     Private        HS-grad   Married-civ-spouse     Farming-fishing   \n",
       "2   Local-gov     Assoc-acdm   Married-civ-spouse     Protective-serv   \n",
       "3     Private   Some-college   Married-civ-spouse   Machine-op-inspct   \n",
       "4           ?   Some-college        Never-married                   ?   \n",
       "\n",
       "  relationship    race      sex  native-country   class  \n",
       "0    Own-child   Black     Male   United-States   <=50K  \n",
       "1      Husband   White     Male   United-States   <=50K  \n",
       "2      Husband   White     Male   United-States    >50K  \n",
       "3      Husband   Black     Male   United-States    >50K  \n",
       "4    Own-child   White   Female   United-States   <=50K  "
      ]
     },
     "execution_count": 38,
     "metadata": {},
     "output_type": "execute_result"
    }
   ],
   "source": [
    "df_cat.head()"
   ]
  },
  {
   "cell_type": "markdown",
   "id": "391fbcec",
   "metadata": {
    "id": "391fbcec"
   },
   "source": [
    "**2.1.c. For the variables that are categorical, report the unique values and their counts.**"
   ]
  },
  {
   "cell_type": "code",
   "execution_count": 39,
   "id": "8e03e264",
   "metadata": {
    "id": "8e03e264"
   },
   "outputs": [
    {
     "name": "stdout",
     "output_type": "stream",
     "text": [
      "Count of Unique values in Column workclass is\n",
      "\n",
      "  Private             33906\n",
      " Self-emp-not-inc     3862\n",
      " Local-gov            3136\n",
      " ?                    2799\n",
      " State-gov            1981\n",
      " Self-emp-inc         1695\n",
      " Federal-gov          1432\n",
      " Without-pay            21\n",
      " Never-worked           10\n",
      "Name: workclass, dtype: int64 \n",
      "\n",
      "Count of Unique values in Column education is\n",
      "\n",
      "  HS-grad         15784\n",
      " Some-college    10878\n",
      " Bachelors        8025\n",
      " Masters          2657\n",
      " Assoc-voc        2061\n",
      " 11th             1812\n",
      " Assoc-acdm       1601\n",
      " 10th             1389\n",
      " 7th-8th           955\n",
      " Prof-school       834\n",
      " 9th               756\n",
      " 12th              657\n",
      " Doctorate         594\n",
      " 5th-6th           509\n",
      " 1st-4th           247\n",
      " Preschool          83\n",
      "Name: education, dtype: int64 \n",
      "\n",
      "Count of Unique values in Column marital-status is\n",
      "\n",
      "  Married-civ-spouse       22379\n",
      " Never-married            16117\n",
      " Divorced                  6633\n",
      " Separated                 1530\n",
      " Widowed                   1518\n",
      " Married-spouse-absent      628\n",
      " Married-AF-spouse           37\n",
      "Name: marital-status, dtype: int64 \n",
      "\n",
      "Count of Unique values in Column occupation is\n",
      "\n",
      "  Prof-specialty       6172\n",
      " Craft-repair         6112\n",
      " Exec-managerial      6086\n",
      " Adm-clerical         5611\n",
      " Sales                5504\n",
      " Other-service        4923\n",
      " Machine-op-inspct    3022\n",
      " ?                    2809\n",
      " Transport-moving     2355\n",
      " Handlers-cleaners    2072\n",
      " Farming-fishing      1490\n",
      " Tech-support         1446\n",
      " Protective-serv       983\n",
      " Priv-house-serv       242\n",
      " Armed-Forces           15\n",
      "Name: occupation, dtype: int64 \n",
      "\n",
      "Count of Unique values in Column relationship is\n",
      "\n",
      "  Husband           19716\n",
      " Not-in-family     12583\n",
      " Own-child          7581\n",
      " Unmarried          5125\n",
      " Wife               2331\n",
      " Other-relative     1506\n",
      "Name: relationship, dtype: int64 \n",
      "\n",
      "Count of Unique values in Column race is\n",
      "\n",
      "  White                 41762\n",
      " Black                  4685\n",
      " Asian-Pac-Islander     1519\n",
      " Amer-Indian-Eskimo      470\n",
      " Other                   406\n",
      "Name: race, dtype: int64 \n",
      "\n",
      "Count of Unique values in Column sex is\n",
      "\n",
      "  Male      32650\n",
      " Female    16192\n",
      "Name: sex, dtype: int64 \n",
      "\n",
      "Count of Unique values in Column native-country is\n",
      "\n",
      "  United-States                 43832\n",
      " Mexico                          951\n",
      " ?                               857\n",
      " Philippines                     295\n",
      " Germany                         206\n",
      " Puerto-Rico                     184\n",
      " Canada                          182\n",
      " El-Salvador                     155\n",
      " India                           151\n",
      " Cuba                            138\n",
      " England                         127\n",
      " China                           122\n",
      " South                           115\n",
      " Jamaica                         106\n",
      " Italy                           105\n",
      " Dominican-Republic              103\n",
      " Japan                            92\n",
      " Guatemala                        88\n",
      " Poland                           87\n",
      " Vietnam                          86\n",
      " Columbia                         85\n",
      " Haiti                            75\n",
      " Portugal                         67\n",
      " Taiwan                           65\n",
      " Iran                             59\n",
      " Greece                           49\n",
      " Nicaragua                        49\n",
      " Peru                             46\n",
      " Ecuador                          45\n",
      " France                           38\n",
      " Ireland                          37\n",
      " Hong                             30\n",
      " Thailand                         30\n",
      " Cambodia                         28\n",
      " Trinadad&Tobago                  27\n",
      " Laos                             23\n",
      " Yugoslavia                       23\n",
      " Outlying-US(Guam-USVI-etc)       23\n",
      " Scotland                         21\n",
      " Honduras                         20\n",
      " Hungary                          19\n",
      " Holand-Netherlands                1\n",
      "Name: native-country, dtype: int64 \n",
      "\n",
      "Count of Unique values in Column class is\n",
      "\n",
      "  <=50K    37155\n",
      " >50K     11687\n",
      "Name: class, dtype: int64 \n",
      "\n"
     ]
    }
   ],
   "source": [
    "for col in df_cat.columns:\n",
    "    print(\"Count of Unique values in Column\" , col, \"is\\n\\n\", df_cat[col].value_counts(),'\\n')"
   ]
  },
  {
   "cell_type": "markdown",
   "id": "6c6fcd2a",
   "metadata": {
    "id": "6c6fcd2a"
   },
   "source": [
    "**2.1.d. For each feature, also plot the normalized distribution of occurance of the values using a bar plot, after sorting them according to their occurance.**"
   ]
  },
  {
   "cell_type": "markdown",
   "id": "57f8e7cd",
   "metadata": {
    "id": "57f8e7cd"
   },
   "source": [
    "**_Normalized distribution of occurance of the values for all the categorical features of the Dataset_**"
   ]
  },
  {
   "cell_type": "code",
   "execution_count": 40,
   "id": "e5b8125e",
   "metadata": {
    "id": "e5b8125e"
   },
   "outputs": [
    {
     "data": {
      "image/png": "[encoded data removed]",
      "text/plain": [
       "<Figure size 432x288 with 1 Axes>"
      ]
     },
     "metadata": {
      "needs_background": "light"
     },
     "output_type": "display_data"
    },
    {
     "data": {
      "image/png": "[encoded data removed]",
      "text/plain": [
       "<Figure size 432x288 with 1 Axes>"
      ]
     },
     "metadata": {
      "needs_background": "light"
     },
     "output_type": "display_data"
    },
    {
     "data": {
      "image/png": "[encoded data removed]",
      "text/plain": [
       "<Figure size 432x288 with 1 Axes>"
      ]
     },
     "metadata": {
      "needs_background": "light"
     },
     "output_type": "display_data"
    },
    {
     "data": {
      "image/png": "[encoded data removed]",
      "text/plain": [
       "<Figure size 432x288 with 1 Axes>"
      ]
     },
     "metadata": {
      "needs_background": "light"
     },
     "output_type": "display_data"
    },
    {
     "data": {
      "image/png": "[encoded data removed]",
      "text/plain": [
       "<Figure size 432x288 with 1 Axes>"
      ]
     },
     "metadata": {
      "needs_background": "light"
     },
     "output_type": "display_data"
    },
    {
     "data": {
      "image/png": "[encoded data removed]",
      "text/plain": [
       "<Figure size 432x288 with 1 Axes>"
      ]
     },
     "metadata": {
      "needs_background": "light"
     },
     "output_type": "display_data"
    },
    {
     "data": {
      "image/png": "[encoded data removed]",
      "text/plain": [
       "<Figure size 432x288 with 1 Axes>"
      ]
     },
     "metadata": {
      "needs_background": "light"
     },
     "output_type": "display_data"
    },
    {
     "data": {
      "image/png": "[encoded data removed]",
      "text/plain": [
       "<Figure size 432x288 with 1 Axes>"
      ]
     },
     "metadata": {
      "needs_background": "light"
     },
     "output_type": "display_data"
    },
    {
     "data": {
      "image/png": "[encoded data removed]",
      "text/plain": [
       "<Figure size 432x288 with 1 Axes>"
      ]
     },
     "metadata": {
      "needs_background": "light"
     },
     "output_type": "display_data"
    }
   ],
   "source": [
    "for i in df_cat.columns:\n",
    "  plt_df=pd.DataFrame(df_cat.groupby(i).size().reset_index())\n",
    "  plt_df['prop'] = (plt_df[0]*100)/sum(plt_df[0])\n",
    "  plt_df=plt_df.sort_values(['prop'],ascending = False)\n",
    "  plt_df.plot.bar(x=i,y='prop')"
   ]
  },
  {
   "cell_type": "markdown",
   "id": "b6b57699",
   "metadata": {
    "id": "b6b57699"
   },
   "source": [
    "## 2.2. Our primary aim is to predict the class column using the other attributes. That is, we want to predict whether a person earns over 50K a year from heterogeneous data such as age, employment, education, family information, etc. This is a classification problem, and our objective in this question is to solve for it using linear regression."
   ]
  },
  {
   "cell_type": "markdown",
   "id": "0f72810e",
   "metadata": {
    "id": "0f72810e"
   },
   "source": [
    "**2.2.a. Describe how we can build a classifier using a linear model.**"
   ]
  },
  {
   "cell_type": "markdown",
   "id": "23a7f318",
   "metadata": {
    "id": "23a7f318"
   },
   "source": [
    "**_Since we have have two categories in our target class, we can encode the oarget class as 0 or 1. Similarly we will need to use one-hot encoding for all the categorical columns in our dataset. After that we will perform feature scaling and mean normalization for all our numeric columns.After all this pre-processing, we can then use a linear model to build a classifier by rounding off the output of the linear model to either 0 or 1._**"
   ]
  },
  {
   "cell_type": "markdown",
   "id": "13115334",
   "metadata": {
    "id": "13115334"
   },
   "source": [
    "**2.2.b. Is the dataset balanced? Why or why not?**"
   ]
  },
  {
   "cell_type": "code",
   "execution_count": 41,
   "id": "48dde002",
   "metadata": {
    "id": "48dde002"
   },
   "outputs": [
    {
     "data": {
      "text/plain": [
       " <=50K    0.760718\n",
       " >50K     0.239282\n",
       "Name: class, dtype: float64"
      ]
     },
     "execution_count": 41,
     "metadata": {},
     "output_type": "execute_result"
    }
   ],
   "source": [
    "df['class'].value_counts()/len(df['class'])"
   ]
  },
  {
   "cell_type": "markdown",
   "id": "9aeee50b",
   "metadata": {
    "id": "9aeee50b"
   },
   "source": [
    "**_From above results, the dataset doesn't seem balanced. Once of the classes has a higher proportion (76%) in our dataset than the other class (24%)._**"
   ]
  },
  {
   "cell_type": "markdown",
   "id": "b6047469",
   "metadata": {
    "id": "b6047469"
   },
   "source": [
    "**2.2.c. Write a function from scratch to split the dataset 80:20 into training and validation sets. Report the number of observations obtained in each set.**"
   ]
  },
  {
   "cell_type": "code",
   "execution_count": 42,
   "id": "ba9d2ce0",
   "metadata": {
    "id": "ba9d2ce0"
   },
   "outputs": [
    {
     "name": "stdout",
     "output_type": "stream",
     "text": [
      "Number of Observtions in training Set:  39073\n",
      "Number of Observtions in testing Set:  9769\n"
     ]
    }
   ],
   "source": [
    "def train_test_split(df):    \n",
    "    \n",
    "    # Shuffle your dataset \n",
    "    shuffle_df = df.sample(frac=1)\n",
    "\n",
    "    # Define a size for your train set \n",
    "    train_size = int(0.8 * len(df))\n",
    "\n",
    "    # Split your dataset \n",
    "    train_set = shuffle_df[:train_size]\n",
    "    test_set = shuffle_df[train_size:]\n",
    "    \n",
    "    return train_set,test_set\n",
    "\n",
    "train_data, test_data = train_test_split(df)\n",
    "print(\"Number of Observtions in training Set: \",train_data.shape[0])\n",
    "print(\"Number of Observtions in testing Set: \",test_data.shape[0])"
   ]
  },
  {
   "cell_type": "markdown",
   "id": "ee872c07",
   "metadata": {
    "id": "ee872c07"
   },
   "source": [
    "**_The number of Observations in the Tarining and Test set are 39073 and 9769 respectively_**"
   ]
  },
  {
   "cell_type": "markdown",
   "id": "34463bd6",
   "metadata": {
    "id": "34463bd6"
   },
   "source": [
    "## 2.3. Perform basic exploratory analysis by computing and visualizing correlations between features."
   ]
  },
  {
   "cell_type": "code",
   "execution_count": 43,
   "id": "69e75ec2",
   "metadata": {
    "id": "69e75ec2"
   },
   "outputs": [
    {
     "name": "stdout",
     "output_type": "stream",
     "text": [
      "<class 'pandas.core.frame.DataFrame'>\n",
      "RangeIndex: 48842 entries, 0 to 48841\n",
      "Data columns (total 15 columns):\n",
      " #   Column          Non-Null Count  Dtype \n",
      "---  ------          --------------  ----- \n",
      " 0   age             48842 non-null  int64 \n",
      " 1   workclass       48842 non-null  object\n",
      " 2   fnlwgt          48842 non-null  int64 \n",
      " 3   education       48842 non-null  object\n",
      " 4   education-num   48842 non-null  int64 \n",
      " 5   marital-status  48842 non-null  object\n",
      " 6   occupation      48842 non-null  object\n",
      " 7   relationship    48842 non-null  object\n",
      " 8   race            48842 non-null  object\n",
      " 9   sex             48842 non-null  object\n",
      " 10  capital-gain    48842 non-null  int64 \n",
      " 11  capital-loss    48842 non-null  int64 \n",
      " 12  hours-per-week  48842 non-null  int64 \n",
      " 13  native-country  48842 non-null  object\n",
      " 14  class           48842 non-null  object\n",
      "dtypes: int64(6), object(9)\n",
      "memory usage: 5.6+ MB\n"
     ]
    }
   ],
   "source": [
    "df.info()"
   ]
  },
  {
   "cell_type": "code",
   "execution_count": 44,
   "id": "5be7cfe2",
   "metadata": {
    "id": "5be7cfe2"
   },
   "outputs": [
    {
     "data": {
      "text/html": [
       "<div>\n",
       "<style scoped>\n",
       "    .dataframe tbody tr th:only-of-type {\n",
       "        vertical-align: middle;\n",
       "    }\n",
       "\n",
       "    .dataframe tbody tr th {\n",
       "        vertical-align: top;\n",
       "    }\n",
       "\n",
       "    .dataframe thead th {\n",
       "        text-align: right;\n",
       "    }\n",
       "</style>\n",
       "<table border=\"1\" class=\"dataframe\">\n",
       "  <thead>\n",
       "    <tr style=\"text-align: right;\">\n",
       "      <th></th>\n",
       "      <th>age</th>\n",
       "      <th>fnlwgt</th>\n",
       "      <th>education-num</th>\n",
       "      <th>capital-gain</th>\n",
       "      <th>capital-loss</th>\n",
       "      <th>hours-per-week</th>\n",
       "    </tr>\n",
       "  </thead>\n",
       "  <tbody>\n",
       "    <tr>\n",
       "      <th>count</th>\n",
       "      <td>48842.000000</td>\n",
       "      <td>4.884200e+04</td>\n",
       "      <td>48842.000000</td>\n",
       "      <td>48842.000000</td>\n",
       "      <td>48842.000000</td>\n",
       "      <td>48842.000000</td>\n",
       "    </tr>\n",
       "    <tr>\n",
       "      <th>mean</th>\n",
       "      <td>38.643585</td>\n",
       "      <td>1.896641e+05</td>\n",
       "      <td>10.078089</td>\n",
       "      <td>1079.067626</td>\n",
       "      <td>87.502314</td>\n",
       "      <td>40.422382</td>\n",
       "    </tr>\n",
       "    <tr>\n",
       "      <th>std</th>\n",
       "      <td>13.710510</td>\n",
       "      <td>1.056040e+05</td>\n",
       "      <td>2.570973</td>\n",
       "      <td>7452.019058</td>\n",
       "      <td>403.004552</td>\n",
       "      <td>12.391444</td>\n",
       "    </tr>\n",
       "    <tr>\n",
       "      <th>min</th>\n",
       "      <td>17.000000</td>\n",
       "      <td>1.228500e+04</td>\n",
       "      <td>1.000000</td>\n",
       "      <td>0.000000</td>\n",
       "      <td>0.000000</td>\n",
       "      <td>1.000000</td>\n",
       "    </tr>\n",
       "    <tr>\n",
       "      <th>25%</th>\n",
       "      <td>28.000000</td>\n",
       "      <td>1.175505e+05</td>\n",
       "      <td>9.000000</td>\n",
       "      <td>0.000000</td>\n",
       "      <td>0.000000</td>\n",
       "      <td>40.000000</td>\n",
       "    </tr>\n",
       "    <tr>\n",
       "      <th>50%</th>\n",
       "      <td>37.000000</td>\n",
       "      <td>1.781445e+05</td>\n",
       "      <td>10.000000</td>\n",
       "      <td>0.000000</td>\n",
       "      <td>0.000000</td>\n",
       "      <td>40.000000</td>\n",
       "    </tr>\n",
       "    <tr>\n",
       "      <th>75%</th>\n",
       "      <td>48.000000</td>\n",
       "      <td>2.376420e+05</td>\n",
       "      <td>12.000000</td>\n",
       "      <td>0.000000</td>\n",
       "      <td>0.000000</td>\n",
       "      <td>45.000000</td>\n",
       "    </tr>\n",
       "    <tr>\n",
       "      <th>max</th>\n",
       "      <td>90.000000</td>\n",
       "      <td>1.490400e+06</td>\n",
       "      <td>16.000000</td>\n",
       "      <td>99999.000000</td>\n",
       "      <td>4356.000000</td>\n",
       "      <td>99.000000</td>\n",
       "    </tr>\n",
       "  </tbody>\n",
       "</table>\n",
       "</div>"
      ],
      "text/plain": [
       "                age        fnlwgt  education-num  capital-gain  capital-loss  \\\n",
       "count  48842.000000  4.884200e+04   48842.000000  48842.000000  48842.000000   \n",
       "mean      38.643585  1.896641e+05      10.078089   1079.067626     87.502314   \n",
       "std       13.710510  1.056040e+05       2.570973   7452.019058    403.004552   \n",
       "min       17.000000  1.228500e+04       1.000000      0.000000      0.000000   \n",
       "25%       28.000000  1.175505e+05       9.000000      0.000000      0.000000   \n",
       "50%       37.000000  1.781445e+05      10.000000      0.000000      0.000000   \n",
       "75%       48.000000  2.376420e+05      12.000000      0.000000      0.000000   \n",
       "max       90.000000  1.490400e+06      16.000000  99999.000000   4356.000000   \n",
       "\n",
       "       hours-per-week  \n",
       "count    48842.000000  \n",
       "mean        40.422382  \n",
       "std         12.391444  \n",
       "min          1.000000  \n",
       "25%         40.000000  \n",
       "50%         40.000000  \n",
       "75%         45.000000  \n",
       "max         99.000000  "
      ]
     },
     "execution_count": 44,
     "metadata": {},
     "output_type": "execute_result"
    }
   ],
   "source": [
    "df.describe()"
   ]
  },
  {
   "cell_type": "markdown",
   "id": "6cc1a00b",
   "metadata": {
    "id": "6cc1a00b"
   },
   "source": [
    "**Below we are doing some data exploration, data wrangling and few visualizations**"
   ]
  },
  {
   "cell_type": "code",
   "execution_count": 45,
   "id": "e44dd831",
   "metadata": {
    "id": "e44dd831"
   },
   "outputs": [
    {
     "data": {
      "image/png": "[encoded data removed]",
      "text/plain": [
       "<Figure size 432x288 with 1 Axes>"
      ]
     },
     "metadata": {
      "needs_background": "light"
     },
     "output_type": "display_data"
    }
   ],
   "source": [
    "df['age'].plot.hist(bins=50,color='purple', edgecolor='black')\n",
    "plt.style.use('bmh')"
   ]
  },
  {
   "cell_type": "markdown",
   "id": "8ddba5fa",
   "metadata": {
    "id": "8ddba5fa"
   },
   "source": [
    "***The above plot displays the histogram for the 'age' column.***"
   ]
  },
  {
   "cell_type": "code",
   "execution_count": 46,
   "id": "e7b6a548",
   "metadata": {
    "id": "e7b6a548"
   },
   "outputs": [
    {
     "data": {
      "text/plain": [
       "age               0\n",
       "workclass         0\n",
       "fnlwgt            0\n",
       "education         0\n",
       "education-num     0\n",
       "marital-status    0\n",
       "occupation        0\n",
       "relationship      0\n",
       "race              0\n",
       "sex               0\n",
       "capital-gain      0\n",
       "capital-loss      0\n",
       "hours-per-week    0\n",
       "native-country    0\n",
       "class             0\n",
       "dtype: int64"
      ]
     },
     "execution_count": 46,
     "metadata": {},
     "output_type": "execute_result"
    }
   ],
   "source": [
    "df.isna().sum()"
   ]
  },
  {
   "cell_type": "markdown",
   "id": "0f80c98b",
   "metadata": {
    "id": "0f80c98b"
   },
   "source": [
    "***The above result confirms we have no null values in our dataset.***"
   ]
  },
  {
   "cell_type": "code",
   "execution_count": 47,
   "id": "59853e2d",
   "metadata": {
    "id": "59853e2d"
   },
   "outputs": [
    {
     "data": {
      "text/plain": [
       "<AxesSubplot:ylabel='Frequency'>"
      ]
     },
     "execution_count": 47,
     "metadata": {},
     "output_type": "execute_result"
    },
    {
     "data": {
      "image/png": "[encoded data removed]",
      "text/plain": [
       "<Figure size 432x288 with 1 Axes>"
      ]
     },
     "metadata": {
      "needs_background": "light"
     },
     "output_type": "display_data"
    }
   ],
   "source": [
    "df['education-num'].plot.hist()"
   ]
  },
  {
   "cell_type": "markdown",
   "id": "82b6dfe3",
   "metadata": {
    "id": "82b6dfe3"
   },
   "source": [
    "***The above plot displays the histogram for the 'education-num' column.***"
   ]
  },
  {
   "cell_type": "code",
   "execution_count": 48,
   "id": "fe3abcb7",
   "metadata": {
    "id": "fe3abcb7"
   },
   "outputs": [
    {
     "data": {
      "text/plain": [
       "<AxesSubplot:ylabel='Frequency'>"
      ]
     },
     "execution_count": 48,
     "metadata": {},
     "output_type": "execute_result"
    },
    {
     "data": {
      "image/png": "[encoded data removed]",
      "text/plain": [
       "<Figure size 432x288 with 1 Axes>"
      ]
     },
     "metadata": {
      "needs_background": "light"
     },
     "output_type": "display_data"
    }
   ],
   "source": [
    "df['fnlwgt'].plot.hist()"
   ]
  },
  {
   "cell_type": "markdown",
   "id": "067edd4d",
   "metadata": {
    "id": "067edd4d"
   },
   "source": [
    "***The above plot displays the histogram for the 'fnlwgt' column.***"
   ]
  },
  {
   "cell_type": "code",
   "execution_count": 49,
   "id": "4ec2359f",
   "metadata": {
    "id": "4ec2359f"
   },
   "outputs": [
    {
     "data": {
      "text/plain": [
       "class\n",
       " <=50K    36.872184\n",
       " >50K     44.275178\n",
       "Name: age, dtype: float64"
      ]
     },
     "execution_count": 49,
     "metadata": {},
     "output_type": "execute_result"
    }
   ],
   "source": [
    "df.groupby(['class'])['age'].mean()"
   ]
  },
  {
   "cell_type": "markdown",
   "id": "b9cd970f",
   "metadata": {
    "id": "b9cd970f"
   },
   "source": [
    "***From above result we can see that the average age of the population earning >50k is 44years that is older than the average age (37 years) for of the population earning <=50k.***"
   ]
  },
  {
   "cell_type": "code",
   "execution_count": 50,
   "id": "3a742ac0",
   "metadata": {
    "id": "3a742ac0"
   },
   "outputs": [
    {
     "data": {
      "text/plain": [
       "class   marital-status        \n",
       " <=50K   Divorced                  5962\n",
       "         Married-AF-spouse           23\n",
       "         Married-civ-spouse       12395\n",
       "         Married-spouse-absent      570\n",
       "         Never-married            15384\n",
       "         Separated                 1431\n",
       "         Widowed                   1390\n",
       " >50K    Divorced                   671\n",
       "         Married-AF-spouse           14\n",
       "         Married-civ-spouse        9984\n",
       "         Married-spouse-absent       58\n",
       "         Never-married              733\n",
       "         Separated                   99\n",
       "         Widowed                    128\n",
       "Name: marital-status, dtype: int64"
      ]
     },
     "execution_count": 50,
     "metadata": {},
     "output_type": "execute_result"
    }
   ],
   "source": [
    "df.groupby(['class','marital-status'])['marital-status'].count()"
   ]
  },
  {
   "cell_type": "markdown",
   "id": "3f57a1b5",
   "metadata": {
    "id": "3f57a1b5"
   },
   "source": [
    "***The above result shows the distribution of 'Marital-Status' for each target class.***"
   ]
  },
  {
   "cell_type": "code",
   "execution_count": 51,
   "id": "0be05457",
   "metadata": {
    "id": "0be05457"
   },
   "outputs": [
    {
     "data": {
      "text/plain": [
       "class   education    \n",
       " <=50K   10th             1302\n",
       "         11th             1720\n",
       "         12th              609\n",
       "         1st-4th           239\n",
       "         5th-6th           482\n",
       "         7th-8th           893\n",
       "         9th               715\n",
       "         Assoc-acdm       1188\n",
       "         Assoc-voc        1539\n",
       "         Bachelors        4712\n",
       "         Doctorate         163\n",
       "         HS-grad         13281\n",
       "         Masters          1198\n",
       "         Preschool          82\n",
       "         Prof-school       217\n",
       "         Some-college     8815\n",
       " >50K    10th               87\n",
       "         11th               92\n",
       "         12th               48\n",
       "         1st-4th             8\n",
       "         5th-6th            27\n",
       "         7th-8th            62\n",
       "         9th                41\n",
       "         Assoc-acdm        413\n",
       "         Assoc-voc         522\n",
       "         Bachelors        3313\n",
       "         Doctorate         431\n",
       "         HS-grad          2503\n",
       "         Masters          1459\n",
       "         Preschool           1\n",
       "         Prof-school       617\n",
       "         Some-college     2063\n",
       "Name: education, dtype: int64"
      ]
     },
     "execution_count": 51,
     "metadata": {},
     "output_type": "execute_result"
    }
   ],
   "source": [
    "df.groupby(['class','education'])['education'].count()"
   ]
  },
  {
   "cell_type": "markdown",
   "id": "4bd48c96",
   "metadata": {
    "id": "4bd48c96"
   },
   "source": [
    "***The above result shows the distribution of 'Education' for each target class.***"
   ]
  },
  {
   "cell_type": "code",
   "execution_count": 52,
   "id": "427b5fca",
   "metadata": {
    "id": "427b5fca"
   },
   "outputs": [
    {
     "data": {
      "text/plain": [
       "count    48842.000000\n",
       "mean      1079.067626\n",
       "std       7452.019058\n",
       "min          0.000000\n",
       "25%          0.000000\n",
       "50%          0.000000\n",
       "75%          0.000000\n",
       "max      99999.000000\n",
       "Name: capital-gain, dtype: float64"
      ]
     },
     "execution_count": 52,
     "metadata": {},
     "output_type": "execute_result"
    }
   ],
   "source": [
    "df['capital-gain'].describe()"
   ]
  },
  {
   "cell_type": "code",
   "execution_count": 53,
   "id": "fc89d58e",
   "metadata": {
    "id": "fc89d58e"
   },
   "outputs": [
    {
     "data": {
      "text/plain": [
       "count    48842.000000\n",
       "mean        87.502314\n",
       "std        403.004552\n",
       "min          0.000000\n",
       "25%          0.000000\n",
       "50%          0.000000\n",
       "75%          0.000000\n",
       "max       4356.000000\n",
       "Name: capital-loss, dtype: float64"
      ]
     },
     "execution_count": 53,
     "metadata": {},
     "output_type": "execute_result"
    }
   ],
   "source": [
    "df['capital-loss'].describe()"
   ]
  },
  {
   "cell_type": "markdown",
   "id": "75985c59",
   "metadata": {
    "id": "75985c59"
   },
   "source": [
    "**2.3.a. Draw the plot of correlations between every pair of features.**"
   ]
  },
  {
   "cell_type": "code",
   "execution_count": 54,
   "id": "08f5b0a4",
   "metadata": {
    "id": "08f5b0a4"
   },
   "outputs": [
    {
     "name": "stdout",
     "output_type": "stream",
     "text": [
      "The correlation between all the numeric features: \n",
      "\n",
      "                      age    fnlwgt  education-num  capital-gain  capital-loss  \\\n",
      "age             1.000000 -0.076628       0.030940      0.077229      0.056944   \n",
      "fnlwgt         -0.076628  1.000000      -0.038761     -0.003706     -0.004366   \n",
      "education-num   0.030940 -0.038761       1.000000      0.125146      0.080972   \n",
      "capital-gain    0.077229 -0.003706       0.125146      1.000000     -0.031441   \n",
      "capital-loss    0.056944 -0.004366       0.080972     -0.031441      1.000000   \n",
      "hours-per-week  0.071558 -0.013519       0.143689      0.082157      0.054467   \n",
      "\n",
      "                hours-per-week  \n",
      "age                   0.071558  \n",
      "fnlwgt               -0.013519  \n",
      "education-num         0.143689  \n",
      "capital-gain          0.082157  \n",
      "capital-loss          0.054467  \n",
      "hours-per-week        1.000000  \n"
     ]
    },
    {
     "data": {
      "text/plain": [
       "<AxesSubplot:>"
      ]
     },
     "execution_count": 54,
     "metadata": {},
     "output_type": "execute_result"
    },
    {
     "data": {
      "image/png": "[encoded data removed]",
      "text/plain": [
       "<Figure size 432x288 with 2 Axes>"
      ]
     },
     "metadata": {
      "needs_background": "light"
     },
     "output_type": "display_data"
    }
   ],
   "source": [
    "corr_df=df.corr()\n",
    "print(\"The correlation between all the numeric features: \\n\\n\",corr_df)\n",
    "sns.heatmap(df.corr())"
   ]
  },
  {
   "cell_type": "markdown",
   "id": "e0b6af3c",
   "metadata": {
    "id": "e0b6af3c"
   },
   "source": [
    "**2.3.b. Which features are highly correlated one another?**"
   ]
  },
  {
   "cell_type": "markdown",
   "id": "8285b725",
   "metadata": {
    "id": "8285b725"
   },
   "source": [
    "***In our dataset we cannot see any high correlation between any pair of features.***"
   ]
  },
  {
   "cell_type": "markdown",
   "id": "3c269242",
   "metadata": {
    "id": "3c269242"
   },
   "source": [
    "**Data Cleaning**"
   ]
  },
  {
   "cell_type": "markdown",
   "id": "4fb8f11a",
   "metadata": {
    "id": "4fb8f11a"
   },
   "source": [
    "**Below we are performing some data cleaning steps. We have unassigned value '?' in few of our columns. We will address these below by replacing '?' with 'Unknown'.**"
   ]
  },
  {
   "cell_type": "code",
   "execution_count": 55,
   "id": "918c885c",
   "metadata": {
    "id": "918c885c"
   },
   "outputs": [],
   "source": [
    "df[df_cat.columns] = df_cat.apply(lambda x: x.str.strip(),axis=1)"
   ]
  },
  {
   "cell_type": "code",
   "execution_count": 56,
   "id": "2de29375",
   "metadata": {
    "id": "2de29375"
   },
   "outputs": [],
   "source": [
    "df.replace(to_replace='?',value='Unknown',inplace=True)"
   ]
  },
  {
   "cell_type": "markdown",
   "id": "720e7ea8",
   "metadata": {
    "id": "720e7ea8"
   },
   "source": [
    "**Below we are perform one-hot encoding for all the categorical variables in our dataset.**"
   ]
  },
  {
   "cell_type": "code",
   "execution_count": 57,
   "id": "43d3e6da",
   "metadata": {
    "id": "43d3e6da"
   },
   "outputs": [],
   "source": [
    "df_dum = pd.get_dummies(df[df_cat.columns],drop_first=True)"
   ]
  },
  {
   "cell_type": "code",
   "execution_count": 58,
   "id": "c92a458b",
   "metadata": {
    "id": "c92a458b"
   },
   "outputs": [
    {
     "data": {
      "text/html": [
       "<div>\n",
       "<style scoped>\n",
       "    .dataframe tbody tr th:only-of-type {\n",
       "        vertical-align: middle;\n",
       "    }\n",
       "\n",
       "    .dataframe tbody tr th {\n",
       "        vertical-align: top;\n",
       "    }\n",
       "\n",
       "    .dataframe thead th {\n",
       "        text-align: right;\n",
       "    }\n",
       "</style>\n",
       "<table border=\"1\" class=\"dataframe\">\n",
       "  <thead>\n",
       "    <tr style=\"text-align: right;\">\n",
       "      <th></th>\n",
       "      <th>workclass_Local-gov</th>\n",
       "      <th>workclass_Never-worked</th>\n",
       "      <th>workclass_Private</th>\n",
       "      <th>workclass_Self-emp-inc</th>\n",
       "      <th>workclass_Self-emp-not-inc</th>\n",
       "      <th>workclass_State-gov</th>\n",
       "      <th>workclass_Unknown</th>\n",
       "      <th>workclass_Without-pay</th>\n",
       "      <th>education_11th</th>\n",
       "      <th>education_12th</th>\n",
       "      <th>...</th>\n",
       "      <th>native-country_Scotland</th>\n",
       "      <th>native-country_South</th>\n",
       "      <th>native-country_Taiwan</th>\n",
       "      <th>native-country_Thailand</th>\n",
       "      <th>native-country_Trinadad&amp;Tobago</th>\n",
       "      <th>native-country_United-States</th>\n",
       "      <th>native-country_Unknown</th>\n",
       "      <th>native-country_Vietnam</th>\n",
       "      <th>native-country_Yugoslavia</th>\n",
       "      <th>class_&gt;50K</th>\n",
       "    </tr>\n",
       "  </thead>\n",
       "  <tbody>\n",
       "    <tr>\n",
       "      <th>0</th>\n",
       "      <td>0</td>\n",
       "      <td>0</td>\n",
       "      <td>1</td>\n",
       "      <td>0</td>\n",
       "      <td>0</td>\n",
       "      <td>0</td>\n",
       "      <td>0</td>\n",
       "      <td>0</td>\n",
       "      <td>1</td>\n",
       "      <td>0</td>\n",
       "      <td>...</td>\n",
       "      <td>0</td>\n",
       "      <td>0</td>\n",
       "      <td>0</td>\n",
       "      <td>0</td>\n",
       "      <td>0</td>\n",
       "      <td>1</td>\n",
       "      <td>0</td>\n",
       "      <td>0</td>\n",
       "      <td>0</td>\n",
       "      <td>0</td>\n",
       "    </tr>\n",
       "    <tr>\n",
       "      <th>1</th>\n",
       "      <td>0</td>\n",
       "      <td>0</td>\n",
       "      <td>1</td>\n",
       "      <td>0</td>\n",
       "      <td>0</td>\n",
       "      <td>0</td>\n",
       "      <td>0</td>\n",
       "      <td>0</td>\n",
       "      <td>0</td>\n",
       "      <td>0</td>\n",
       "      <td>...</td>\n",
       "      <td>0</td>\n",
       "      <td>0</td>\n",
       "      <td>0</td>\n",
       "      <td>0</td>\n",
       "      <td>0</td>\n",
       "      <td>1</td>\n",
       "      <td>0</td>\n",
       "      <td>0</td>\n",
       "      <td>0</td>\n",
       "      <td>0</td>\n",
       "    </tr>\n",
       "    <tr>\n",
       "      <th>2</th>\n",
       "      <td>1</td>\n",
       "      <td>0</td>\n",
       "      <td>0</td>\n",
       "      <td>0</td>\n",
       "      <td>0</td>\n",
       "      <td>0</td>\n",
       "      <td>0</td>\n",
       "      <td>0</td>\n",
       "      <td>0</td>\n",
       "      <td>0</td>\n",
       "      <td>...</td>\n",
       "      <td>0</td>\n",
       "      <td>0</td>\n",
       "      <td>0</td>\n",
       "      <td>0</td>\n",
       "      <td>0</td>\n",
       "      <td>1</td>\n",
       "      <td>0</td>\n",
       "      <td>0</td>\n",
       "      <td>0</td>\n",
       "      <td>1</td>\n",
       "    </tr>\n",
       "    <tr>\n",
       "      <th>3</th>\n",
       "      <td>0</td>\n",
       "      <td>0</td>\n",
       "      <td>1</td>\n",
       "      <td>0</td>\n",
       "      <td>0</td>\n",
       "      <td>0</td>\n",
       "      <td>0</td>\n",
       "      <td>0</td>\n",
       "      <td>0</td>\n",
       "      <td>0</td>\n",
       "      <td>...</td>\n",
       "      <td>0</td>\n",
       "      <td>0</td>\n",
       "      <td>0</td>\n",
       "      <td>0</td>\n",
       "      <td>0</td>\n",
       "      <td>1</td>\n",
       "      <td>0</td>\n",
       "      <td>0</td>\n",
       "      <td>0</td>\n",
       "      <td>1</td>\n",
       "    </tr>\n",
       "    <tr>\n",
       "      <th>4</th>\n",
       "      <td>0</td>\n",
       "      <td>0</td>\n",
       "      <td>0</td>\n",
       "      <td>0</td>\n",
       "      <td>0</td>\n",
       "      <td>0</td>\n",
       "      <td>1</td>\n",
       "      <td>0</td>\n",
       "      <td>0</td>\n",
       "      <td>0</td>\n",
       "      <td>...</td>\n",
       "      <td>0</td>\n",
       "      <td>0</td>\n",
       "      <td>0</td>\n",
       "      <td>0</td>\n",
       "      <td>0</td>\n",
       "      <td>1</td>\n",
       "      <td>0</td>\n",
       "      <td>0</td>\n",
       "      <td>0</td>\n",
       "      <td>0</td>\n",
       "    </tr>\n",
       "  </tbody>\n",
       "</table>\n",
       "<p>5 rows × 95 columns</p>\n",
       "</div>"
      ],
      "text/plain": [
       "   workclass_Local-gov  workclass_Never-worked  workclass_Private  \\\n",
       "0                    0                       0                  1   \n",
       "1                    0                       0                  1   \n",
       "2                    1                       0                  0   \n",
       "3                    0                       0                  1   \n",
       "4                    0                       0                  0   \n",
       "\n",
       "   workclass_Self-emp-inc  workclass_Self-emp-not-inc  workclass_State-gov  \\\n",
       "0                       0                           0                    0   \n",
       "1                       0                           0                    0   \n",
       "2                       0                           0                    0   \n",
       "3                       0                           0                    0   \n",
       "4                       0                           0                    0   \n",
       "\n",
       "   workclass_Unknown  workclass_Without-pay  education_11th  education_12th  \\\n",
       "0                  0                      0               1               0   \n",
       "1                  0                      0               0               0   \n",
       "2                  0                      0               0               0   \n",
       "3                  0                      0               0               0   \n",
       "4                  1                      0               0               0   \n",
       "\n",
       "   ...  native-country_Scotland  native-country_South  native-country_Taiwan  \\\n",
       "0  ...                        0                     0                      0   \n",
       "1  ...                        0                     0                      0   \n",
       "2  ...                        0                     0                      0   \n",
       "3  ...                        0                     0                      0   \n",
       "4  ...                        0                     0                      0   \n",
       "\n",
       "   native-country_Thailand  native-country_Trinadad&Tobago  \\\n",
       "0                        0                               0   \n",
       "1                        0                               0   \n",
       "2                        0                               0   \n",
       "3                        0                               0   \n",
       "4                        0                               0   \n",
       "\n",
       "   native-country_United-States  native-country_Unknown  \\\n",
       "0                             1                       0   \n",
       "1                             1                       0   \n",
       "2                             1                       0   \n",
       "3                             1                       0   \n",
       "4                             1                       0   \n",
       "\n",
       "   native-country_Vietnam  native-country_Yugoslavia  class_>50K  \n",
       "0                       0                          0           0  \n",
       "1                       0                          0           0  \n",
       "2                       0                          0           1  \n",
       "3                       0                          0           1  \n",
       "4                       0                          0           0  \n",
       "\n",
       "[5 rows x 95 columns]"
      ]
     },
     "execution_count": 58,
     "metadata": {},
     "output_type": "execute_result"
    }
   ],
   "source": [
    "df_dum.head()"
   ]
  },
  {
   "cell_type": "code",
   "execution_count": 59,
   "id": "ee66d932",
   "metadata": {
    "id": "ee66d932"
   },
   "outputs": [],
   "source": [
    "df.drop(df_cat.columns,axis=1,inplace=True) "
   ]
  },
  {
   "cell_type": "code",
   "execution_count": 60,
   "id": "035c615e",
   "metadata": {
    "id": "035c615e"
   },
   "outputs": [],
   "source": [
    "df_fin = pd.concat([df,df_dum],axis=1)"
   ]
  },
  {
   "cell_type": "markdown",
   "id": "b385283b",
   "metadata": {
    "id": "b385283b"
   },
   "source": [
    "***Below we have created our final dataset that will be used to build our classifier using a linear model***"
   ]
  },
  {
   "cell_type": "code",
   "execution_count": 61,
   "id": "92ef82b1",
   "metadata": {
    "id": "92ef82b1"
   },
   "outputs": [
    {
     "data": {
      "text/html": [
       "<div>\n",
       "<style scoped>\n",
       "    .dataframe tbody tr th:only-of-type {\n",
       "        vertical-align: middle;\n",
       "    }\n",
       "\n",
       "    .dataframe tbody tr th {\n",
       "        vertical-align: top;\n",
       "    }\n",
       "\n",
       "    .dataframe thead th {\n",
       "        text-align: right;\n",
       "    }\n",
       "</style>\n",
       "<table border=\"1\" class=\"dataframe\">\n",
       "  <thead>\n",
       "    <tr style=\"text-align: right;\">\n",
       "      <th></th>\n",
       "      <th>age</th>\n",
       "      <th>fnlwgt</th>\n",
       "      <th>education-num</th>\n",
       "      <th>capital-gain</th>\n",
       "      <th>capital-loss</th>\n",
       "      <th>hours-per-week</th>\n",
       "      <th>workclass_Local-gov</th>\n",
       "      <th>workclass_Never-worked</th>\n",
       "      <th>workclass_Private</th>\n",
       "      <th>workclass_Self-emp-inc</th>\n",
       "      <th>...</th>\n",
       "      <th>native-country_Scotland</th>\n",
       "      <th>native-country_South</th>\n",
       "      <th>native-country_Taiwan</th>\n",
       "      <th>native-country_Thailand</th>\n",
       "      <th>native-country_Trinadad&amp;Tobago</th>\n",
       "      <th>native-country_United-States</th>\n",
       "      <th>native-country_Unknown</th>\n",
       "      <th>native-country_Vietnam</th>\n",
       "      <th>native-country_Yugoslavia</th>\n",
       "      <th>class_&gt;50K</th>\n",
       "    </tr>\n",
       "  </thead>\n",
       "  <tbody>\n",
       "    <tr>\n",
       "      <th>0</th>\n",
       "      <td>25</td>\n",
       "      <td>226802</td>\n",
       "      <td>7</td>\n",
       "      <td>0</td>\n",
       "      <td>0</td>\n",
       "      <td>40</td>\n",
       "      <td>0</td>\n",
       "      <td>0</td>\n",
       "      <td>1</td>\n",
       "      <td>0</td>\n",
       "      <td>...</td>\n",
       "      <td>0</td>\n",
       "      <td>0</td>\n",
       "      <td>0</td>\n",
       "      <td>0</td>\n",
       "      <td>0</td>\n",
       "      <td>1</td>\n",
       "      <td>0</td>\n",
       "      <td>0</td>\n",
       "      <td>0</td>\n",
       "      <td>0</td>\n",
       "    </tr>\n",
       "    <tr>\n",
       "      <th>1</th>\n",
       "      <td>38</td>\n",
       "      <td>89814</td>\n",
       "      <td>9</td>\n",
       "      <td>0</td>\n",
       "      <td>0</td>\n",
       "      <td>50</td>\n",
       "      <td>0</td>\n",
       "      <td>0</td>\n",
       "      <td>1</td>\n",
       "      <td>0</td>\n",
       "      <td>...</td>\n",
       "      <td>0</td>\n",
       "      <td>0</td>\n",
       "      <td>0</td>\n",
       "      <td>0</td>\n",
       "      <td>0</td>\n",
       "      <td>1</td>\n",
       "      <td>0</td>\n",
       "      <td>0</td>\n",
       "      <td>0</td>\n",
       "      <td>0</td>\n",
       "    </tr>\n",
       "    <tr>\n",
       "      <th>2</th>\n",
       "      <td>28</td>\n",
       "      <td>336951</td>\n",
       "      <td>12</td>\n",
       "      <td>0</td>\n",
       "      <td>0</td>\n",
       "      <td>40</td>\n",
       "      <td>1</td>\n",
       "      <td>0</td>\n",
       "      <td>0</td>\n",
       "      <td>0</td>\n",
       "      <td>...</td>\n",
       "      <td>0</td>\n",
       "      <td>0</td>\n",
       "      <td>0</td>\n",
       "      <td>0</td>\n",
       "      <td>0</td>\n",
       "      <td>1</td>\n",
       "      <td>0</td>\n",
       "      <td>0</td>\n",
       "      <td>0</td>\n",
       "      <td>1</td>\n",
       "    </tr>\n",
       "    <tr>\n",
       "      <th>3</th>\n",
       "      <td>44</td>\n",
       "      <td>160323</td>\n",
       "      <td>10</td>\n",
       "      <td>7688</td>\n",
       "      <td>0</td>\n",
       "      <td>40</td>\n",
       "      <td>0</td>\n",
       "      <td>0</td>\n",
       "      <td>1</td>\n",
       "      <td>0</td>\n",
       "      <td>...</td>\n",
       "      <td>0</td>\n",
       "      <td>0</td>\n",
       "      <td>0</td>\n",
       "      <td>0</td>\n",
       "      <td>0</td>\n",
       "      <td>1</td>\n",
       "      <td>0</td>\n",
       "      <td>0</td>\n",
       "      <td>0</td>\n",
       "      <td>1</td>\n",
       "    </tr>\n",
       "    <tr>\n",
       "      <th>4</th>\n",
       "      <td>18</td>\n",
       "      <td>103497</td>\n",
       "      <td>10</td>\n",
       "      <td>0</td>\n",
       "      <td>0</td>\n",
       "      <td>30</td>\n",
       "      <td>0</td>\n",
       "      <td>0</td>\n",
       "      <td>0</td>\n",
       "      <td>0</td>\n",
       "      <td>...</td>\n",
       "      <td>0</td>\n",
       "      <td>0</td>\n",
       "      <td>0</td>\n",
       "      <td>0</td>\n",
       "      <td>0</td>\n",
       "      <td>1</td>\n",
       "      <td>0</td>\n",
       "      <td>0</td>\n",
       "      <td>0</td>\n",
       "      <td>0</td>\n",
       "    </tr>\n",
       "  </tbody>\n",
       "</table>\n",
       "<p>5 rows × 101 columns</p>\n",
       "</div>"
      ],
      "text/plain": [
       "   age  fnlwgt  education-num  capital-gain  capital-loss  hours-per-week  \\\n",
       "0   25  226802              7             0             0              40   \n",
       "1   38   89814              9             0             0              50   \n",
       "2   28  336951             12             0             0              40   \n",
       "3   44  160323             10          7688             0              40   \n",
       "4   18  103497             10             0             0              30   \n",
       "\n",
       "   workclass_Local-gov  workclass_Never-worked  workclass_Private  \\\n",
       "0                    0                       0                  1   \n",
       "1                    0                       0                  1   \n",
       "2                    1                       0                  0   \n",
       "3                    0                       0                  1   \n",
       "4                    0                       0                  0   \n",
       "\n",
       "   workclass_Self-emp-inc  ...  native-country_Scotland  native-country_South  \\\n",
       "0                       0  ...                        0                     0   \n",
       "1                       0  ...                        0                     0   \n",
       "2                       0  ...                        0                     0   \n",
       "3                       0  ...                        0                     0   \n",
       "4                       0  ...                        0                     0   \n",
       "\n",
       "   native-country_Taiwan  native-country_Thailand  \\\n",
       "0                      0                        0   \n",
       "1                      0                        0   \n",
       "2                      0                        0   \n",
       "3                      0                        0   \n",
       "4                      0                        0   \n",
       "\n",
       "   native-country_Trinadad&Tobago  native-country_United-States  \\\n",
       "0                               0                             1   \n",
       "1                               0                             1   \n",
       "2                               0                             1   \n",
       "3                               0                             1   \n",
       "4                               0                             1   \n",
       "\n",
       "   native-country_Unknown  native-country_Vietnam  native-country_Yugoslavia  \\\n",
       "0                       0                       0                          0   \n",
       "1                       0                       0                          0   \n",
       "2                       0                       0                          0   \n",
       "3                       0                       0                          0   \n",
       "4                       0                       0                          0   \n",
       "\n",
       "   class_>50K  \n",
       "0           0  \n",
       "1           0  \n",
       "2           1  \n",
       "3           1  \n",
       "4           0  \n",
       "\n",
       "[5 rows x 101 columns]"
      ]
     },
     "execution_count": 61,
     "metadata": {},
     "output_type": "execute_result"
    }
   ],
   "source": [
    "df_fin.head()"
   ]
  },
  {
   "cell_type": "code",
   "execution_count": 62,
   "id": "0656f8bb",
   "metadata": {
    "id": "0656f8bb"
   },
   "outputs": [],
   "source": [
    "df_fin.rename(columns = {'class_>50K':'target_class'},inplace=True)"
   ]
  },
  {
   "cell_type": "markdown",
   "id": "4e229fad",
   "metadata": {
    "id": "4e229fad"
   },
   "source": [
    "**2.3.c. Is the data matrix tall or wide?**"
   ]
  },
  {
   "cell_type": "code",
   "execution_count": 63,
   "id": "oSFCv-N81Ezb",
   "metadata": {
    "id": "oSFCv-N81Ezb"
   },
   "outputs": [
    {
     "data": {
      "text/plain": [
       "(48842, 101)"
      ]
     },
     "execution_count": 63,
     "metadata": {},
     "output_type": "execute_result"
    }
   ],
   "source": [
    "df_fin.shape"
   ]
  },
  {
   "cell_type": "markdown",
   "id": "ouUK4mKi1_Na",
   "metadata": {
    "id": "ouUK4mKi1_Na"
   },
   "source": [
    "***The data matrix is tall as there are more number of rows than columns.***"
   ]
  },
  {
   "cell_type": "markdown",
   "id": "d050f38f",
   "metadata": {
    "id": "d050f38f"
   },
   "source": [
    "## 2.4. Perform linear regression using the above BGD (or SGD or MBGD, your choice) procedure."
   ]
  },
  {
   "cell_type": "markdown",
   "id": "76114fb8",
   "metadata": {
    "id": "76114fb8"
   },
   "source": [
    "**Below we are splitting our dataset into training and testing**"
   ]
  },
  {
   "cell_type": "code",
   "execution_count": 64,
   "id": "8d92cbc6",
   "metadata": {
    "id": "8d92cbc6"
   },
   "outputs": [],
   "source": [
    "train_data, test_data = train_test_split(df_fin)"
   ]
  },
  {
   "cell_type": "code",
   "execution_count": 65,
   "id": "ff596e59",
   "metadata": {
    "id": "ff596e59"
   },
   "outputs": [],
   "source": [
    "X_train = train_data.iloc[:,:-1]\n",
    "y_train = pd.DataFrame(train_data.iloc[:,-1])"
   ]
  },
  {
   "cell_type": "code",
   "execution_count": 66,
   "id": "4e25e86a",
   "metadata": {
    "id": "4e25e86a"
   },
   "outputs": [],
   "source": [
    "X_test = test_data.iloc[:,:-1]\n",
    "y_test = pd.DataFrame(test_data.iloc[:,-1])"
   ]
  },
  {
   "cell_type": "code",
   "execution_count": 67,
   "id": "4354b2df",
   "metadata": {
    "id": "4354b2df"
   },
   "outputs": [],
   "source": [
    "X_train['bias'] = 1\n",
    "X_test['bias'] = 1"
   ]
  },
  {
   "cell_type": "markdown",
   "id": "94a7c09e",
   "metadata": {
    "id": "94a7c09e"
   },
   "source": [
    "**Since the mean and range of each of the variables in our dataset are on highly different scales, this doesnot make our gradient descent to converge on a Local Minima even after multiple iterations and using different learning rates. Hence, we will perform mean normalization and feature scaling of our training and testing dataset.**"
   ]
  },
  {
   "cell_type": "code",
   "execution_count": 68,
   "id": "85001512",
   "metadata": {
    "id": "85001512"
   },
   "outputs": [],
   "source": [
    "from sklearn.preprocessing import StandardScaler,MinMaxScaler\n",
    "scaler = MinMaxScaler()\n",
    " \n",
    "# To scale data\n",
    "X_train_sc=scaler.fit_transform(X_train)\n",
    "X_test_sc=scaler.fit_transform(X_test)"
   ]
  },
  {
   "cell_type": "code",
   "execution_count": 69,
   "id": "e43d6d2f",
   "metadata": {
    "id": "e43d6d2f"
   },
   "outputs": [
    {
     "data": {
      "text/plain": [
       "array([[0.38356164, 0.13514886, 0.86666667, ..., 0.        , 0.        ,\n",
       "        0.        ],\n",
       "       [0.10958904, 0.10703351, 0.8       , ..., 0.        , 0.        ,\n",
       "        0.        ],\n",
       "       [0.08219178, 0.17904676, 0.8       , ..., 0.        , 0.        ,\n",
       "        0.        ],\n",
       "       ...,\n",
       "       [0.08219178, 0.11400817, 0.6       , ..., 0.        , 0.        ,\n",
       "        0.        ],\n",
       "       [0.26027397, 0.10894462, 0.66666667, ..., 0.        , 0.        ,\n",
       "        0.        ],\n",
       "       [0.42465753, 0.07203018, 0.53333333, ..., 0.        , 0.        ,\n",
       "        0.        ]])"
      ]
     },
     "execution_count": 69,
     "metadata": {},
     "output_type": "execute_result"
    }
   ],
   "source": [
    "X_train_sc"
   ]
  },
  {
   "cell_type": "markdown",
   "id": "18470a4a",
   "metadata": {
    "id": "18470a4a"
   },
   "source": [
    "**Below is the Batch Gradient Descent function in a bit modified form to suit the specific task.**"
   ]
  },
  {
   "cell_type": "code",
   "execution_count": 70,
   "id": "38544ecc",
   "metadata": {
    "id": "38544ecc"
   },
   "outputs": [],
   "source": [
    "def gradient_descent(X,y,step_size,iterations):  \n",
    "    \n",
    "    \n",
    "    N = X.shape[0]\n",
    "    D = X.shape[1] \n",
    "    W =  np.random.randn(D,1)\n",
    "#     b=np.random.randn()\n",
    " \n",
    "    w_hist = np.zeros((iterations,D))\n",
    "    loss_hist = np.zeros(iterations)\n",
    "\n",
    "    for i in range(iterations):\n",
    "        pred = np.dot(X, W)  \n",
    "        z = ((pred - y))\n",
    "        msl = (1/(2*N)) * np.sum(np.square(z),axis=0)\n",
    "        if i % 10 == 0:\n",
    "            print(\"iteration: \"+str(i) +\" loss: \"+str(msl))\n",
    "\n",
    "#          compute the gradient on scores\n",
    "       \n",
    "        #     print(z.shape)\n",
    "        dw = np.dot(X.T,z)\n",
    "        W = W - (step_size * dw / N)\n",
    "#         b = b - (step_size * db / N)\n",
    "\n",
    "        w_hist[i:]=W.T\n",
    "        loss_hist[i]=msl\n",
    "    return w_hist\n",
    "\n"
   ]
  },
  {
   "cell_type": "markdown",
   "id": "025db5c0",
   "metadata": {
    "id": "025db5c0"
   },
   "source": [
    "**2.4.a. What is the the output variable for regression? Is it the same as the class column? If not, how is it related to it?**"
   ]
  },
  {
   "cell_type": "markdown",
   "id": "c502b99a",
   "metadata": {
    "id": "c502b99a"
   },
   "source": [
    "***Since, our objective is to solve a classification problem using linear regression, the output variable of our linear model will be continuous rather than discrete. It will not be the same as the class column but we will try to approximate our outputs to the class column depending upon the distribution of our outputs.***"
   ]
  },
  {
   "cell_type": "markdown",
   "id": "b49bb937",
   "metadata": {
    "id": "b49bb937"
   },
   "source": [
    "**Below we run our batch gradient descent on Training dataset for 1000 iterations and 0.01 as our learning rate.**"
   ]
  },
  {
   "cell_type": "code",
   "execution_count": 71,
   "id": "aae9ab08",
   "metadata": {
    "id": "aae9ab08"
   },
   "outputs": [
    {
     "name": "stdout",
     "output_type": "stream",
     "text": [
      "iteration: 0 loss: target_class    7.252821\n",
      "dtype: float64\n",
      "iteration: 10 loss: target_class    4.608679\n",
      "dtype: float64\n",
      "iteration: 20 loss: target_class    3.38293\n",
      "dtype: float64\n",
      "iteration: 30 loss: target_class    2.793382\n",
      "dtype: float64\n",
      "iteration: 40 loss: target_class    2.490269\n",
      "dtype: float64\n",
      "iteration: 50 loss: target_class    2.317121\n",
      "dtype: float64\n",
      "iteration: 60 loss: target_class    2.203879\n",
      "dtype: float64\n",
      "iteration: 70 loss: target_class    2.119119\n",
      "dtype: float64\n",
      "iteration: 80 loss: target_class    2.048692\n",
      "dtype: float64\n",
      "iteration: 90 loss: target_class    1.986178\n",
      "dtype: float64\n",
      "iteration: 100 loss: target_class    1.92862\n",
      "dtype: float64\n",
      "iteration: 110 loss: target_class    1.874612\n",
      "dtype: float64\n",
      "iteration: 120 loss: target_class    1.82345\n",
      "dtype: float64\n",
      "iteration: 130 loss: target_class    1.774747\n",
      "dtype: float64\n",
      "iteration: 140 loss: target_class    1.728263\n",
      "dtype: float64\n",
      "iteration: 150 loss: target_class    1.683827\n",
      "dtype: float64\n",
      "iteration: 160 loss: target_class    1.641304\n",
      "dtype: float64\n",
      "iteration: 170 loss: target_class    1.600581\n",
      "dtype: float64\n",
      "iteration: 180 loss: target_class    1.561553\n",
      "dtype: float64\n",
      "iteration: 190 loss: target_class    1.524126\n",
      "dtype: float64\n",
      "iteration: 200 loss: target_class    1.488214\n",
      "dtype: float64\n",
      "iteration: 210 loss: target_class    1.453735\n",
      "dtype: float64\n",
      "iteration: 220 loss: target_class    1.420614\n",
      "dtype: float64\n",
      "iteration: 230 loss: target_class    1.388778\n",
      "dtype: float64\n",
      "iteration: 240 loss: target_class    1.358162\n",
      "dtype: float64\n",
      "iteration: 250 loss: target_class    1.328702\n",
      "dtype: float64\n",
      "iteration: 260 loss: target_class    1.30034\n",
      "dtype: float64\n",
      "iteration: 270 loss: target_class    1.273021\n",
      "dtype: float64\n",
      "iteration: 280 loss: target_class    1.246692\n",
      "dtype: float64\n",
      "iteration: 290 loss: target_class    1.221304\n",
      "dtype: float64\n",
      "iteration: 300 loss: target_class    1.196812\n",
      "dtype: float64\n",
      "iteration: 310 loss: target_class    1.173172\n",
      "dtype: float64\n",
      "iteration: 320 loss: target_class    1.150343\n",
      "dtype: float64\n",
      "iteration: 330 loss: target_class    1.128287\n",
      "dtype: float64\n",
      "iteration: 340 loss: target_class    1.106968\n",
      "dtype: float64\n",
      "iteration: 350 loss: target_class    1.086351\n",
      "dtype: float64\n",
      "iteration: 360 loss: target_class    1.066403\n",
      "dtype: float64\n",
      "iteration: 370 loss: target_class    1.047095\n",
      "dtype: float64\n",
      "iteration: 380 loss: target_class    1.028398\n",
      "dtype: float64\n",
      "iteration: 390 loss: target_class    1.010284\n",
      "dtype: float64\n",
      "iteration: 400 loss: target_class    0.992727\n",
      "dtype: float64\n",
      "iteration: 410 loss: target_class    0.975704\n",
      "dtype: float64\n",
      "iteration: 420 loss: target_class    0.959191\n",
      "dtype: float64\n",
      "iteration: 430 loss: target_class    0.943166\n",
      "dtype: float64\n",
      "iteration: 440 loss: target_class    0.927609\n",
      "dtype: float64\n",
      "iteration: 450 loss: target_class    0.9125\n",
      "dtype: float64\n",
      "iteration: 460 loss: target_class    0.897821\n",
      "dtype: float64\n",
      "iteration: 470 loss: target_class    0.883555\n",
      "dtype: float64\n",
      "iteration: 480 loss: target_class    0.869683\n",
      "dtype: float64\n",
      "iteration: 490 loss: target_class    0.856191\n",
      "dtype: float64\n",
      "iteration: 500 loss: target_class    0.843064\n",
      "dtype: float64\n",
      "iteration: 510 loss: target_class    0.830287\n",
      "dtype: float64\n",
      "iteration: 520 loss: target_class    0.817847\n",
      "dtype: float64\n",
      "iteration: 530 loss: target_class    0.805731\n",
      "dtype: float64\n",
      "iteration: 540 loss: target_class    0.793926\n",
      "dtype: float64\n",
      "iteration: 550 loss: target_class    0.782421\n",
      "dtype: float64\n",
      "iteration: 560 loss: target_class    0.771206\n",
      "dtype: float64\n",
      "iteration: 570 loss: target_class    0.760268\n",
      "dtype: float64\n",
      "iteration: 580 loss: target_class    0.7496\n",
      "dtype: float64\n",
      "iteration: 590 loss: target_class    0.739189\n",
      "dtype: float64\n",
      "iteration: 600 loss: target_class    0.729029\n",
      "dtype: float64\n",
      "iteration: 610 loss: target_class    0.719109\n",
      "dtype: float64\n",
      "iteration: 620 loss: target_class    0.709422\n",
      "dtype: float64\n",
      "iteration: 630 loss: target_class    0.69996\n",
      "dtype: float64\n",
      "iteration: 640 loss: target_class    0.690715\n",
      "dtype: float64\n",
      "iteration: 650 loss: target_class    0.68168\n",
      "dtype: float64\n",
      "iteration: 660 loss: target_class    0.672848\n",
      "dtype: float64\n",
      "iteration: 670 loss: target_class    0.664212\n",
      "dtype: float64\n",
      "iteration: 680 loss: target_class    0.655766\n",
      "dtype: float64\n",
      "iteration: 690 loss: target_class    0.647505\n",
      "dtype: float64\n",
      "iteration: 700 loss: target_class    0.639422\n",
      "dtype: float64\n",
      "iteration: 710 loss: target_class    0.631511\n",
      "dtype: float64\n",
      "iteration: 720 loss: target_class    0.623768\n",
      "dtype: float64\n",
      "iteration: 730 loss: target_class    0.616188\n",
      "dtype: float64\n",
      "iteration: 740 loss: target_class    0.608765\n",
      "dtype: float64\n",
      "iteration: 750 loss: target_class    0.601494\n",
      "dtype: float64\n",
      "iteration: 760 loss: target_class    0.594372\n",
      "dtype: float64\n",
      "iteration: 770 loss: target_class    0.587395\n",
      "dtype: float64\n",
      "iteration: 780 loss: target_class    0.580557\n",
      "dtype: float64\n",
      "iteration: 790 loss: target_class    0.573855\n",
      "dtype: float64\n",
      "iteration: 800 loss: target_class    0.567285\n",
      "dtype: float64\n",
      "iteration: 810 loss: target_class    0.560844\n",
      "dtype: float64\n",
      "iteration: 820 loss: target_class    0.554528\n",
      "dtype: float64\n",
      "iteration: 830 loss: target_class    0.548333\n",
      "dtype: float64\n",
      "iteration: 840 loss: target_class    0.542257\n",
      "dtype: float64\n",
      "iteration: 850 loss: target_class    0.536295\n",
      "dtype: float64\n",
      "iteration: 860 loss: target_class    0.530446\n",
      "dtype: float64\n",
      "iteration: 870 loss: target_class    0.524706\n",
      "dtype: float64\n",
      "iteration: 880 loss: target_class    0.519073\n",
      "dtype: float64\n",
      "iteration: 890 loss: target_class    0.513543\n",
      "dtype: float64\n",
      "iteration: 900 loss: target_class    0.508114\n",
      "dtype: float64\n",
      "iteration: 910 loss: target_class    0.502784\n",
      "dtype: float64\n",
      "iteration: 920 loss: target_class    0.49755\n",
      "dtype: float64\n",
      "iteration: 930 loss: target_class    0.49241\n",
      "dtype: float64\n",
      "iteration: 940 loss: target_class    0.487361\n",
      "dtype: float64\n",
      "iteration: 950 loss: target_class    0.482401\n",
      "dtype: float64\n",
      "iteration: 960 loss: target_class    0.477529\n",
      "dtype: float64\n",
      "iteration: 970 loss: target_class    0.472741\n",
      "dtype: float64\n",
      "iteration: 980 loss: target_class    0.468037\n",
      "dtype: float64\n",
      "iteration: 990 loss: target_class    0.463413\n",
      "dtype: float64\n"
     ]
    }
   ],
   "source": [
    "w_hist=gradient_descent(X_train_sc,y_train,0.01,1000)"
   ]
  },
  {
   "cell_type": "code",
   "execution_count": 72,
   "id": "b570e427",
   "metadata": {
    "id": "b570e427"
   },
   "outputs": [],
   "source": [
    "param_bias = pd.DataFrame((w_hist[999,:]))"
   ]
  },
  {
   "cell_type": "markdown",
   "id": "4826b219",
   "metadata": {
    "id": "4826b219"
   },
   "source": [
    "***The above operation gives us our final parameter of the linear model***"
   ]
  },
  {
   "cell_type": "markdown",
   "id": "b52cd76c",
   "metadata": {
    "id": "b52cd76c"
   },
   "source": [
    "**Below we do our predictions on the train Dataset using the learned parameters.**"
   ]
  },
  {
   "cell_type": "code",
   "execution_count": 73,
   "id": "0cf379d7",
   "metadata": {
    "id": "0cf379d7"
   },
   "outputs": [],
   "source": [
    "y_pred_gd = np.dot(X_train_sc,param_bias)"
   ]
  },
  {
   "cell_type": "markdown",
   "id": "ad29ffcd",
   "metadata": {
    "id": "ad29ffcd"
   },
   "source": [
    "**Let's check some statistic of our final predictions.**"
   ]
  },
  {
   "cell_type": "code",
   "execution_count": 74,
   "id": "05e250aa",
   "metadata": {
    "id": "05e250aa"
   },
   "outputs": [
    {
     "name": "stdout",
     "output_type": "stream",
     "text": [
      "The mean of our predictions:  0.24354183768930524\n",
      "The min of our predictions:  [-5.10278272]\n",
      "The max of our predictions:  [4.96365383]\n"
     ]
    }
   ],
   "source": [
    "print('The mean of our predictions: ',y_pred_gd.mean())\n",
    "print('The min of our predictions: ',min(y_pred_gd))\n",
    "print('The max of our predictions: ',max(y_pred_gd))"
   ]
  },
  {
   "cell_type": "code",
   "execution_count": 75,
   "id": "93681415",
   "metadata": {
    "id": "93681415"
   },
   "outputs": [
    {
     "name": "stdout",
     "output_type": "stream",
     "text": [
      "The Root Mean Squared Error of our predictions:  target_class    0.957987\n",
      "dtype: float64\n",
      "The Mean absolute Error of our predictions:  target_class    0.754268\n",
      "dtype: float64\n"
     ]
    }
   ],
   "source": [
    "residuals_gd = y_pred_gd-y_train\n",
    "rmse = np.sqrt(np.sum(residuals_gd**2)/len(residuals_gd))\n",
    "mae = np.sum(abs(residuals_gd))/len(residuals_gd)\n",
    "print(\"The Root Mean Squared Error of our predictions: \", rmse)\n",
    "print(\"The Mean absolute Error of our predictions: \", mae)"
   ]
  },
  {
   "cell_type": "markdown",
   "id": "c987397f",
   "metadata": {
    "id": "c987397f"
   },
   "source": [
    "**2.4.b. Is there any predictability in predicting the output variable in our dataset?**"
   ]
  },
  {
   "cell_type": "markdown",
   "id": "d5f06e3d",
   "metadata": {
    "id": "d5f06e3d"
   },
   "source": [
    "***There doesn't seem enough predictability in predicting the output variable in our dataset as the error in our predictions are too high.***"
   ]
  },
  {
   "cell_type": "markdown",
   "id": "62994e60",
   "metadata": {
    "id": "62994e60"
   },
   "source": [
    "**2.4.c. Plot the histogram of residuals using pandas directly (e.g., df.hist(bins=...)). What number of bins was useful for your visualization?**"
   ]
  },
  {
   "cell_type": "code",
   "execution_count": 76,
   "id": "b2fdc8af",
   "metadata": {
    "id": "b2fdc8af"
   },
   "outputs": [
    {
     "data": {
      "text/plain": [
       "<AxesSubplot:ylabel='Frequency'>"
      ]
     },
     "execution_count": 76,
     "metadata": {},
     "output_type": "execute_result"
    },
    {
     "data": {
      "image/png": "[encoded data removed]",
      "text/plain": [
       "<Figure size 432x288 with 1 Axes>"
      ]
     },
     "metadata": {
      "needs_background": "light"
     },
     "output_type": "display_data"
    }
   ],
   "source": [
    "residuals_gd.plot.hist(bins=50,color='red', edgecolor='black')"
   ]
  },
  {
   "cell_type": "markdown",
   "id": "5358fcef",
   "metadata": {
    "id": "5358fcef"
   },
   "source": [
    "***The number of bins successful for our visualization is 50.***"
   ]
  },
  {
   "cell_type": "markdown",
   "id": "8a750a52",
   "metadata": {
    "id": "8a750a52"
   },
   "source": [
    "**2.4.d. Are the residuals normally distributed? What is their mean and variance?**"
   ]
  },
  {
   "cell_type": "code",
   "execution_count": 77,
   "id": "1d6100de",
   "metadata": {
    "id": "1d6100de"
   },
   "outputs": [
    {
     "name": "stdout",
     "output_type": "stream",
     "text": [
      "Mean of Residuals using Gradient Descent:  target_class    0.004656\n",
      "dtype: float64\n",
      "Variance of Residuals using Gradient Descent:  target_class    0.91774\n",
      "dtype: float64\n"
     ]
    }
   ],
   "source": [
    "print('Mean of Residuals using Gradient Descent: ' ,residuals_gd.mean())\n",
    "print('Variance of Residuals using Gradient Descent: ' ,residuals_gd.var())"
   ]
  },
  {
   "cell_type": "markdown",
   "id": "8bfb1d9f",
   "metadata": {
    "id": "8bfb1d9f"
   },
   "source": [
    "***The residuals are normally distributed. This is evident from the fact that we performed feature scaling and mean normalization on our dataset.***"
   ]
  },
  {
   "cell_type": "markdown",
   "id": "45e37e4b",
   "metadata": {
    "id": "45e37e4b"
   },
   "source": [
    "**2.4.e and 2.4.f**"
   ]
  },
  {
   "cell_type": "markdown",
   "id": "cecccb27",
   "metadata": {
    "id": "cecccb27"
   },
   "source": [
    "**Computationally show that Xt*X is positive definite by computing all its eigenvalues and showing that they are positive and real.**"
   ]
  },
  {
   "cell_type": "code",
   "execution_count": 78,
   "id": "f37fbc5d",
   "metadata": {
    "id": "f37fbc5d"
   },
   "outputs": [],
   "source": [
    "Xtr_X= np.dot(X_train.T,X_train)"
   ]
  },
  {
   "cell_type": "markdown",
   "id": "7fdc8fcc",
   "metadata": {
    "id": "7fdc8fcc"
   },
   "source": [
    "**Calculating the Eigen Values**"
   ]
  },
  {
   "cell_type": "code",
   "execution_count": 79,
   "id": "e4543e51",
   "metadata": {
    "id": "e4543e51"
   },
   "outputs": [
    {
     "name": "stdout",
     "output_type": "stream",
     "text": [
      "E-values: [1.83651074e+15 2.16188533e+12 6.47587496e+09 3.71533207e+07\n",
      " 6.20995079e+06 3.88567995e+05 1.87560444e+04 1.37008778e+04\n",
      " 1.01561180e+04 9.47073847e+03 8.41934898e+03 7.19488453e+03\n",
      " 6.25978750e+03 5.05341422e+03 4.53893722e+03 4.39389010e+03\n",
      " 4.16214722e+03 4.02880952e+03 3.84723345e+03 3.57216323e+03\n",
      " 3.15643271e+03 2.72178297e+03 2.58951426e+03 2.38463916e+03\n",
      " 2.06468571e+03 1.89741647e+03 1.73792841e+03 1.65187523e+03\n",
      " 1.51670717e+03 1.45228966e+03 1.41879524e+03 1.32154099e+03\n",
      " 1.33685254e+03 1.22852202e+03 1.17381814e+03 1.10296318e+03\n",
      " 1.05179440e+03 9.42214314e+02 7.81784850e+02 7.51511936e+02\n",
      " 7.34120948e+02 7.17724034e+02 6.43042355e+02 5.43177475e+02\n",
      " 5.28752538e+02 4.68612326e+02 4.37279912e+02 4.21075064e+02\n",
      " 3.65099864e+02 2.96833115e+02 2.45237449e+02 1.99644511e+02\n",
      " 1.72998258e+02 1.71373774e+02 1.62589682e+02 1.52611375e+02\n",
      " 1.38973151e+02 1.20708857e+02 1.13071927e+02 1.07202549e+02\n",
      " 1.04306882e+02 9.39312553e+01 9.31150824e+01 8.64067067e+01\n",
      " 8.41840934e+01 7.99323561e+01 7.79744893e+01 7.70846619e+01\n",
      " 7.49165352e+01 7.01567032e+01 6.44017491e+01 6.34536426e+01\n",
      " 6.07933675e+01 5.93621990e+01 5.56287616e+01 4.97924556e+01\n",
      " 4.76476377e+01 4.67543526e+01 1.03783411e+00 4.09453207e-01\n",
      " 4.02152929e+01 3.82562822e+01 3.72195215e+01 3.51921762e+01\n",
      " 1.01592194e+01 1.27774375e+01 1.34320963e+01 3.07543487e+01\n",
      " 2.85152540e+01 2.58298252e+01 2.50398409e+01 1.79324736e+01\n",
      " 1.86867893e+01 2.38640978e+01 2.01837218e+01 2.04463139e+01\n",
      " 2.11753497e+01 2.20643757e+01 2.25739341e+01 6.70301165e-10\n",
      " 1.74618232e-11]\n"
     ]
    }
   ],
   "source": [
    "# Eigen Values\n",
    "w,v=np.linalg.eig(Xtr_X)\n",
    "print('E-values:', w)"
   ]
  },
  {
   "cell_type": "markdown",
   "id": "b7cae8c0",
   "metadata": {
    "id": "b7cae8c0"
   },
   "source": [
    "***From above we can see that all the eigen values of out Xt*X matrix is positive semi-definite.***"
   ]
  },
  {
   "cell_type": "markdown",
   "id": "7b1a0385",
   "metadata": {
    "id": "7b1a0385"
   },
   "source": [
    "**Compare the solution obtained with the one that can be derived using normal equations (compute this using numpy).**"
   ]
  },
  {
   "cell_type": "code",
   "execution_count": 80,
   "id": "2098d16f",
   "metadata": {
    "id": "2098d16f"
   },
   "outputs": [],
   "source": [
    "# Normal Equation\n",
    "Xtr_X_inv = np.linalg.inv(Xtr_X)\n",
    "Xtr_X_inv_dot = np.dot(Xtr_X_inv,X_train.T)\n",
    "W_f = np.dot(Xtr_X_inv_dot,y_train)"
   ]
  },
  {
   "cell_type": "code",
   "execution_count": 81,
   "id": "4a3c1827",
   "metadata": {
    "id": "4a3c1827"
   },
   "outputs": [
    {
     "data": {
      "text/plain": [
       "array([[ 32.04396729],\n",
       "       [ 69.92208409],\n",
       "       [ 70.70120371],\n",
       "       ...,\n",
       "       [ 37.37512829],\n",
       "       [ 33.19023237],\n",
       "       [-17.19285009]])"
      ]
     },
     "execution_count": 81,
     "metadata": {},
     "output_type": "execute_result"
    }
   ],
   "source": [
    "y_pred_ne = np.dot(X_train,W_f)\n",
    "y_pred_ne"
   ]
  },
  {
   "cell_type": "code",
   "execution_count": 82,
   "id": "09c0125a",
   "metadata": {
    "id": "09c0125a"
   },
   "outputs": [
    {
     "name": "stdout",
     "output_type": "stream",
     "text": [
      "Mean of Residuals using Normal Equation:  target_class    10.589638\n",
      "dtype: float64\n",
      "Variance of Residuals using Normal Equation:  target_class    1306.440397\n",
      "dtype: float64\n"
     ]
    }
   ],
   "source": [
    "residuals_ne = y_pred_ne-y_train\n",
    "print('Mean of Residuals using Normal Equation: ' ,residuals_ne.mean())\n",
    "print('Variance of Residuals using Normal Equation: ' ,residuals_ne.var())"
   ]
  },
  {
   "cell_type": "code",
   "execution_count": 83,
   "id": "1ed80abc",
   "metadata": {
    "id": "1ed80abc"
   },
   "outputs": [
    {
     "data": {
      "text/plain": [
       "<AxesSubplot:ylabel='Frequency'>"
      ]
     },
     "execution_count": 83,
     "metadata": {},
     "output_type": "execute_result"
    },
    {
     "data": {
      "image/png": "[encoded data removed]",
      "text/plain": [
       "<Figure size 432x288 with 1 Axes>"
      ]
     },
     "metadata": {
      "needs_background": "light"
     },
     "output_type": "display_data"
    }
   ],
   "source": [
    "residuals_ne.plot.hist(bins=50,color='blue', edgecolor='black')"
   ]
  },
  {
   "cell_type": "markdown",
   "id": "50fa6f77",
   "metadata": {
    "id": "50fa6f77"
   },
   "source": [
    "***We can see that the residuals obtained from using Normal Equation is normally distributed. However, the mean of residuals from Normal equation is lower and negative as compared to one obtained using BGD. Also, the variance obtained using Normal Equation is higher than the variance from BGD.***"
   ]
  },
  {
   "cell_type": "markdown",
   "id": "f94e5dc1",
   "metadata": {
    "id": "f94e5dc1"
   },
   "source": [
    "## 2.5. Given the solution of linear regression, predict the class column and report mis-classification error on validation data. Compare the performance of this classifier against decision tree classifier that you have implemented in Assignment 1."
   ]
  },
  {
   "cell_type": "code",
   "execution_count": 84,
   "id": "3bfff1f7",
   "metadata": {
    "id": "3bfff1f7"
   },
   "outputs": [
    {
     "data": {
      "text/plain": [
       "9769"
      ]
     },
     "execution_count": 84,
     "metadata": {},
     "output_type": "execute_result"
    }
   ],
   "source": [
    "y_pred_test = np.dot(X_test_sc,param_bias)\n",
    "len(y_pred_test)"
   ]
  },
  {
   "cell_type": "markdown",
   "id": "8b395fdd",
   "metadata": {
    "id": "8b395fdd"
   },
   "source": [
    "**Rounding Off the output of linear regression to get our target class**"
   ]
  },
  {
   "cell_type": "code",
   "execution_count": 85,
   "id": "81346448",
   "metadata": {
    "id": "81346448"
   },
   "outputs": [
    {
     "name": "stdout",
     "output_type": "stream",
     "text": [
      "[[ 0.31820144]\n",
      " [-0.27167588]\n",
      " [ 0.15912495]\n",
      " [ 0.305528  ]\n",
      " [ 0.14820034]]\n"
     ]
    },
    {
     "data": {
      "text/html": [
       "<div>\n",
       "<style scoped>\n",
       "    .dataframe tbody tr th:only-of-type {\n",
       "        vertical-align: middle;\n",
       "    }\n",
       "\n",
       "    .dataframe tbody tr th {\n",
       "        vertical-align: top;\n",
       "    }\n",
       "\n",
       "    .dataframe thead th {\n",
       "        text-align: right;\n",
       "    }\n",
       "</style>\n",
       "<table border=\"1\" class=\"dataframe\">\n",
       "  <thead>\n",
       "    <tr style=\"text-align: right;\">\n",
       "      <th></th>\n",
       "      <th>y_pred</th>\n",
       "    </tr>\n",
       "  </thead>\n",
       "  <tbody>\n",
       "    <tr>\n",
       "      <th>0</th>\n",
       "      <td>0</td>\n",
       "    </tr>\n",
       "    <tr>\n",
       "      <th>1</th>\n",
       "      <td>0</td>\n",
       "    </tr>\n",
       "    <tr>\n",
       "      <th>2</th>\n",
       "      <td>0</td>\n",
       "    </tr>\n",
       "    <tr>\n",
       "      <th>3</th>\n",
       "      <td>0</td>\n",
       "    </tr>\n",
       "    <tr>\n",
       "      <th>4</th>\n",
       "      <td>0</td>\n",
       "    </tr>\n",
       "  </tbody>\n",
       "</table>\n",
       "</div>"
      ],
      "text/plain": [
       "   y_pred\n",
       "0       0\n",
       "1       0\n",
       "2       0\n",
       "3       0\n",
       "4       0"
      ]
     },
     "execution_count": 85,
     "metadata": {},
     "output_type": "execute_result"
    }
   ],
   "source": [
    "y_pred_test1 = []\n",
    "for i in y_pred_test:\n",
    "  if i >= 0.5:\n",
    "      y_pred_test1.append(1)\n",
    "  else:\n",
    "      y_pred_test1.append(0)\n",
    "print(y_pred_test[0:5])\n",
    "y_pred_test1 = pd.DataFrame(y_pred_test1,columns=['y_pred'])\n",
    "y_pred_test1.head()"
   ]
  },
  {
   "cell_type": "code",
   "execution_count": 86,
   "id": "cb7f8139",
   "metadata": {
    "id": "cb7f8139"
   },
   "outputs": [],
   "source": [
    "y_test_copy=y_test.copy(deep=True)\n",
    "y_test_copy.reset_index(inplace=True)"
   ]
  },
  {
   "cell_type": "markdown",
   "id": "3516383e",
   "metadata": {
    "id": "3516383e"
   },
   "source": [
    "**Calculating Misclassification rate**"
   ]
  },
  {
   "cell_type": "code",
   "execution_count": 87,
   "id": "3e977e14",
   "metadata": {
    "id": "3e977e14"
   },
   "outputs": [
    {
     "name": "stdout",
     "output_type": "stream",
     "text": [
      "Misclassification Rate:  0.374654519398096\n"
     ]
    }
   ],
   "source": [
    "print(\"Misclassification Rate: \",sum((y_pred_test1['y_pred'] != y_test_copy['target_class']))/len(y_test_copy))"
   ]
  },
  {
   "cell_type": "markdown",
   "id": "d4989913",
   "metadata": {
    "id": "d4989913"
   },
   "source": [
    "***From above, we can a misclassification rate of 35% if we use our regressor for classification task***"
   ]
  },
  {
   "cell_type": "markdown",
   "id": "yXL6vA3LqIY-",
   "metadata": {
    "id": "yXL6vA3LqIY-"
   },
   "source": [
    "Classification using the Decision Tree Classifier from Assignment 1"
   ]
  },
  {
   "cell_type": "code",
   "execution_count": 88,
   "id": "cd023386",
   "metadata": {
    "id": "cd023386"
   },
   "outputs": [],
   "source": [
    "# Function to perform training with giniIndex.\n",
    "def train_using_gini(X_train, X_test, y_train):\n",
    "    # Creating the classifier object\n",
    "    clf_gini = DecisionTreeClassifier(criterion = \"gini\",\n",
    "            random_state = 100,max_depth=3, min_samples_leaf=5)\n",
    "  \n",
    "    # Performing training\n",
    "    clf_gini.fit(X_train, y_train)\n",
    "    return clf_gini\n",
    "\n",
    "# Function to perform training with entropy.\n",
    "def tarin_using_entropy(X_train, X_test, y_train):\n",
    "  \n",
    "    # Decision tree with entropy\n",
    "    clf_entropy = DecisionTreeClassifier(\n",
    "            criterion = \"entropy\", random_state = 100,\n",
    "            max_depth = 3, min_samples_leaf = 5)\n",
    "  \n",
    "    # Performing training\n",
    "    clf_entropy.fit(X_train, y_train)\n",
    "    return clf_entropy\n",
    "\n",
    "# Function to make predictions\n",
    "def prediction(X_test, clf_object):\n",
    "  \n",
    "    # Predicton on test with giniIndex\n",
    "    y_pred = clf_object.predict(X_test)\n",
    "    print(\"Predicted values:\")\n",
    "    print(y_pred)\n",
    "    return y_pred\n",
    "\n",
    "#Function to calculate confusion matrix \n",
    "def Confusion_Matrix(counts):\n",
    "    classes = int(max(y_test) - min(y_test)) + 1 #find number of classes\n",
    "    counts = [[sum([(y_test[i] == true_class) and (y_pred[i] == pred_class) \n",
    "                for i in range(len(y_test))])\n",
    "           for pred_class in range(1, classes + 1)] \n",
    "           for true_class in range(1, classes + 1)]\n",
    "    print(\"CM is\" , (counts))\n",
    "    return counts\n",
    "\n",
    "\n",
    "# Function to calculate accuracy\n",
    "def cal_accuracy(y_test, y_pred):\n",
    "      \n",
    "    print(\"Confusion Matrix: \",\n",
    "    confusion_matrix(y_test, y_pred))\n",
    "      \n",
    "    print (\"Accuracy : \",\n",
    "    accuracy_score(y_test,y_pred)*100)\n",
    "      \n",
    "    print(\"Report : \",\n",
    "    classification_report(y_test, y_pred))\n",
    "\n",
    "def entropy4(label, base=None):\n",
    "    value,counts = np.unique(label, return_counts=True)\n",
    "    norm_counts = counts / counts.sum()\n",
    "    base = e if base is None else base\n",
    "    entropyx = -(norm_counts * np.log(norm_counts)/np.log(base)).sum()\n",
    "    print( \"The entropy is : \", (entropyx))\n",
    "    return entropyx"
   ]
  },
  {
   "cell_type": "code",
   "execution_count": 89,
   "id": "3f4715d7",
   "metadata": {
    "id": "3f4715d7"
   },
   "outputs": [
    {
     "name": "stdout",
     "output_type": "stream",
     "text": [
      "Results for Decision Tree Classifier\n",
      "Results Using Gini Index:\n",
      "Predicted values:\n",
      "[0 0 0 ... 0 0 0]\n",
      "Confusion Matrix:  [[7025  391]\n",
      " [1143 1210]]\n",
      "Accuracy :  84.29726686457161\n",
      "Report :                precision    recall  f1-score   support\n",
      "\n",
      "           0       0.86      0.95      0.90      7416\n",
      "           1       0.76      0.51      0.61      2353\n",
      "\n",
      "    accuracy                           0.84      9769\n",
      "   macro avg       0.81      0.73      0.76      9769\n",
      "weighted avg       0.83      0.84      0.83      9769\n",
      "\n",
      "Results Using Entropy:\n",
      "Predicted values:\n",
      "[0 0 0 ... 0 0 0]\n",
      "Confusion Matrix:  [[7025  391]\n",
      " [1143 1210]]\n",
      "Accuracy :  84.29726686457161\n",
      "Report :                precision    recall  f1-score   support\n",
      "\n",
      "           0       0.86      0.95      0.90      7416\n",
      "           1       0.76      0.51      0.61      2353\n",
      "\n",
      "    accuracy                           0.84      9769\n",
      "   macro avg       0.81      0.73      0.76      9769\n",
      "weighted avg       0.83      0.84      0.83      9769\n",
      "\n",
      "The entropy is :  0.5502506190603338\n"
     ]
    }
   ],
   "source": [
    "def main():\n",
    "      \n",
    "    # Building Phase\n",
    "    print('Results for Decision Tree Classifier')\n",
    "    clf_gini = train_using_gini(X_train, X_test, y_train)\n",
    "    clf_entropy = tarin_using_entropy(X_train, X_test, y_train)\n",
    "    y=df_fin['target_class'] #Target labels for the entire dataset\n",
    "      \n",
    "    # Operational Phase\n",
    "    print(\"Results Using Gini Index:\")\n",
    "      \n",
    "    # Prediction using gini\n",
    "    y_pred_gini = prediction(X_test, clf_gini)\n",
    "    cal_accuracy(y_test, y_pred_gini)\n",
    "      \n",
    "    print(\"Results Using Entropy:\")\n",
    "    # Prediction using entropy\n",
    "    y_pred_entropy = prediction(X_test, clf_entropy)\n",
    "    cal_accuracy(y_test, y_pred_entropy)\n",
    "    cl = clf_gini.fit(X_train, y_train)\n",
    "    y_pred = cl.predict(X_test)\n",
    "    entropy4(y) \n",
    "\n",
    "     \n",
    "        \n",
    "main()"
   ]
  },
  {
   "cell_type": "markdown",
   "id": "b9e510ab",
   "metadata": {
    "id": "b9e510ab"
   },
   "source": [
    "**From above, we can see that the Accuracy using both Gini Index and Entropy methods is ~85%, implying that the misclassification rate is around 15% if we use the decision tree classifier.**"
   ]
  },
  {
   "cell_type": "markdown",
   "id": "4oV67asJhRkp",
   "metadata": {
    "id": "4oV67asJhRkp"
   },
   "source": [
    "# 3. Likelihood Maximization"
   ]
  },
  {
   "cell_type": "markdown",
   "id": "c22Sbxk9haN9",
   "metadata": {
    "id": "c22Sbxk9haN9"
   },
   "source": [
    "#### Necessary Imports"
   ]
  },
  {
   "cell_type": "code",
   "execution_count": 90,
   "id": "DQlF-CFOhTqp",
   "metadata": {
    "id": "DQlF-CFOhTqp"
   },
   "outputs": [],
   "source": [
    "import random\n",
    "import math\n",
    "import matplotlib.pyplot as plt\n",
    "import numpy as np\n",
    "import pandas as pd\n",
    "import seaborn as sns\n",
    "import time\n",
    "from scipy import stats \n",
    "from sklearn import datasets\n",
    "%matplotlib inline"
   ]
  },
  {
   "cell_type": "code",
   "execution_count": 91,
   "id": "oABmxpC1hbOV",
   "metadata": {
    "id": "oABmxpC1hbOV"
   },
   "outputs": [],
   "source": [
    "#function for calculating theta from alpha\n",
    "def func_finding_theta(alpha):\n",
    "  return 1/(1+(math.exp(-alpha)))"
   ]
  },
  {
   "cell_type": "code",
   "execution_count": 92,
   "id": "e-YU9FHM-ri4",
   "metadata": {
    "id": "e-YU9FHM-ri4"
   },
   "outputs": [],
   "source": [
    "#function for calculating f(theta) from theta\n",
    "def func_theta(theta):\n",
    "  return (theta ** 3)*((1-theta) ** 7)"
   ]
  },
  {
   "cell_type": "markdown",
   "id": "NOKImAmzivEQ",
   "metadata": {
    "id": "NOKImAmzivEQ"
   },
   "source": [
    "## 3.1 Ploting the function when alpha is between -6 and 6"
   ]
  },
  {
   "cell_type": "code",
   "execution_count": 93,
   "id": "oPpcsjloinXL",
   "metadata": {
    "id": "oPpcsjloinXL"
   },
   "outputs": [
    {
     "data": {
      "image/png": "[encoded data removed]",
      "text/plain": [
       "<Figure size 432x288 with 1 Axes>"
      ]
     },
     "metadata": {
      "needs_background": "light"
     },
     "output_type": "display_data"
    }
   ],
   "source": [
    "#Generate 500 random numbers between -6 and 6\n",
    "alphaslist = [random.uniform(-6,6) for i in range(500)]\n",
    "\n",
    "#Initializing lists to store the values of theta and f(theta) for all the alpha values\n",
    "func_theta_values=[]\n",
    "theta_values=[]\n",
    "\n",
    "i=0 #variable to access elements in a list\n",
    "for alpha in alphaslist:\n",
    "  theta_values.append(func_finding_theta(alpha)) #appending values of theta generated from all alpha values\n",
    "  func_theta_values.append(func_theta(theta_values[i])) #appending f(theta) values for all alpha values\n",
    "  i=i+1\n",
    "\n",
    "plt.scatter(alphaslist, func_theta_values) #producing a scatterplot with alpha and f(theta) values\n",
    "plt.xlabel('alpha values') #x axis\n",
    "plt.ylabel('f(theta) values') #y axis\n",
    "# displaying the title\n",
    "plt.title(label=\"f(theta) when alpha lies between -6 and 6\", color=\"green\")\n",
    "plt.show()"
   ]
  },
  {
   "cell_type": "markdown",
   "id": "RHou9vnG-0nh",
   "metadata": {
    "id": "RHou9vnG-0nh"
   },
   "source": [
    "## 3.2 Maximizing the function over alpha using SGD that was implemented in Q1."
   ]
  },
  {
   "cell_type": "code",
   "execution_count": 94,
   "id": "zomhJajU-vMv",
   "metadata": {
    "id": "zomhJajU-vMv"
   },
   "outputs": [],
   "source": [
    "#Cost function (calculates the square of sum of differences of actual and predicted value )\n",
    "def cal_cost(theta,X,y):\n",
    "    m = len(y)\n",
    "    predictions = X*(theta)\n",
    "    cost = (1/2*m) * np.sum(np.square(predictions-y))\n",
    "    return cost"
   ]
  },
  {
   "cell_type": "code",
   "execution_count": 95,
   "id": "-Byti_Yj-5fr",
   "metadata": {
    "id": "-Byti_Yj-5fr"
   },
   "outputs": [],
   "source": [
    "#Implementing SGD \n",
    "\n",
    "def stocashtic_gradient_descent_mle(X, y, theta, learning_rate, iterations):\n",
    "  mle_thetas=[]\n",
    "  j_thetas=[]\n",
    "  m = int(len(y))\n",
    "  cost_history = np.zeros(iterations)\n",
    "  for it in range(iterations):\n",
    "    cost = 0.0\n",
    "    for i in range(m):\n",
    "      rand_ind = np.random.randint(0, m)\n",
    "      X_i = X[i]\n",
    "      y_i = y[i]\n",
    "      prediction = np.dot(X_i, theta)\n",
    "      theta = theta - (1 / m) * learning_rate * (X_i*(prediction - y_i)) \n",
    "      mle_thetas.append(theta[0][0])\n",
    "      cost += cal_cost(theta, X, y)\n",
    "      j_thetas.append(cost)\n",
    "      cost_history[it] = cost\n",
    "    return theta, cost_history, j_thetas, mle_thetas"
   ]
  },
  {
   "cell_type": "code",
   "execution_count": 96,
   "id": "Z-Ka6WxU--Uz",
   "metadata": {
    "id": "Z-Ka6WxU--Uz"
   },
   "outputs": [
    {
     "name": "stdout",
     "output_type": "stream",
     "text": [
      "Theta0: 1.313,\n",
      "Theta1:-0.863\n",
      "Final cost/MSE:  0.000\n"
     ]
    },
    {
     "data": {
      "text/plain": [
       "Text(0, 0.5, 'Cost function')"
      ]
     },
     "execution_count": 96,
     "metadata": {},
     "output_type": "execute_result"
    },
    {
     "data": {
      "image/png": "[encoded data removed]",
      "text/plain": [
       "<Figure size 432x288 with 1 Axes>"
      ]
     },
     "metadata": {
      "needs_background": "light"
     },
     "output_type": "display_data"
    }
   ],
   "source": [
    "#Overall the cost has reduced \n",
    "lr = 0.05\n",
    "n_iter = 1000\n",
    "theta = np.random.randn(2, 1)\n",
    "\n",
    "#Using the values of alpha and f(theta) in the Stochastic Gradient Descent function\n",
    "\n",
    "theta,cost_history, j_thetas, mle_thetas= stocashtic_gradient_descent_mle(alphaslist, func_theta_values, theta, learning_rate=0.01, iterations=1000)\n",
    "\n",
    "print(\"Theta0: {:0.3f},\\nTheta1:{:0.3f}\".format(theta[0][0], theta[1][0]))\n",
    "print(\"Final cost/MSE:  {:0.3f}\".format(cost_history[-1]))\n",
    "\n",
    "plt.plot(j_thetas, mle_thetas)\n",
    "plt.title(\"Maximimum Likelihood Estimation for f(theta)\")\n",
    "plt.xlabel(\"theta\")\n",
    "plt.ylabel(\"Cost function\")"
   ]
  },
  {
   "cell_type": "markdown",
   "id": "T0kFkb8M_74u",
   "metadata": {
    "id": "T0kFkb8M_74u"
   },
   "source": [
    "## 3.3 Maximizing the log of the function over alpha using SGD"
   ]
  },
  {
   "cell_type": "code",
   "execution_count": 97,
   "id": "0TCATy71_-0Q",
   "metadata": {
    "id": "0TCATy71_-0Q"
   },
   "outputs": [],
   "source": [
    "#Calculating the log of f(theta)\n",
    "\n",
    "log_func_theta_values=[]\n",
    "for i in range(0, len(func_theta_values)):\n",
    "  log_func_theta_values.append(math.log10(func_theta_values[i]))\n",
    "  #print(i)"
   ]
  },
  {
   "cell_type": "code",
   "execution_count": 98,
   "id": "azKvJPB7FHDs",
   "metadata": {
    "id": "azKvJPB7FHDs"
   },
   "outputs": [
    {
     "name": "stdout",
     "output_type": "stream",
     "text": [
      "Theta0: 1.075,\n",
      "Theta1:-0.870\n",
      "Final cost/MSE:  0.000\n"
     ]
    },
    {
     "data": {
      "text/plain": [
       "Text(0, 0.5, 'Cost function')"
      ]
     },
     "execution_count": 98,
     "metadata": {},
     "output_type": "execute_result"
    },
    {
     "data": {
      "image/png": "[encoded data removed]",
      "text/plain": [
       "<Figure size 432x288 with 1 Axes>"
      ]
     },
     "metadata": {
      "needs_background": "light"
     },
     "output_type": "display_data"
    }
   ],
   "source": [
    "theta,cost_history, j_thetas, mle_thetas = stocashtic_gradient_descent_mle(alphaslist, log_func_theta_values, theta, learning_rate=0.01, iterations=10)\n",
    "\n",
    "print(\"Theta0: {:0.3f},\\nTheta1:{:0.3f}\".format(theta[0][0], theta[1][0]))\n",
    "print(\"Final cost/MSE:  {:0.3f}\".format(cost_history[-1]))\n",
    "\n",
    "plt.plot(j_thetas, mle_thetas)\n",
    "plt.title(\"Maximimum Likelihood Estimation for log(f(theta)\")\n",
    "plt.xlabel(\"theta\")\n",
    "plt.ylabel(\"Cost function\")"
   ]
  },
  {
   "cell_type": "markdown",
   "id": "RRzuqqpCvZqm",
   "metadata": {
    "id": "RRzuqqpCvZqm"
   },
   "source": [
    "***The solutions obtained in maximizing f(theta) and log(f(theta)) are the same. This follows from Maximum Likelihood Estimation that argmax(L) = argmax(log(L)) as the theta which maximizes Likehood(theta) is the same theta which maximizes log(Likelihood(theta))*** "
   ]
  },
  {
   "cell_type": "code",
   "execution_count": null,
   "id": "0fcafe31",
   "metadata": {},
   "outputs": [],
   "source": []
  }
 ],
 "metadata": {
  "colab": {
   "collapsed_sections": [
    "d383d63e"
   ],
   "name": "final_notebook.ipynb",
   "provenance": []
  },
  "kernelspec": {
   "display_name": "Python 3 (ipykernel)",
   "language": "python",
   "name": "python3"
  },
  "language_info": {
   "codemirror_mode": {
    "name": "ipython",
    "version": 3
   },
   "file_extension": ".py",
   "mimetype": "text/x-python",
   "name": "python",
   "nbconvert_exporter": "python",
   "pygments_lexer": "ipython3",
   "version": "3.9.7"
  }
 },
 "nbformat": 4,
 "nbformat_minor": 5
}
